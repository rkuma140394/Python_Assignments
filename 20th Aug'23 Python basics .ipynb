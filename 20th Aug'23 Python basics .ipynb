{
 "cells": [
  {
   "cell_type": "code",
   "execution_count": 3,
   "id": "89ed4417",
   "metadata": {},
   "outputs": [
    {
     "name": "stdout",
     "output_type": "stream",
     "text": [
      "!dlroW ,olleH\n"
     ]
    }
   ],
   "source": [
    "#Write a program to reverse a string.\n",
    "def reverse_string(s):\n",
    "    return s[::-1]\n",
    "\n",
    "# Example usage\n",
    "input_string = \"Hello, World!\"\n",
    "reversed_string = reverse_string(input_string)\n",
    "print(reversed_string)"
   ]
  },
  {
   "cell_type": "code",
   "execution_count": 7,
   "id": "17cfc45c",
   "metadata": {},
   "outputs": [
    {
     "name": "stdout",
     "output_type": "stream",
     "text": [
      "HELLO, WORLD!\n"
     ]
    }
   ],
   "source": [
    "#Convert a string to uppercase.\n",
    "input_string = \"Hello, World!\"\n",
    "uppercase_string = input_string.upper()\n",
    "print(uppercase_string)"
   ]
  },
  {
   "cell_type": "code",
   "execution_count": 14,
   "id": "4465edf2",
   "metadata": {},
   "outputs": [
    {
     "name": "stdout",
     "output_type": "stream",
     "text": [
      "True\n"
     ]
    }
   ],
   "source": [
    "#Check if a string is a palindrome.\n",
    "def is_palindrome(s):\n",
    "    # Normalize the string by removing spaces and converting to lowercase\n",
    "    normalized_str = ''.join(s.lower().split())\n",
    "    return normalized_str == normalized_str[::-1]\n",
    "\n",
    "# Example usage\n",
    "input_string = \"A man a plan a canal Panama\"\n",
    "print(is_palindrome(input_string))\n"
   ]
  },
  {
   "cell_type": "code",
   "execution_count": 13,
   "id": "9afafb23",
   "metadata": {},
   "outputs": [
    {
     "name": "stdout",
     "output_type": "stream",
     "text": [
      "amanaplanacanalpanama\n"
     ]
    }
   ],
   "source": [
    "#Remove all whitespaces from a string.\n",
    "input_string = \"A man a plan a canal Panama\"\n",
    "normalized_str = ''.join(input_string.lower().split())\n",
    "print(normalized_str)\n"
   ]
  },
  {
   "cell_type": "code",
   "execution_count": 15,
   "id": "a40bb402",
   "metadata": {},
   "outputs": [
    {
     "name": "stdout",
     "output_type": "stream",
     "text": [
      "hello, world!\n"
     ]
    }
   ],
   "source": [
    "#Convert a string to lowercase.\n",
    "input_string = \"Hello, World!\"\n",
    "uppercase_string = input_string.lower()\n",
    "print(uppercase_string)"
   ]
  },
  {
   "cell_type": "code",
   "execution_count": 19,
   "id": "f425bfd4",
   "metadata": {},
   "outputs": [
    {
     "name": "stdout",
     "output_type": "stream",
     "text": [
      "The number of vowels in the string is: 10\n"
     ]
    }
   ],
   "source": [
    "#Count the number of vowels in a string.\n",
    "def count_vowels(s):\n",
    "    vowels = \"aeiouAEIOU\"\n",
    "    count = 0\n",
    "    for char in s:\n",
    "        if char not in vowels:\n",
    "            count += 1\n",
    "    return count\n",
    "\n",
    "# Example usage\n",
    "input_string = \"Hello, World!\"\n",
    "vowel_count = count_vowels(input_string)\n",
    "print(f\"The number of vowels in the string is: {vowel_count}\")  # Output: 3\n"
   ]
  },
  {
   "cell_type": "code",
   "execution_count": 22,
   "id": "35cf7394",
   "metadata": {},
   "outputs": [
    {
     "name": "stdout",
     "output_type": "stream",
     "text": [
      "Hello,World!\n"
     ]
    }
   ],
   "source": [
    "#Remove all whitespaces from a string.\n",
    "def remove_whitespaces(s):\n",
    "    return s.replace(\" \", \"\")\n",
    "\n",
    "# Example usage\n",
    "input_string = \"Hello, World!\"\n",
    "result_string = remove_whitespaces(input_string)\n",
    "print(result_string)  \n"
   ]
  },
  {
   "cell_type": "code",
   "execution_count": 23,
   "id": "c8e58bbc",
   "metadata": {},
   "outputs": [
    {
     "name": "stdout",
     "output_type": "stream",
     "text": [
      "The length of the string is: 13\n"
     ]
    }
   ],
   "source": [
    "#Find the length of a string without using the `len()` function.\n",
    "def string_length(s):\n",
    "    count = 0\n",
    "    for char in s:\n",
    "        count += 1\n",
    "    return count\n",
    "\n",
    "# Example usage\n",
    "input_string = \"Hello, World!\"\n",
    "length = string_length(input_string)\n",
    "print(f\"The length of the string is: {length}\")\n"
   ]
  },
  {
   "cell_type": "code",
   "execution_count": 24,
   "id": "cfc6c241",
   "metadata": {},
   "outputs": [
    {
     "name": "stdout",
     "output_type": "stream",
     "text": [
      "True\n"
     ]
    }
   ],
   "source": [
    "#Check if a string contains a specific word.\n",
    "def contains_word(s, word):\n",
    "    return word in s\n",
    "\n",
    "# Example usage\n",
    "input_string = \"Hello, World!\"\n",
    "word_to_find = \"World\"\n",
    "print(contains_word(input_string, word_to_find))\n"
   ]
  },
  {
   "cell_type": "code",
   "execution_count": 25,
   "id": "ae32aa0a",
   "metadata": {},
   "outputs": [
    {
     "name": "stdout",
     "output_type": "stream",
     "text": [
      "Hello, Python!\n"
     ]
    }
   ],
   "source": [
    "# Replace a word in a string with another word.\n",
    "def replace_word(s, old_word, new_word):\n",
    "    return s.replace(old_word, new_word)\n",
    "\n",
    "# Example usage\n",
    "input_string = \"Hello, World!\"\n",
    "old_word = \"World\"\n",
    "new_word = \"Python\"\n",
    "result_string = replace_word(input_string, old_word, new_word)\n",
    "print(result_string)"
   ]
  },
  {
   "cell_type": "code",
   "execution_count": 26,
   "id": "d1ee0d7e",
   "metadata": {},
   "outputs": [
    {
     "name": "stdout",
     "output_type": "stream",
     "text": [
      "The word 'World' appears 2 times.\n"
     ]
    }
   ],
   "source": [
    "#Count the occurrences of a word in a string.\n",
    "def count_occurrences(s, word):\n",
    "    # Split the string into words and count occurrences of 'word'\n",
    "    return s.split().count(word)\n",
    "\n",
    "# Example usage\n",
    "input_string = \"Hello, World! Welcome to the World of Python. World is amazing!\"\n",
    "word_to_count = \"World\"\n",
    "occurrences = count_occurrences(input_string, word_to_count)\n",
    "print(f\"The word '{word_to_count}' appears {occurrences} times.\")  # Output: The word 'World' appears 3 times.\n"
   ]
  },
  {
   "cell_type": "code",
   "execution_count": 27,
   "id": "50632c46",
   "metadata": {},
   "outputs": [
    {
     "name": "stdout",
     "output_type": "stream",
     "text": [
      "The word 'World' first occurs at index 7.\n"
     ]
    }
   ],
   "source": [
    "#Find the first occurrence of a word in a string.\n",
    "def find_first_occurrence(s, word):\n",
    "    return s.find(word)\n",
    "\n",
    "# Example usage\n",
    "input_string = \"Hello, World! Welcome to the World of Python.\"\n",
    "word_to_find = \"World\"\n",
    "first_occurrence_index = find_first_occurrence(input_string, word_to_find)\n",
    "if first_occurrence_index != -1:\n",
    "    print(f\"The word '{word_to_find}' first occurs at index {first_occurrence_index}.\")\n",
    "else:\n",
    "    print(f\"The word '{word_to_find}' does not exist in the string.\")\n"
   ]
  },
  {
   "cell_type": "code",
   "execution_count": 29,
   "id": "2b586e08",
   "metadata": {},
   "outputs": [
    {
     "name": "stdout",
     "output_type": "stream",
     "text": [
      "The word 'World' last occurs at index 46.\n"
     ]
    }
   ],
   "source": [
    "#Find the last occurrence of a word in a string.\n",
    "def find_last_occurrence(s, word):\n",
    "    return s.rfind(word)\n",
    "\n",
    "# Example usage\n",
    "input_string = \"Hello, World! Welcome to the World of Python. World is amazing!\"\n",
    "word_to_find = \"World\"\n",
    "last_occurrence_index = find_last_occurrence(input_string, word_to_find)\n",
    "if last_occurrence_index != -1:\n",
    "    print(f\"The word '{word_to_find}' last occurs at index {last_occurrence_index}.\")\n",
    "else:\n",
    "    print(f\"The word '{word_to_find}' does not exist in the string.\")\n"
   ]
  },
  {
   "cell_type": "code",
   "execution_count": 30,
   "id": "a6b17987",
   "metadata": {},
   "outputs": [
    {
     "name": "stdout",
     "output_type": "stream",
     "text": [
      "Hello World Welcome to Python\n"
     ]
    }
   ],
   "source": [
    "#Split a string into a list of words.\n",
    "def join_words(words_list):\n",
    "    return ' '.join(words_list)\n",
    "\n",
    "# Example usage\n",
    "words_list = [\"Hello\", \"World\", \"Welcome\", \"to\", \"Python\"]\n",
    "joined_string = join_words(words_list)\n",
    "print(joined_string)"
   ]
  },
  {
   "cell_type": "code",
   "execution_count": 31,
   "id": "61b65f1f",
   "metadata": {},
   "outputs": [
    {
     "name": "stdout",
     "output_type": "stream",
     "text": [
      "Hello_World_Welcome_to_Python\n"
     ]
    }
   ],
   "source": [
    "#Convert a string where words are separated by spaces to one where words are separated by underscores.\n",
    "def convert_to_underscores(s):\n",
    "    return s.replace(' ', '_')\n",
    "\n",
    "# Example usage\n",
    "input_string = \"Hello World Welcome to Python\"\n",
    "converted_string = convert_to_underscores(input_string)\n",
    "print(converted_string)\n"
   ]
  },
  {
   "cell_type": "code",
   "execution_count": 32,
   "id": "d88263aa",
   "metadata": {},
   "outputs": [
    {
     "name": "stdout",
     "output_type": "stream",
     "text": [
      "The string starts with 'Hello'.\n"
     ]
    }
   ],
   "source": [
    "# Check if a string starts with a specific word or phrase.\n",
    "def starts_with_phrase(s, phrase):\n",
    "    return s.startswith(phrase)\n",
    "\n",
    "# Example usage\n",
    "input_string = \"Hello, World! Welcome to Python.\"\n",
    "phrase_to_check = \"Hello\"\n",
    "if starts_with_phrase(input_string, phrase_to_check):\n",
    "    print(f\"The string starts with '{phrase_to_check}'.\")\n",
    "else:\n",
    "    print(f\"The string does not start with '{phrase_to_check}'.\")\n"
   ]
  },
  {
   "cell_type": "code",
   "execution_count": 33,
   "id": "66c5b1ca",
   "metadata": {},
   "outputs": [
    {
     "name": "stdout",
     "output_type": "stream",
     "text": [
      "The string ends with 'Python.'.\n"
     ]
    }
   ],
   "source": [
    "# Check if a string ends with a specific word or phrase\n",
    "def ends_with_phrase(s, phrase):\n",
    "    return s.endswith(phrase)\n",
    "\n",
    "# Example usage\n",
    "input_string = \"Hello, World! Welcome to Python.\"\n",
    "phrase_to_check = \"Python.\"\n",
    "if ends_with_phrase(input_string, phrase_to_check):\n",
    "    print(f\"The string ends with '{phrase_to_check}'.\")\n",
    "else:\n",
    "    print(f\"The string does not end with '{phrase_to_check}'.\")\n"
   ]
  },
  {
   "cell_type": "code",
   "execution_count": 34,
   "id": "4c8b912c",
   "metadata": {},
   "outputs": [
    {
     "name": "stdout",
     "output_type": "stream",
     "text": [
      "Hello World\n"
     ]
    }
   ],
   "source": [
    "# Convert a string to title case (e.g., \"hello world\" to \"Hello World\").\n",
    "def convert_to_title_case(s):\n",
    "    return s.title()\n",
    "\n",
    "# Example usage\n",
    "input_string = \"hello world\"\n",
    "title_case_string = convert_to_title_case(input_string)\n",
    "print(title_case_string)  # Output: Hello World\n"
   ]
  },
  {
   "cell_type": "code",
   "execution_count": 35,
   "id": "58c5d5bc",
   "metadata": {
    "collapsed": true
   },
   "outputs": [
    {
     "name": "stdout",
     "output_type": "stream",
     "text": [
      "The longest word in the string is: 'programming.'\n"
     ]
    }
   ],
   "source": [
    "#Find the longest word in a string.\n",
    "def find_longest_word(s):\n",
    "    # Split the string into words\n",
    "    words = s.split()\n",
    "    \n",
    "    # Initialize variables to track the longest word and its length\n",
    "    longest_word = \"\"\n",
    "    max_length = 0\n",
    "    \n",
    "    # Iterate through each word\n",
    "    for word in words:\n",
    "        # Check if the current word is longer than the longest found so far\n",
    "        if len(word) > max_length:\n",
    "            max_length = len(word)\n",
    "            longest_word = word\n",
    "    \n",
    "    return longest_word\n",
    "\n",
    "# Example usage\n",
    "input_string = \"Hello, World! Welcome to Python programming.\"\n",
    "longest_word = find_longest_word(input_string)\n",
    "print(f\"The longest word in the string is: '{longest_word}'\") \n"
   ]
  },
  {
   "cell_type": "code",
   "execution_count": 37,
   "id": "024430c7",
   "metadata": {},
   "outputs": [
    {
     "name": "stdout",
     "output_type": "stream",
     "text": [
      "The shortest word in the string is: 'to'\n"
     ]
    }
   ],
   "source": [
    "# Find the shortest word in a string.\n",
    "def find_shortest_word(s):\n",
    "    # Split the string into words\n",
    "    words = s.split()\n",
    "    \n",
    "    # Initialize variables to track the shortest word and its length\n",
    "    shortest_word = None\n",
    "    min_length = float('inf')  # Start with a very large number\n",
    "    \n",
    "    # Iterate through each word\n",
    "    for word in words:\n",
    "        # Check if the current word is shorter than the shortest found so far\n",
    "        if len(word) < min_length:\n",
    "            min_length = len(word)\n",
    "            shortest_word = word\n",
    "    \n",
    "    return shortest_word\n",
    "\n",
    "# Example usage\n",
    "input_string = \"Hello, World! Welcome to Python programming.\"\n",
    "shortest_word = find_shortest_word(input_string)\n",
    "if shortest_word:\n",
    "    print(f\"The shortest word in the string is: '{shortest_word}'\")\n",
    "else:\n",
    "    print(\"No words found in the input string.\")  # This handles cases where input is empty or no valid words found\n"
   ]
  },
  {
   "cell_type": "code",
   "execution_count": 1,
   "id": "12d0bc66",
   "metadata": {},
   "outputs": [
    {
     "name": "stdout",
     "output_type": "stream",
     "text": [
      "programming. Python to Welcome World! Hello,\n"
     ]
    }
   ],
   "source": [
    "# Reverse the order of words in a string.\n",
    "def reverse_words(s):\n",
    "    # Split the string into words\n",
    "    words = s.split()\n",
    "    \n",
    "    # Reverse the list of words\n",
    "    reversed_words = words[::-1]\n",
    "    \n",
    "    # Join the reversed list of words into a single string\n",
    "    reversed_string = ' '.join(reversed_words)\n",
    "    \n",
    "    return reversed_string\n",
    "\n",
    "# Example usage\n",
    "input_string = \"Hello, World! Welcome to Python programming.\"\n",
    "reversed_string = reverse_words(input_string)\n",
    "print(reversed_string)  # Output: programming. Python to Welcome World! Hello,\n"
   ]
  },
  {
   "cell_type": "code",
   "execution_count": 2,
   "id": "51c054e4",
   "metadata": {},
   "outputs": [
    {
     "name": "stdout",
     "output_type": "stream",
     "text": [
      "The string 'Hello123' is alphanumeric.\n",
      "The string 'Hello 123!' is not alphanumeric.\n"
     ]
    }
   ],
   "source": [
    "#Check if a string is alphanumeric.\n",
    "def is_alphanumeric(s):\n",
    "    return s.isalnum()\n",
    "\n",
    "# Example usage\n",
    "input_string = \"Hello123\"\n",
    "if is_alphanumeric(input_string):\n",
    "    print(f\"The string '{input_string}' is alphanumeric.\")\n",
    "else:\n",
    "    print(f\"The string '{input_string}' is not alphanumeric.\")\n",
    "\n",
    "input_string = \"Hello 123!\"\n",
    "if is_alphanumeric(input_string):\n",
    "    print(f\"The string '{input_string}' is alphanumeric.\")\n",
    "else:\n",
    "    print(f\"The string '{input_string}' is not alphanumeric.\")\n"
   ]
  },
  {
   "cell_type": "code",
   "execution_count": 4,
   "id": "7db49924",
   "metadata": {},
   "outputs": [
    {
     "name": "stdout",
     "output_type": "stream",
     "text": [
      "123456\n"
     ]
    }
   ],
   "source": [
    "#Extract all digits from a string.\n",
    "import re\n",
    "\n",
    "def extract_digits(s):\n",
    "    return ''.join(re.findall(r'\\d', s))\n",
    "\n",
    "# Example usage\n",
    "input_string = \"Hello123World456\"\n",
    "digits = extract_digits(input_string)\n",
    "print(digits)  # Output: 123456\n",
    "\n"
   ]
  },
  {
   "cell_type": "code",
   "execution_count": 5,
   "id": "34782242",
   "metadata": {},
   "outputs": [
    {
     "name": "stdout",
     "output_type": "stream",
     "text": [
      "HelloWorld\n"
     ]
    }
   ],
   "source": [
    "#Extract all alphabets from a string.\n",
    "import re\n",
    "\n",
    "def extract_alphabets(s):\n",
    "    return ''.join(re.findall(r'[A-Za-z]', s))\n",
    "\n",
    "# Example usage\n",
    "input_string = \"Hello123World456\"\n",
    "alphabets = extract_alphabets(input_string)\n",
    "print(alphabets)  # Output: HelloWorld\n"
   ]
  },
  {
   "cell_type": "code",
   "execution_count": 7,
   "id": "b34a7663",
   "metadata": {},
   "outputs": [
    {
     "name": "stdout",
     "output_type": "stream",
     "text": [
      "The number of uppercase letters is: 5\n"
     ]
    }
   ],
   "source": [
    "#Count the number of uppercase letters in a string.\n",
    "def count_uppercase_letters(s):\n",
    "    count = 0\n",
    "    for char in s:\n",
    "        if char.isupper():\n",
    "            count += 1\n",
    "    return count\n",
    "\n",
    "# Example usage\n",
    "input_string = \"Hello World! Welcome to Python Programming.\"\n",
    "uppercase_count = count_uppercase_letters(input_string)\n",
    "print(f\"The number of uppercase letters is: {uppercase_count}\")  # Output: The number of uppercase letters is: 5\n",
    "\n"
   ]
  },
  {
   "cell_type": "code",
   "execution_count": 8,
   "id": "3484647c",
   "metadata": {},
   "outputs": [
    {
     "name": "stdout",
     "output_type": "stream",
     "text": [
      "The number of uppercase letters is: 31\n"
     ]
    }
   ],
   "source": [
    "#Count the number of lowercase letters in a string.\n",
    "def count_uppercase_letters(s):\n",
    "    count = 0\n",
    "    for char in s:\n",
    "        if char.islower():\n",
    "            count += 1\n",
    "    return count\n",
    "\n",
    "# Example usage\n",
    "input_string = \"Hello World! Welcome to Python Programming.\"\n",
    "uppercase_count = count_uppercase_letters(input_string)\n",
    "print(f\"The number of uppercase letters is: {uppercase_count}\")  # Output: The number of uppercase letters is: 5"
   ]
  },
  {
   "cell_type": "code",
   "execution_count": 9,
   "id": "45a708f9",
   "metadata": {},
   "outputs": [
    {
     "name": "stdout",
     "output_type": "stream",
     "text": [
      "hELLO wORLD! wELCOME TO pYTHON pROGRAMMING.\n"
     ]
    }
   ],
   "source": [
    "#Swap the case of each character in a string.\n",
    "def swap_case(s):\n",
    "    return s.swapcase()\n",
    "\n",
    "# Example usage\n",
    "input_string = \"Hello World! Welcome to Python Programming.\"\n",
    "swapped_case_string = swap_case(input_string)\n",
    "print(swapped_case_string)  # Output: hELLO wORLD! wELCOME TO pYTHON pROGRAMMING.\n"
   ]
  },
  {
   "cell_type": "code",
   "execution_count": 10,
   "id": "8f80a1c6",
   "metadata": {},
   "outputs": [
    {
     "name": "stdout",
     "output_type": "stream",
     "text": [
      "Hello ! Welcome to the  of Python.\n"
     ]
    }
   ],
   "source": [
    "#Remove a specific word from a string.\n",
    "def remove_word(s, word):\n",
    "    # Replace the word with an empty string\n",
    "    return s.replace(word, '')\n",
    "\n",
    "# Example usage\n",
    "input_string = \"Hello World! Welcome to the World of Python.\"\n",
    "word_to_remove = \"World\"\n",
    "result_string = remove_word(input_string, word_to_remove)\n",
    "print(result_string)  # Output: Hello ! Welcome to the  of Python.\n"
   ]
  },
  {
   "cell_type": "code",
   "execution_count": 11,
   "id": "053a3e74",
   "metadata": {},
   "outputs": [
    {
     "name": "stdout",
     "output_type": "stream",
     "text": [
      "'test@example.com' is a valid email address.\n",
      "'invalid-email@' is not a valid email address.\n",
      "'user.name@domain.com' is a valid email address.\n",
      "'user@domain' is not a valid email address.\n",
      "'user@domain.c' is not a valid email address.\n",
      "'user@domain..com' is a valid email address.\n"
     ]
    }
   ],
   "source": [
    "#Remove a specific word from a string.\n",
    "import re\n",
    "\n",
    "def is_valid_email(email):\n",
    "    # Define the regex pattern for a valid email address\n",
    "    pattern = r'^[a-zA-Z0-9._%+-]+@[a-zA-Z0-9.-]+\\.[a-zA-Z]{2,}$'\n",
    "    # Use re.match to check if the email matches the pattern\n",
    "    return re.match(pattern, email) is not None\n",
    "\n",
    "# Example usage\n",
    "emails = [\"test@example.com\", \"invalid-email@\", \"user.name@domain.com\", \"user@domain\", \"user@domain.c\", \"user@domain..com\"]\n",
    "\n",
    "for email in emails:\n",
    "    if is_valid_email(email):\n",
    "        print(f\"'{email}' is a valid email address.\")\n",
    "    else:\n",
    "        print(f\"'{email}' is not a valid email address.\")\n"
   ]
  },
  {
   "cell_type": "code",
   "execution_count": 12,
   "id": "3687c0ed",
   "metadata": {},
   "outputs": [
    {
     "name": "stdout",
     "output_type": "stream",
     "text": [
      "The domain name from 'user@example.com' is 'example.com'.\n"
     ]
    }
   ],
   "source": [
    "#Extract the domain name from an email address string.\n",
    "def extract_domain(email):\n",
    "    # Split the email address at the \"@\" symbol\n",
    "    parts = email.split('@')\n",
    "    if len(parts) == 2:  # Ensure there are exactly two parts (username and domain)\n",
    "        return parts[1]\n",
    "    else:\n",
    "        return None  # Return None if the email format is invalid\n",
    "\n",
    "# Example usage\n",
    "email = \"user@example.com\"\n",
    "domain = extract_domain(email)\n",
    "if domain:\n",
    "    print(f\"The domain name from '{email}' is '{domain}'.\")  # Output: The domain name from 'user@example.com' is 'example.com'.\n",
    "else:\n",
    "    print(f\"Invalid email format: '{email}'.\")\n"
   ]
  },
  {
   "cell_type": "code",
   "execution_count": 13,
   "id": "1d395555",
   "metadata": {},
   "outputs": [
    {
     "name": "stdout",
     "output_type": "stream",
     "text": [
      "Hello World! Welcome to Python Programming.\n"
     ]
    }
   ],
   "source": [
    "# Replace multiple spaces in a string with a single space.\n",
    "def replace_multiple_spaces(s):\n",
    "    # Split the string into words\n",
    "    words = s.split()\n",
    "    # Join the words with a single space\n",
    "    return ' '.join(words)\n",
    "\n",
    "# Example usage\n",
    "input_string = \"Hello    World!   Welcome   to   Python   Programming.\"\n",
    "modified_string = replace_multiple_spaces(input_string)\n",
    "print(modified_string)  # Output: Hello World! Welcome to Python Programming.\n"
   ]
  },
  {
   "cell_type": "code",
   "execution_count": 14,
   "id": "da44fd97",
   "metadata": {},
   "outputs": [
    {
     "name": "stdout",
     "output_type": "stream",
     "text": [
      "'https://www.example.com' is a valid URL.\n",
      "'ftp://ftp.example.com' is a valid URL.\n",
      "'invalid-url' is not a valid URL.\n",
      "'http://example.com/path' is a valid URL.\n",
      "'https://example.com/path/to/file.html' is a valid URL.\n"
     ]
    }
   ],
   "source": [
    "#Check if a string is a valid URL.\n",
    "from urllib.parse import urlparse\n",
    "\n",
    "def is_valid_url(url):\n",
    "    try:\n",
    "        result = urlparse(url)\n",
    "        return all([result.scheme, result.netloc])\n",
    "    except ValueError:\n",
    "        return False\n",
    "\n",
    "# Example usage\n",
    "urls = [\n",
    "    \"https://www.example.com\",\n",
    "    \"ftp://ftp.example.com\",\n",
    "    \"invalid-url\",\n",
    "    \"http://example.com/path\",\n",
    "    \"https://example.com/path/to/file.html\"\n",
    "]\n",
    "\n",
    "for url in urls:\n",
    "    if is_valid_url(url):\n",
    "        print(f\"'{url}' is a valid URL.\")\n",
    "    else:\n",
    "        print(f\"'{url}' is not a valid URL.\")\n"
   ]
  },
  {
   "cell_type": "code",
   "execution_count": 15,
   "id": "b7003b63",
   "metadata": {},
   "outputs": [
    {
     "name": "stdout",
     "output_type": "stream",
     "text": [
      "The protocol of 'https://www.example.com/path/to/resource' is: https\n"
     ]
    }
   ],
   "source": [
    "#Extract the protocol (http or https) from a URL string.\n",
    "import re\n",
    "\n",
    "def extract_protocol(url):\n",
    "    match = re.match(r'^([a-zA-Z]+)://', url)\n",
    "    return match.group(1) if match else None\n",
    "\n",
    "# Example usage\n",
    "url = \"https://www.example.com/path/to/resource\"\n",
    "protocol = extract_protocol(url)\n",
    "print(f\"The protocol of '{url}' is: {protocol}\")  # Output: The protocol of 'https://www.example.com/path/to/resource' is: https\n"
   ]
  },
  {
   "cell_type": "code",
   "execution_count": 16,
   "id": "a164e0bb",
   "metadata": {},
   "outputs": [
    {
     "name": "stdout",
     "output_type": "stream",
     "text": [
      "Character frequencies:\n",
      "'h' : 1\n",
      "'e' : 1\n",
      "'l' : 3\n",
      "'o' : 2\n",
      "' ' : 1\n",
      "'w' : 1\n",
      "'r' : 1\n",
      "'d' : 1\n"
     ]
    }
   ],
   "source": [
    "#Find the frequency of each character in a string.\n",
    "def character_frequency(s):\n",
    "    frequency = {}\n",
    "    for char in s:\n",
    "        if char in frequency:\n",
    "            frequency[char] += 1\n",
    "        else:\n",
    "            frequency[char] = 1\n",
    "    return frequency\n",
    "\n",
    "# Example usage\n",
    "input_string = \"hello world\"\n",
    "freq = character_frequency(input_string)\n",
    "print(\"Character frequencies:\")\n",
    "for char, count in freq.items():\n",
    "    print(f\"'{char}' : {count}\")\n"
   ]
  },
  {
   "cell_type": "code",
   "execution_count": 17,
   "id": "701aa200",
   "metadata": {},
   "outputs": [
    {
     "name": "stdout",
     "output_type": "stream",
     "text": [
      "Original string: Hello, World! This is a test string.\n",
      "String without punctuation: Hello World This is a test string\n"
     ]
    }
   ],
   "source": [
    "#Remove all punctuation from a string.\n",
    "import re\n",
    "\n",
    "def remove_punctuation(s):\n",
    "    # Use regex to replace all punctuation with an empty string\n",
    "    return re.sub(r'[^\\w\\s]', '', s)\n",
    "\n",
    "# Example usage\n",
    "input_string = \"Hello, World! This is a test string.\"\n",
    "cleaned_string = remove_punctuation(input_string)\n",
    "print(\"Original string:\", input_string)\n",
    "print(\"String without punctuation:\", cleaned_string)\n"
   ]
  },
  {
   "cell_type": "code",
   "execution_count": 18,
   "id": "47a365b0",
   "metadata": {},
   "outputs": [
    {
     "name": "stdout",
     "output_type": "stream",
     "text": [
      "'HelloWorld' contains only alphabetic characters.\n"
     ]
    }
   ],
   "source": [
    "#Check if a string contains only alphabets.\n",
    "def contains_only_alphabets(s):\n",
    "    return s.isalpha()\n",
    "\n",
    "# Example usage\n",
    "input_string = \"HelloWorld\"\n",
    "if contains_only_alphabets(input_string):\n",
    "    print(f\"'{input_string}' contains only alphabetic characters.\")\n",
    "else:\n",
    "    print(f\"'{input_string}' does not contain only alphabetic characters.\")\n"
   ]
  },
  {
   "cell_type": "code",
   "execution_count": 19,
   "id": "cff7b05c",
   "metadata": {},
   "outputs": [
    {
     "name": "stdout",
     "output_type": "stream",
     "text": [
      "Original string: Hello\n",
      "List of characters: ['H', 'e', 'l', 'l', 'o']\n"
     ]
    }
   ],
   "source": [
    "#Convert a string to a list of characters.\n",
    "def string_to_list(s):\n",
    "    return list(s)\n",
    "\n",
    "# Example usage (same as above)\n",
    "input_string = \"Hello\"\n",
    "char_list = string_to_list(input_string)\n",
    "print(\"Original string:\", input_string)\n",
    "print(\"List of characters:\", char_list)\n"
   ]
  },
  {
   "cell_type": "code",
   "execution_count": 20,
   "id": "1668ac65",
   "metadata": {},
   "outputs": [
    {
     "name": "stdout",
     "output_type": "stream",
     "text": [
      "True\n"
     ]
    }
   ],
   "source": [
    "#Check if two strings are anagrams.\n",
    "def are_anagrams(str1, str2):\n",
    "    # Remove spaces and convert to lowercase (if case-sensitive)\n",
    "    str1 = str1.replace(\" \", \"\").lower()\n",
    "    str2 = str2.replace(\" \", \"\").lower()\n",
    "    \n",
    "    # Check if lengths are equal\n",
    "    if len(str1) != len(str2):\n",
    "        return False\n",
    "    \n",
    "    # Initialize a dictionary to count characters\n",
    "    char_count = {}\n",
    "    \n",
    "    # Count characters in str1\n",
    "    for char in str1:\n",
    "        if char in char_count:\n",
    "            char_count[char] += 1\n",
    "        else:\n",
    "            char_count[char] = 1\n",
    "    \n",
    "    # Count characters in str2\n",
    "    for char in str2:\n",
    "        if char in char_count:\n",
    "            char_count[char] -= 1\n",
    "        else:\n",
    "            return False  # Character not in str1\n",
    "    \n",
    "    # Check if all counts are zero\n",
    "    for count in char_count.values():\n",
    "        if count != 0:\n",
    "            return False\n",
    "    \n",
    "    return True\n",
    "\n",
    "# Example usage:\n",
    "str1 = \"Listen\"\n",
    "str2 = \"Silent\"\n",
    "print(are_anagrams(str1, str2))  # Output: True\n"
   ]
  },
  {
   "cell_type": "code",
   "execution_count": 21,
   "id": "65012ef8",
   "metadata": {},
   "outputs": [
    {
     "name": "stdout",
     "output_type": "stream",
     "text": [
      "Plaintext: Hello, World!\n",
      "Encrypted text: Khoor, Zruog!\n"
     ]
    }
   ],
   "source": [
    "#Encode a string using a Caesar cipher.\n",
    "def caesar_cipher_encrypt(text, shift):\n",
    "    result = \"\"\n",
    "    \n",
    "    for char in text:\n",
    "        # Encrypt uppercase letters\n",
    "        if char.isupper():\n",
    "            result += chr((ord(char) - ord('A') + shift) % 26 + ord('A'))\n",
    "        # Encrypt lowercase letters\n",
    "        elif char.islower():\n",
    "            result += chr((ord(char) - ord('a') + shift) % 26 + ord('a'))\n",
    "        else:\n",
    "            result += char  # Non-alphabetic characters remain unchanged\n",
    "    \n",
    "    return result\n",
    "\n",
    "# Example usage:\n",
    "plaintext = \"Hello, World!\"\n",
    "shift = 3\n",
    "encrypted_text = caesar_cipher_encrypt(plaintext, shift)\n",
    "print(f\"Plaintext: {plaintext}\")\n",
    "print(f\"Encrypted text: {encrypted_text}\")\n"
   ]
  },
  {
   "cell_type": "code",
   "execution_count": 22,
   "id": "c093945f",
   "metadata": {},
   "outputs": [
    {
     "name": "stdout",
     "output_type": "stream",
     "text": [
      "Encrypted text: Khoor, Zruog!\n",
      "Decrypted text: Hello, World!\n"
     ]
    }
   ],
   "source": [
    "#Decode a Caesar cipher encoded string.\n",
    "def caesar_cipher_decrypt(text, shift):\n",
    "    result = \"\"\n",
    "    \n",
    "    for char in text:\n",
    "        # Decrypt uppercase letters\n",
    "        if char.isupper():\n",
    "            result += chr((ord(char) - ord('A') - shift) % 26 + ord('A'))\n",
    "        # Decrypt lowercase letters\n",
    "        elif char.islower():\n",
    "            result += chr((ord(char) - ord('a') - shift) % 26 + ord('a'))\n",
    "        else:\n",
    "            result += char  # Non-alphabetic characters remain unchanged\n",
    "    \n",
    "    return result\n",
    "\n",
    "# Example usage:\n",
    "encrypted_text = \"Khoor, Zruog!\"\n",
    "shift = 3\n",
    "decrypted_text = caesar_cipher_decrypt(encrypted_text, shift)\n",
    "print(f\"Encrypted text: {encrypted_text}\")\n",
    "print(f\"Decrypted text: {decrypted_text}\")\n"
   ]
  },
  {
   "cell_type": "code",
   "execution_count": 23,
   "id": "464ae470",
   "metadata": {},
   "outputs": [
    {
     "name": "stdout",
     "output_type": "stream",
     "text": [
      "Most frequent word: 'world' with frequency: 2\n"
     ]
    }
   ],
   "source": [
    "#Find the most frequent word in a string.\n",
    "def most_frequent_word(text):\n",
    "    # Split the text into words\n",
    "    words = text.split()\n",
    "    \n",
    "    # Initialize a dictionary to count occurrences of each word\n",
    "    word_count = {}\n",
    "    \n",
    "    # Count occurrences of each word\n",
    "    for word in words:\n",
    "        if word in word_count:\n",
    "            word_count[word] += 1\n",
    "        else:\n",
    "            word_count[word] = 1\n",
    "    \n",
    "    # Find the word with the maximum count\n",
    "    max_count = 0\n",
    "    frequent_word = \"\"\n",
    "    \n",
    "    for word, count in word_count.items():\n",
    "        if count > max_count:\n",
    "            max_count = count\n",
    "            frequent_word = word\n",
    "    \n",
    "    return frequent_word, max_count\n",
    "\n",
    "# Example usage:\n",
    "text = \"Hello world hello python world hello\"\n",
    "most_frequent, frequency = most_frequent_word(text)\n",
    "print(f\"Most frequent word: '{most_frequent}' with frequency: {frequency}\")\n",
    "#"
   ]
  },
  {
   "cell_type": "code",
   "execution_count": 24,
   "id": "91c4ce47",
   "metadata": {},
   "outputs": [
    {
     "name": "stdout",
     "output_type": "stream",
     "text": [
      "Unique words: {'python', 'world', 'Hello', 'hello'}\n"
     ]
    }
   ],
   "source": [
    "#Find all unique words in a string.\n",
    "\n",
    "def find_unique_words(text):\n",
    "    # Split the text into words\n",
    "    words = text.split()\n",
    "    \n",
    "    # Use a set to collect unique words\n",
    "    unique_words = set(words)\n",
    "    \n",
    "    return unique_words\n",
    "\n",
    "# Example usage:\n",
    "text = \"Hello world hello python world hello\"\n",
    "unique_words = find_unique_words(text)\n",
    "print(f\"Unique words: {unique_words}\")\n"
   ]
  },
  {
   "cell_type": "code",
   "execution_count": 25,
   "id": "7e369dad",
   "metadata": {},
   "outputs": [
    {
     "name": "stdout",
     "output_type": "stream",
     "text": [
      "Total syllables: 11\n"
     ]
    }
   ],
   "source": [
    "#46. Count the number of syllables in a string.\n",
    "import re\n",
    "\n",
    "def count_syllables(word):\n",
    "    word = word.lower()\n",
    "    vowels = \"aeiouy\"\n",
    "    syllable_count = 0\n",
    "    previous_char_was_vowel = False\n",
    "\n",
    "    for char in word:\n",
    "        if char in vowels:\n",
    "            if not previous_char_was_vowel:\n",
    "                syllable_count += 1\n",
    "            previous_char_was_vowel = True\n",
    "        else:\n",
    "            previous_char_was_vowel = False\n",
    "\n",
    "    # Adjustments for specific endings\n",
    "    if word.endswith(\"e\"):\n",
    "        syllable_count -= 1\n",
    "    if word.endswith(\"le\") and len(word) > 2 and word[-3] not in vowels:\n",
    "        syllable_count += 1\n",
    "\n",
    "    return max(1, syllable_count)\n",
    "\n",
    "def count_syllables_in_text(text):\n",
    "    words = re.findall(r'\\b\\w+\\b', text.lower())  # Find words using regex\n",
    "    total_syllables = sum(count_syllables(word) for word in words)\n",
    "    return total_syllables\n",
    "\n",
    "# Example usage:\n",
    "text = \"Hello world, this is a simple example.\"\n",
    "total_syllables = count_syllables_in_text(text)\n",
    "print(f\"Total syllables: {total_syllables}\")\n"
   ]
  },
  {
   "cell_type": "code",
   "execution_count": 26,
   "id": "0e8bdfcc",
   "metadata": {},
   "outputs": [
    {
     "name": "stdout",
     "output_type": "stream",
     "text": [
      "Text1 contains special characters: False\n",
      "Text2 contains special characters: True\n"
     ]
    }
   ],
   "source": [
    "#Check if a string contains any special characters.\n",
    "import re\n",
    "\n",
    "def contains_special_characters(text):\n",
    "    # Regular expression pattern to match any non-alphanumeric character\n",
    "    pattern = re.compile(r'[^a-zA-Z0-9]')\n",
    "    \n",
    "    # Search for the pattern in the text\n",
    "    if pattern.search(text):\n",
    "        return True\n",
    "    else:\n",
    "        return False\n",
    "\n",
    "# Example usage:\n",
    "text1 = \"HelloWorld123\"\n",
    "text2 = \"Hello@World!\"\n",
    "print(f\"Text1 contains special characters: {contains_special_characters(text1)}\")\n",
    "print(f\"Text2 contains special characters: {contains_special_characters(text2)}\")\n"
   ]
  },
  {
   "cell_type": "code",
   "execution_count": 27,
   "id": "f0142076",
   "metadata": {},
   "outputs": [
    {
     "name": "stdout",
     "output_type": "stream",
     "text": [
      "Original text: The quick brown fox jumps over the lazy dog\n",
      "Modified text: The quick brown jumps over the lazy dog\n"
     ]
    }
   ],
   "source": [
    "#Remove the nth word from a string.\n",
    "def remove_nth_word(text, n):\n",
    "    # Split the text into words\n",
    "    words = text.split()\n",
    "    \n",
    "    # Check if n is within the range of the list\n",
    "    if 0 <= n < len(words):\n",
    "        # Remove the nth word (0-based index)\n",
    "        words.pop(n)\n",
    "    \n",
    "    # Rejoin the words into a string\n",
    "    result = ' '.join(words)\n",
    "    \n",
    "    return result\n",
    "\n",
    "# Example usage:\n",
    "text = \"The quick brown fox jumps over the lazy dog\"\n",
    "n = 3\n",
    "modified_text = remove_nth_word(text, n)\n",
    "print(f\"Original text: {text}\")\n",
    "print(f\"Modified text: {modified_text}\")\n"
   ]
  },
  {
   "cell_type": "code",
   "execution_count": 28,
   "id": "80fba61d",
   "metadata": {},
   "outputs": [
    {
     "name": "stdout",
     "output_type": "stream",
     "text": [
      "Original text: The quick brown fox jumps over the lazy dog\n",
      "Modified text: The quick brown clever fox jumps over the lazy dog\n"
     ]
    }
   ],
   "source": [
    "#Insert a word at the nth position in a string.\n",
    "def insert_nth_word(text, word, n):\n",
    "    # Split the text into words\n",
    "    words = text.split()\n",
    "    \n",
    "    # Insert the new word at the nth position (0-based index)\n",
    "    if 0 <= n <= len(words):\n",
    "        words.insert(n, word)\n",
    "    else:\n",
    "        return \"Index out of range\"\n",
    "\n",
    "    # Rejoin the words into a string\n",
    "    result = ' '.join(words)\n",
    "    \n",
    "    return result\n",
    "\n",
    "# Example usage:\n",
    "text = \"The quick brown fox jumps over the lazy dog\"\n",
    "word = \"clever\"\n",
    "n = 3\n",
    "modified_text = insert_nth_word(text, word, n)\n",
    "print(f\"Original text: {text}\")\n",
    "print(f\"Modified text: {modified_text}\")\n"
   ]
  },
  {
   "cell_type": "code",
   "execution_count": 31,
   "id": "b5ac70a5",
   "metadata": {},
   "outputs": [
    {
     "name": "stdout",
     "output_type": "stream",
     "text": [
      "['name', 'age', 'city']\n",
      "['John', '23', 'New York']\n",
      "['Jane', '29', 'Los Angeles']\n",
      "['Doe', '22', 'Chicago']\n"
     ]
    }
   ],
   "source": [
    "#Convert a CSV string to a list of lists.\n",
    "import csv\n",
    "from io import StringIO\n",
    "\n",
    "def csv_to_list_of_lists(csv_string):\n",
    "    # Use StringIO to create a file-like object from the string\n",
    "    csv_file = StringIO(csv_string)\n",
    "    \n",
    "    # Read the CSV file using the csv.reader\n",
    "    reader = csv.reader(csv_file)\n",
    "    \n",
    "    # Convert the reader object to a list of lists\n",
    "    list_of_lists = [row for row in reader]\n",
    "    \n",
    "    return list_of_lists\n",
    "\n",
    "# Example usage:\n",
    "csv_string = \"\"\"name,age,city\n",
    "John,23,New York\n",
    "Jane,29,Los Angeles\n",
    "Doe,22,Chicago\"\"\"\n",
    "\n",
    "list_of_lists = csv_to_list_of_lists(csv_string)\n",
    "for row in list_of_lists:\n",
    "    print(row)\n",
    "\n",
    "\n"
   ]
  },
  {
   "cell_type": "code",
   "execution_count": null,
   "id": "2fbcdbb9",
   "metadata": {},
   "outputs": [],
   "source": [
    "#List Based Practice Problem"
   ]
  },
  {
   "cell_type": "code",
   "execution_count": 32,
   "id": "ffb9c174",
   "metadata": {},
   "outputs": [
    {
     "name": "stdout",
     "output_type": "stream",
     "text": [
      "[1, 2, 3, 4, 5, 6, 7, 8, 9, 10]\n"
     ]
    }
   ],
   "source": [
    "#Create a list with integers from 1 to 10.\n",
    "# Create a list with integers from 1 to 10\n",
    "numbers = list(range(1, 11))\n",
    "\n",
    "# Print the list\n",
    "print(numbers)\n"
   ]
  },
  {
   "cell_type": "code",
   "execution_count": 33,
   "id": "fdbb4db8",
   "metadata": {},
   "outputs": [
    {
     "name": "stdout",
     "output_type": "stream",
     "text": [
      "The length of the list is: 10\n"
     ]
    }
   ],
   "source": [
    "#Find the length of a list without using the `len()` function.\n",
    "def list_length(lst):\n",
    "    count = 0\n",
    "    for _ in lst:\n",
    "        count += 1\n",
    "    return count\n",
    "\n",
    "# Example usage:\n",
    "numbers = [1, 2, 3, 4, 5, 6, 7, 8, 9, 10]\n",
    "length = list_length(numbers)\n",
    "print(f\"The length of the list is: {length}\")\n"
   ]
  },
  {
   "cell_type": "code",
   "execution_count": 34,
   "id": "2cf38a58",
   "metadata": {},
   "outputs": [
    {
     "name": "stdout",
     "output_type": "stream",
     "text": [
      "[1, 2, 3, 4, 5, 6, 7, 8, 9, 10, 11]\n"
     ]
    }
   ],
   "source": [
    "#Append an element to the end of a list.\n",
    "# Create a list with integers from 1 to 10\n",
    "numbers = [1, 2, 3, 4, 5, 6, 7, 8, 9, 10]\n",
    "\n",
    "# Append an element to the end of the list\n",
    "numbers.append(11)\n",
    "\n",
    "# Print the updated list\n",
    "print(numbers)\n"
   ]
  },
  {
   "cell_type": "code",
   "execution_count": 35,
   "id": "2ef699a9",
   "metadata": {},
   "outputs": [
    {
     "name": "stdout",
     "output_type": "stream",
     "text": [
      "[1, 2, 3, 4, 5, 6, 7, 8, 9, 10, 11]\n"
     ]
    }
   ],
   "source": [
    "#Insert an element at a specific index in a list.\n",
    "# Create a list with integers from 1 to 10\n",
    "numbers = [1, 2, 3, 4, 5, 6, 7, 8, 9, 10]\n",
    "\n",
    "# Append an element to the end of the list\n",
    "numbers.append(11)\n",
    "\n",
    "# Print the updated list\n",
    "print(numbers)\n"
   ]
  },
  {
   "cell_type": "code",
   "execution_count": 36,
   "id": "8d1f07e2",
   "metadata": {},
   "outputs": [
    {
     "name": "stdout",
     "output_type": "stream",
     "text": [
      "[1, 2, 3, 4, 5, 99, 6, 7, 8, 9, 10]\n"
     ]
    }
   ],
   "source": [
    "#Remove an element from a list by its index.\n",
    "# Create a list with integers from 1 to 10\n",
    "numbers = [1, 2, 3, 4, 5, 6, 7, 8, 9, 10]\n",
    "\n",
    "# Insert an element at a specific index\n",
    "index = 5\n",
    "element = 99\n",
    "numbers.insert(index, element)\n",
    "\n",
    "# Print the updated list\n",
    "print(numbers)\n"
   ]
  },
  {
   "cell_type": "code",
   "execution_count": 37,
   "id": "3ce39dee",
   "metadata": {},
   "outputs": [
    {
     "name": "stdout",
     "output_type": "stream",
     "text": [
      "5 exists in the list.\n"
     ]
    }
   ],
   "source": [
    "#Check if an element exists in a list.\n",
    "# Create a list with integers from 1 to 10\n",
    "numbers = [1, 2, 3, 4, 5, 6, 7, 8, 9, 10]\n",
    "\n",
    "# Element to check\n",
    "element_to_check = 5\n",
    "\n",
    "# Check if the element exists in the list\n",
    "exists = element_to_check in numbers\n",
    "\n",
    "# Print the result\n",
    "if exists:\n",
    "    print(f\"{element_to_check} exists in the list.\")\n",
    "else:\n",
    "    print(f\"{element_to_check} does not exist in the list.\")\n"
   ]
  },
  {
   "cell_type": "code",
   "execution_count": 38,
   "id": "c00e9101",
   "metadata": {},
   "outputs": [
    {
     "name": "stdout",
     "output_type": "stream",
     "text": [
      "The first occurrence of 5 is at index 4.\n"
     ]
    }
   ],
   "source": [
    "# Create a list with integers from 1 to 10\n",
    "numbers = [1, 2, 3, 4, 5, 6, 7, 8, 9, 10]\n",
    "\n",
    "# Element to find\n",
    "element_to_find = 5\n",
    "\n",
    "try:\n",
    "    # Find the index of the first occurrence of the element\n",
    "    index = numbers.index(element_to_find)\n",
    "    print(f\"The first occurrence of {element_to_find} is at index {index}.\")\n",
    "except ValueError:\n",
    "    print(f\"{element_to_find} is not in the list.\")\n"
   ]
  },
  {
   "cell_type": "code",
   "execution_count": 39,
   "id": "07cba8a8",
   "metadata": {},
   "outputs": [
    {
     "name": "stdout",
     "output_type": "stream",
     "text": [
      "The element 3 occurs 3 times in the list.\n"
     ]
    }
   ],
   "source": [
    "#Count the occurrences of an element in a list.\n",
    "# Create a list with some repeated integers\n",
    "numbers = [1, 2, 3, 4, 5, 3, 7, 8, 3, 10]\n",
    "\n",
    "# Element to count\n",
    "element_to_count = 3\n",
    "\n",
    "# Count the occurrences of the element\n",
    "count = numbers.count(element_to_count)\n",
    "\n",
    "# Print the result\n",
    "print(f\"The element {element_to_count} occurs {count} times in the list.\")\n"
   ]
  },
  {
   "cell_type": "code",
   "execution_count": 40,
   "id": "cb4c2c5d",
   "metadata": {},
   "outputs": [
    {
     "name": "stdout",
     "output_type": "stream",
     "text": [
      "Reversed list (in place): [10, 9, 8, 7, 6, 5, 4, 3, 2, 1]\n"
     ]
    }
   ],
   "source": [
    "#Reverse the order of elements in a list.\n",
    "# Create a list with integers from 1 to 10\n",
    "numbers = [1, 2, 3, 4, 5, 6, 7, 8, 9, 10]\n",
    "\n",
    "# Reverse the list in place\n",
    "numbers.reverse()\n",
    "\n",
    "# Print the reversed list\n",
    "print(\"Reversed list (in place):\", numbers)\n"
   ]
  },
  {
   "cell_type": "code",
   "execution_count": 41,
   "id": "3e1c498e",
   "metadata": {},
   "outputs": [
    {
     "name": "stdout",
     "output_type": "stream",
     "text": [
      "Sorted list (in place): [1, 2, 4, 5, 6, 9]\n"
     ]
    }
   ],
   "source": [
    "#Sort a list in ascending order.\n",
    "# Create a list with integers\n",
    "numbers = [4, 2, 9, 1, 5, 6]\n",
    "\n",
    "# Sort the list in place\n",
    "numbers.sort()\n",
    "\n",
    "# Print the sorted list\n",
    "print(\"Sorted list (in place):\", numbers)\n"
   ]
  },
  {
   "cell_type": "code",
   "execution_count": 42,
   "id": "63ddc694",
   "metadata": {},
   "outputs": [
    {
     "name": "stdout",
     "output_type": "stream",
     "text": [
      "Sorted list (in place, descending): [9, 6, 5, 4, 2, 1]\n"
     ]
    }
   ],
   "source": [
    "#Sort a list in descending order.\n",
    "# Create a list with integers\n",
    "numbers = [4, 2, 9, 1, 5, 6]\n",
    "\n",
    "# Sort the list in place in descending order\n",
    "numbers.sort(reverse=True)\n",
    "\n",
    "# Print the sorted list\n",
    "print(\"Sorted list (in place, descending):\", numbers)\n"
   ]
  },
  {
   "cell_type": "code",
   "execution_count": 43,
   "id": "d243f042",
   "metadata": {},
   "outputs": [
    {
     "name": "stdout",
     "output_type": "stream",
     "text": [
      "List of even numbers from 1 to 20: [2, 4, 6, 8, 10, 12, 14, 16, 18, 20]\n"
     ]
    }
   ],
   "source": [
    "#Create a list of even numbers from 1 to 20.\n",
    "# Create a list of even numbers from 1 to 20\n",
    "even_numbers = [num for num in range(2, 21, 2)]\n",
    "\n",
    "# Print the list\n",
    "print(\"List of even numbers from 1 to 20:\", even_numbers)\n"
   ]
  },
  {
   "cell_type": "code",
   "execution_count": 44,
   "id": "05915d71",
   "metadata": {},
   "outputs": [
    {
     "name": "stdout",
     "output_type": "stream",
     "text": [
      "List of odd numbers from 1 to 20: [1, 3, 5, 7, 9, 11, 13, 15, 17, 19]\n"
     ]
    }
   ],
   "source": [
    "#Create a list of odd numbers from 1 to 20.\n",
    "# Create a list of odd numbers from 1 to 20\n",
    "odd_numbers = [num for num in range(1, 21) if num % 2 != 0]\n",
    "\n",
    "# Print the list\n",
    "print(\"List of odd numbers from 1 to 20:\", odd_numbers)\n"
   ]
  },
  {
   "cell_type": "code",
   "execution_count": 45,
   "id": "12f319fe",
   "metadata": {},
   "outputs": [
    {
     "name": "stdout",
     "output_type": "stream",
     "text": [
      "Sum of all elements in the list: 15\n"
     ]
    }
   ],
   "source": [
    "#Find the sum of all elements in a list.\n",
    "# Create a list of integers\n",
    "numbers = [1, 2, 3, 4, 5]\n",
    "\n",
    "# Calculate the sum of all elements in the list\n",
    "total_sum = sum(numbers)\n",
    "\n",
    "# Print the sum\n",
    "print(\"Sum of all elements in the list:\", total_sum)\n"
   ]
  },
  {
   "cell_type": "code",
   "execution_count": null,
   "id": "5542ff0c",
   "metadata": {},
   "outputs": [],
   "source": [
    "#Find the maximum value in a list."
   ]
  },
  {
   "cell_type": "code",
   "execution_count": 1,
   "id": "6881d975",
   "metadata": {},
   "outputs": [
    {
     "name": "stdout",
     "output_type": "stream",
     "text": [
      "List of random numbers: [81, 74, 43, 19, 89, 12, 73, 76, 36, 52]\n"
     ]
    }
   ],
   "source": [
    "#Create a list of random numbers.\n",
    "import random\n",
    "\n",
    "# Define the number of random numbers you want in the list\n",
    "num_elements = 10\n",
    "\n",
    "# Define the range for the random numbers\n",
    "range_start = 1\n",
    "range_end = 100\n",
    "\n",
    "# Create a list of random numbers\n",
    "random_numbers = [random.randint(range_start, range_end) for _ in range(num_elements)]\n",
    "\n",
    "# Print the list of random numbers\n",
    "print(\"List of random numbers:\", random_numbers)\n"
   ]
  },
  {
   "cell_type": "code",
   "execution_count": 2,
   "id": "b9e92b6b",
   "metadata": {},
   "outputs": [
    {
     "name": "stdout",
     "output_type": "stream",
     "text": [
      "List without duplicates: [1, 2, 3, 4, 5]\n"
     ]
    }
   ],
   "source": [
    "#Remove duplicates from a list.\n",
    "\n",
    "numbers = [1, 2, 2, 3, 4, 4, 5]\n",
    "\n",
    "# Remove duplicates by converting the list to a set and back to a list\n",
    "unique_numbers = list(set(numbers))\n",
    "\n",
    "# Print the list without duplicates\n",
    "print(\"List without duplicates:\", unique_numbers)\n"
   ]
  },
  {
   "cell_type": "code",
   "execution_count": 3,
   "id": "a7db4a82",
   "metadata": {},
   "outputs": [
    {
     "name": "stdout",
     "output_type": "stream",
     "text": [
      "Common elements (using list comprehension): [4, 5]\n"
     ]
    }
   ],
   "source": [
    "#Find the common elements between two lists.\n",
    "# Create two lists\n",
    "list1 = [1, 2, 3, 4, 5]\n",
    "list2 = [4, 5, 6, 7, 8]\n",
    "\n",
    "# Find common elements using list comprehension\n",
    "common_elements = [elem for elem in list1 if elem in list2]\n",
    "\n",
    "# Print the common elements\n",
    "print(\"Common elements (using list comprehension):\", common_elements)\n"
   ]
  },
  {
   "cell_type": "code",
   "execution_count": 4,
   "id": "0a91b293",
   "metadata": {},
   "outputs": [
    {
     "name": "stdout",
     "output_type": "stream",
     "text": [
      "Elements in list1 but not in list2: [1, 2, 3]\n",
      "Elements in list2 but not in list1: [6, 7, 8]\n"
     ]
    }
   ],
   "source": [
    "#Find the difference between two lists.\n",
    "# Create two lists\n",
    "list1 = [1, 2, 3, 4, 5]\n",
    "list2 = [4, 5, 6, 7, 8]\n",
    "\n",
    "# Find the difference using list comprehension\n",
    "difference1 = [elem for elem in list1 if elem not in list2]\n",
    "difference2 = [elem for elem in list2 if elem not in list1]\n",
    "\n",
    "# Print the differences\n",
    "print(\"Elements in list1 but not in list2:\", difference1)\n",
    "print(\"Elements in list2 but not in list1:\", difference2)\n"
   ]
  },
  {
   "cell_type": "code",
   "execution_count": 5,
   "id": "aa10feb7",
   "metadata": {},
   "outputs": [
    {
     "name": "stdout",
     "output_type": "stream",
     "text": [
      "Merged list (using + operator): [1, 2, 3, 4, 5, 6]\n"
     ]
    }
   ],
   "source": [
    "#Merge two lists.\n",
    "# Create two lists\n",
    "list1 = [1, 2, 3]\n",
    "list2 = [4, 5, 6]\n",
    "\n",
    "# Merge the two lists using the + operator\n",
    "merged_list = list1 + list2\n",
    "\n",
    "# Print the merged list\n",
    "print(\"Merged list (using + operator):\", merged_list)\n"
   ]
  },
  {
   "cell_type": "code",
   "execution_count": 6,
   "id": "fcbf33a1",
   "metadata": {},
   "outputs": [
    {
     "name": "stdout",
     "output_type": "stream",
     "text": [
      "List after multiplying each element by 2: [2, 4, 6, 8, 10]\n"
     ]
    }
   ],
   "source": [
    "#Multiply all elements in a list by 2.\n",
    "# Create a list of integers\n",
    "numbers = [1, 2, 3, 4, 5]\n",
    "\n",
    "# Multiply each element by 2 using list comprehension\n",
    "multiplied_numbers = [x * 2 for x in numbers]\n",
    "\n",
    "# Print the new list\n",
    "print(\"List after multiplying each element by 2:\", multiplied_numbers)\n"
   ]
  },
  {
   "cell_type": "code",
   "execution_count": 7,
   "id": "e908840c",
   "metadata": {},
   "outputs": [
    {
     "name": "stdout",
     "output_type": "stream",
     "text": [
      "List after filtering out even numbers: [1, 3, 5, 7, 9]\n"
     ]
    }
   ],
   "source": [
    "#Filter out all even numbers from a list.\n",
    "# Create a list of integers\n",
    "numbers = [1, 2, 3, 4, 5, 6, 7, 8, 9, 10]\n",
    "\n",
    "# Filter out even numbers using list comprehension\n",
    "filtered_numbers = [x for x in numbers if x % 2 != 0]\n",
    "\n",
    "# Print the new list\n",
    "print(\"List after filtering out even numbers:\", filtered_numbers)\n"
   ]
  },
  {
   "cell_type": "code",
   "execution_count": 8,
   "id": "89820cdb",
   "metadata": {},
   "outputs": [
    {
     "name": "stdout",
     "output_type": "stream",
     "text": [
      "List of integers (using list comprehension): [1, 2, 3, 4, 5]\n"
     ]
    }
   ],
   "source": [
    "#Convert a list of strings to a list of integers.\n",
    "# Create a list of strings representing integers\n",
    "string_numbers = [\"1\", \"2\", \"3\", \"4\", \"5\"]\n",
    "\n",
    "# Convert each string to an integer using list comprehension\n",
    "integer_numbers = [int(x) for x in string_numbers]\n",
    "\n",
    "# Print the new list\n",
    "print(\"List of integers (using list comprehension):\", integer_numbers)\n"
   ]
  },
  {
   "cell_type": "code",
   "execution_count": 9,
   "id": "00b6ab25",
   "metadata": {},
   "outputs": [
    {
     "name": "stdout",
     "output_type": "stream",
     "text": [
      "List of strings (using list comprehension): ['1', '2', '3', '4', '5']\n"
     ]
    }
   ],
   "source": [
    "#Convert a list of integers to a list of strings.\n",
    "# Create a list of integers\n",
    "integer_numbers = [1, 2, 3, 4, 5]\n",
    "\n",
    "# Convert each integer to a string using list comprehension\n",
    "string_numbers = [str(x) for x in integer_numbers]\n",
    "\n",
    "# Print the new list\n",
    "print(\"List of strings (using list comprehension):\", string_numbers)\n"
   ]
  },
  {
   "cell_type": "code",
   "execution_count": 10,
   "id": "5a20e2ea",
   "metadata": {},
   "outputs": [
    {
     "name": "stdout",
     "output_type": "stream",
     "text": [
      "Flattened list (using list comprehension): [1, 2, 3, 4, 5, 6, 7, 8, 9]\n"
     ]
    }
   ],
   "source": [
    "#Flatten a nested list.\n",
    "# Create a nested list\n",
    "nested_list = [[1, 2, 3], [4, 5], [6, 7, 8, 9]]\n",
    "\n",
    "# Flatten the nested list using list comprehension\n",
    "flattened_list = [item for sublist in nested_list for item in sublist]\n",
    "\n",
    "# Print the flattened list\n",
    "print(\"Flattened list (using list comprehension):\", flattened_list)\n"
   ]
  },
  {
   "cell_type": "code",
   "execution_count": 11,
   "id": "521a6108",
   "metadata": {},
   "outputs": [
    {
     "name": "stdout",
     "output_type": "stream",
     "text": [
      "First 10 Fibonacci numbers: [0, 1, 1, 2, 3, 5, 8, 13, 21, 34]\n"
     ]
    }
   ],
   "source": [
    "#Create a list of the first 10 Fibonacci numbers.\n",
    "# Initialize the first two Fibonacci numbers\n",
    "fibonacci_numbers = [0, 1]\n",
    "\n",
    "# Generate the next 8 Fibonacci numbers\n",
    "for i in range(2, 10):\n",
    "    fibonacci_numbers.append(fibonacci_numbers[i-1] + fibonacci_numbers[i-2])\n",
    "\n",
    "# Print the list of Fibonacci numbers\n",
    "print(\"First 10 Fibonacci numbers:\", fibonacci_numbers)\n"
   ]
  },
  {
   "cell_type": "code",
   "execution_count": 12,
   "id": "89ed4cca",
   "metadata": {},
   "outputs": [
    {
     "name": "stdout",
     "output_type": "stream",
     "text": [
      "List1 is sorted in descending order: True\n",
      "List2 is sorted in descending order: False\n",
      "List3 is sorted in descending order: False\n"
     ]
    }
   ],
   "source": [
    "#Check if a list is sorted.\n",
    "# Function to check if a list is sorted in descending order\n",
    "def is_sorted_descending(lst):\n",
    "    return all(lst[i] >= lst[i + 1] for i in range(len(lst) - 1))\n",
    "\n",
    "# Example lists\n",
    "list1 = [5, 4, 3, 2, 1]\n",
    "list2 = [1, 2, 3, 4, 5]\n",
    "list3 = [5, 3, 4, 2, 1]\n",
    "\n",
    "# Check if lists are sorted in descending order\n",
    "print(\"List1 is sorted in descending order:\", is_sorted_descending(list1))  # True\n",
    "print(\"List2 is sorted in descending order:\", is_sorted_descending(list2))  # False\n",
    "print(\"List3 is sorted in descending order:\", is_sorted_descending(list3))  # False\n"
   ]
  },
  {
   "cell_type": "code",
   "execution_count": 13,
   "id": "d56ef1e6",
   "metadata": {},
   "outputs": [
    {
     "name": "stdout",
     "output_type": "stream",
     "text": [
      "Original list: [1, 2, 3, 4, 5]\n",
      "Rotated list: [3, 4, 5, 1, 2]\n"
     ]
    }
   ],
   "source": [
    "#Rotate a list to the left by `n` positions.\n",
    "def rotate_left(lst, n):\n",
    "    # Calculate the effective rotation index\n",
    "    n = n % len(lst)\n",
    "    \n",
    "    # Perform rotation using list slicing\n",
    "    rotated_list = lst[n:] + lst[:n]\n",
    "    \n",
    "    return rotated_list\n",
    "\n",
    "# Example list\n",
    "my_list = [1, 2, 3, 4, 5]\n",
    "\n",
    "# Rotate the list to the left by 2 positions\n",
    "rotated = rotate_left(my_list, 2)\n",
    "\n",
    "# Print the rotated list\n",
    "print(\"Original list:\", my_list)\n",
    "print(\"Rotated list:\", rotated)\n"
   ]
  },
  {
   "cell_type": "code",
   "execution_count": 14,
   "id": "1d82ed35",
   "metadata": {},
   "outputs": [
    {
     "name": "stdout",
     "output_type": "stream",
     "text": [
      "Original list: [1, 2, 3, 4, 5]\n",
      "Rotated list: [4, 5, 1, 2, 3]\n"
     ]
    }
   ],
   "source": [
    "#Rotate a list to the right by `n` positions.\n",
    "def rotate_right(lst, n):\n",
    "    # Calculate the effective rotation index\n",
    "    n = n % len(lst)\n",
    "    \n",
    "    # Perform rotation using list slicing\n",
    "    rotated_list = lst[-n:] + lst[:-n]\n",
    "    \n",
    "    return rotated_list\n",
    "\n",
    "# Example list\n",
    "my_list = [1, 2, 3, 4, 5]\n",
    "\n",
    "# Rotate the list to the right by 2 positions\n",
    "rotated = rotate_right(my_list, 2)\n",
    "\n",
    "# Print the rotated list\n",
    "print(\"Original list:\", my_list)\n",
    "print(\"Rotated list:\", rotated)\n"
   ]
  },
  {
   "cell_type": "code",
   "execution_count": 15,
   "id": "754feb04",
   "metadata": {},
   "outputs": [
    {
     "name": "stdout",
     "output_type": "stream",
     "text": [
      "Prime numbers up to 50: [2, 3, 5, 7, 11, 13, 17, 19, 23, 29, 31, 37, 41, 43, 47]\n"
     ]
    }
   ],
   "source": [
    "#Create a list of prime numbers up to 50.\n",
    "def is_prime(num):\n",
    "    \"\"\" Function to check if a number is prime \"\"\"\n",
    "    if num <= 1:\n",
    "        return False\n",
    "    if num == 2:\n",
    "        return True  # 2 is prime\n",
    "    if num % 2 == 0:\n",
    "        return False  # other even numbers are not prime\n",
    "    for i in range(3, int(num**0.5) + 1, 2):\n",
    "        if num % i == 0:\n",
    "            return False\n",
    "    return True\n",
    "\n",
    "# Create a list of prime numbers up to 50\n",
    "prime_numbers = [num for num in range(2, 51) if is_prime(num)]\n",
    "\n",
    "# Print the list of prime numbers\n",
    "print(\"Prime numbers up to 50:\", prime_numbers)\n"
   ]
  },
  {
   "cell_type": "code",
   "execution_count": 16,
   "id": "db65bc4d",
   "metadata": {},
   "outputs": [
    {
     "name": "stdout",
     "output_type": "stream",
     "text": [
      "Original list: [1, 2, 3, 4, 5, 6, 7, 8, 9, 10]\n",
      "Chunked list with size 3: [[1, 2, 3], [4, 5, 6], [7, 8, 9], [10]]\n"
     ]
    }
   ],
   "source": [
    "#Split a list into chunks of size `n`.\n",
    "def chunk_list(lst, n):\n",
    "    \"\"\" Function to split a list into chunks of size n \"\"\"\n",
    "    return [lst[i:i + n] for i in range(0, len(lst), n)]\n",
    "\n",
    "# Example list\n",
    "my_list = [1, 2, 3, 4, 5, 6, 7, 8, 9, 10]\n",
    "\n",
    "# Split my_list into chunks of size 3\n",
    "chunked_list = chunk_list(my_list, 3)\n",
    "\n",
    "# Print the chunked list\n",
    "print(\"Original list:\", my_list)\n",
    "print(\"Chunked list with size 3:\", chunked_list)\n"
   ]
  },
  {
   "cell_type": "code",
   "execution_count": 17,
   "id": "ead22cd6",
   "metadata": {},
   "outputs": [
    {
     "name": "stdout",
     "output_type": "stream",
     "text": [
      "Original list: [3, 1, 5, 7, 4, 2, 9, 8]\n",
      "Second largest number: 8\n"
     ]
    }
   ],
   "source": [
    "#Find the second largest number in a list.\n",
    "def second_largest_number(lst):\n",
    "    # Initialize variables to hold the largest and second largest numbers\n",
    "    largest = float('-inf')\n",
    "    second_largest = float('-inf')\n",
    "    \n",
    "    # Traverse the list to find the largest and second largest numbers\n",
    "    for num in lst:\n",
    "        if num > largest:\n",
    "            second_largest = largest\n",
    "            largest = num\n",
    "        elif num > second_largest and num != largest:\n",
    "            second_largest = num\n",
    "    \n",
    "    return second_largest\n",
    "\n",
    "# Example list\n",
    "my_list = [3, 1, 5, 7, 4, 2, 9, 8]\n",
    "\n",
    "# Find the second largest number\n",
    "result = second_largest_number(my_list)\n",
    "\n",
    "# Print the result\n",
    "print(\"Original list:\", my_list)\n",
    "print(\"Second largest number:\", result)\n"
   ]
  },
  {
   "cell_type": "code",
   "execution_count": 18,
   "id": "44ee191d",
   "metadata": {},
   "outputs": [
    {
     "name": "stdout",
     "output_type": "stream",
     "text": [
      "Squared list: [1, 4, 9, 16, 25]\n"
     ]
    }
   ],
   "source": [
    "#Replace every element in a list with its square.\n",
    "# Example list\n",
    "my_list = [1, 2, 3, 4, 5]\n",
    "\n",
    "# Replace every element with its square using a loop\n",
    "for i in range(len(my_list)):\n",
    "    my_list[i] = my_list[i] ** 2\n",
    "\n",
    "# Print the squared list\n",
    "print(\"Squared list:\", my_list)\n"
   ]
  },
  {
   "cell_type": "code",
   "execution_count": 19,
   "id": "992355b2",
   "metadata": {},
   "outputs": [
    {
     "name": "stdout",
     "output_type": "stream",
     "text": [
      "Original list: ['apple', 'banana', 'cherry', 'date']\n",
      "Dictionary: {'apple': 0, 'banana': 1, 'cherry': 2, 'date': 3}\n"
     ]
    }
   ],
   "source": [
    "#Convert a list to a dictionary where list elements become keys and their indices become values.\n",
    "# Example list\n",
    "my_list = ['apple', 'banana', 'cherry', 'date']\n",
    "\n",
    "# Convert list to dictionary with elements as keys and indices as values\n",
    "my_dict = {value: index for index, value in enumerate(my_list)}\n",
    "\n",
    "# Print the original list and the converted dictionary\n",
    "print(\"Original list:\", my_list)\n",
    "print(\"Dictionary:\", my_dict)\n"
   ]
  },
  {
   "cell_type": "code",
   "execution_count": 20,
   "id": "0308cf4e",
   "metadata": {},
   "outputs": [
    {
     "name": "stdout",
     "output_type": "stream",
     "text": [
      "Shuffled list: [3, 2, 4, 1, 5]\n"
     ]
    }
   ],
   "source": [
    "import random\n",
    "\n",
    "# Example list\n",
    "my_list = [1, 2, 3, 4, 5]\n",
    "\n",
    "# Shuffle the list randomly\n",
    "random.shuffle(my_list)\n",
    "\n",
    "# Print the shuffled list\n",
    "print(\"Shuffled list:\", my_list)\n"
   ]
  },
  {
   "cell_type": "code",
   "execution_count": 21,
   "id": "8e6b9ed7",
   "metadata": {},
   "outputs": [
    {
     "name": "stdout",
     "output_type": "stream",
     "text": [
      "First 10 factorial numbers: [1, 2, 6, 24, 120, 720, 5040, 40320, 362880, 3628800]\n"
     ]
    }
   ],
   "source": [
    "#Create a list of the first 10 factorial numbers.\n",
    "# Function to compute factorial\n",
    "def factorial(n):\n",
    "    if n == 0 or n == 1:\n",
    "        return 1\n",
    "    result = 1\n",
    "    for i in range(2, n + 1):\n",
    "        result *= i\n",
    "    return result\n",
    "\n",
    "# Create a list of the first 10 factorial numbers\n",
    "factorial_numbers = [factorial(i) for i in range(1, 11)]\n",
    "\n",
    "# Print the list of factorial numbers\n",
    "print(\"First 10 factorial numbers:\", factorial_numbers)\n"
   ]
  },
  {
   "cell_type": "code",
   "execution_count": 22,
   "id": "6a1ab37f",
   "metadata": {},
   "outputs": [
    {
     "name": "stdout",
     "output_type": "stream",
     "text": [
      "List1 and List2: False\n",
      "List1 and List3: True\n"
     ]
    }
   ],
   "source": [
    "#Check if two lists have at least one element in common.\n",
    "def have_common_element(list1, list2):\n",
    "    # Convert lists to sets for O(1) average-time complexity membership checking\n",
    "    set1 = set(list1)\n",
    "    set2 = set(list2)\n",
    "    \n",
    "    # Check if there is any common element between the two sets\n",
    "    return len(set1.intersection(set2)) > 0\n",
    "\n",
    "# Example lists\n",
    "list1 = [1, 2, 3, 4, 5]\n",
    "list2 = [6, 7, 8, 9, 10]\n",
    "list3 = [5, 10, 15, 20]\n",
    "\n",
    "# Check if list1 and list2 have at least one common element\n",
    "print(\"List1 and List2:\", have_common_element(list1, list2))  # False\n",
    "\n",
    "# Check if list1 and list3 have at least one common element\n",
    "print(\"List1 and List3:\", have_common_element(list1, list3))  # True\n"
   ]
  },
  {
   "cell_type": "code",
   "execution_count": 23,
   "id": "aafaaa4c",
   "metadata": {},
   "outputs": [
    {
     "name": "stdout",
     "output_type": "stream",
     "text": [
      "Empty list: []\n"
     ]
    }
   ],
   "source": [
    "#Remove all elements from a list.\n",
    "# Example list\n",
    "my_list = [1, 2, 3, 4, 5]\n",
    "\n",
    "# Clear all elements from the list\n",
    "my_list.clear()\n",
    "\n",
    "# Print the empty list\n",
    "print(\"Empty list:\", my_list)\n"
   ]
  },
  {
   "cell_type": "code",
   "execution_count": 24,
   "id": "90fedf57",
   "metadata": {},
   "outputs": [
    {
     "name": "stdout",
     "output_type": "stream",
     "text": [
      "Updated list: [3, 0, 4, 0, 0, 8, 0]\n"
     ]
    }
   ],
   "source": [
    "#Replace negative numbers in a list with 0.\n",
    "# Example list with negative numbers\n",
    "my_list = [3, -1, 4, -5, 0, 8, -2]\n",
    "\n",
    "# Replace negative numbers with 0 using list comprehension\n",
    "my_list = [x if x >= 0 else 0 for x in my_list]\n",
    "\n",
    "# Print the updated list\n",
    "print(\"Updated list:\", my_list)\n"
   ]
  },
  {
   "cell_type": "code",
   "execution_count": 25,
   "id": "e11fce11",
   "metadata": {},
   "outputs": [
    {
     "name": "stdout",
     "output_type": "stream",
     "text": [
      "List of words: ['Hello', 'world!', 'This', 'is', 'a', 'test', 'string.']\n"
     ]
    }
   ],
   "source": [
    "#Convert a string into a list of words.\n",
    "# Example string\n",
    "my_string = \"Hello world! This is a test string.\"\n",
    "\n",
    "# Convert string to a list of words\n",
    "word_list = my_string.split()\n",
    "\n",
    "# Print the list of words\n",
    "print(\"List of words:\", word_list)\n"
   ]
  },
  {
   "cell_type": "code",
   "execution_count": 26,
   "id": "100880e3",
   "metadata": {},
   "outputs": [
    {
     "name": "stdout",
     "output_type": "stream",
     "text": [
      "Resulting string: Hello world! This is a test string.\n"
     ]
    }
   ],
   "source": [
    "#Convert a list of words into a string.\n",
    "# Example list of words\n",
    "word_list = ['Hello', 'world!', 'This', 'is', 'a', 'test', 'string.']\n",
    "\n",
    "# Convert list of words to a single string\n",
    "my_string = ' '.join(word_list)\n",
    "\n",
    "# Print the resulting string\n",
    "print(\"Resulting string:\", my_string)\n"
   ]
  },
  {
   "cell_type": "code",
   "execution_count": 27,
   "id": "d4bdef43",
   "metadata": {},
   "outputs": [
    {
     "name": "stdout",
     "output_type": "stream",
     "text": [
      "List of the first 5 powers of 2: [1, 2, 4, 8, 16]\n"
     ]
    }
   ],
   "source": [
    "#Create a list of the first `n` powers of 2.\n",
    "# Example: Generate the first n powers of 2 using a loop\n",
    "n = 5  # Number of powers of 2 required\n",
    "powers_of_2 = []\n",
    "\n",
    "for i in range(n):\n",
    "    powers_of_2.append(2 ** i)\n",
    "\n",
    "# Print the list of powers of 2\n",
    "print(\"List of the first\", n, \"powers of 2:\", powers_of_2)\n"
   ]
  },
  {
   "cell_type": "code",
   "execution_count": 28,
   "id": "dbccaa87",
   "metadata": {},
   "outputs": [
    {
     "name": "stdout",
     "output_type": "stream",
     "text": [
      "Longest string: strawberry\n"
     ]
    }
   ],
   "source": [
    "#Find the longest string in a list of strings.\n",
    "# Example list of strings\n",
    "string_list = ['apple', 'banana', 'kiwi', 'strawberry', 'orange']\n",
    "\n",
    "# Find the longest string using max() function with len as key\n",
    "longest_string = max(string_list, key=len)\n",
    "\n",
    "# Print the longest string\n",
    "print(\"Longest string:\", longest_string)\n"
   ]
  },
  {
   "cell_type": "code",
   "execution_count": 30,
   "id": "69a38110",
   "metadata": {},
   "outputs": [
    {
     "name": "stdout",
     "output_type": "stream",
     "text": [
      "Shortest string: kiwi\n"
     ]
    }
   ],
   "source": [
    "#Find the shortest string in a list of strings.\n",
    "# Example list of strings\n",
    "string_list = ['apple', 'banana', 'kiwi', 'strawberry', 'orange']\n",
    "\n",
    "# Find the shortest string using min() function with len as key\n",
    "shortest_string = min(string_list, key=len)\n",
    "\n",
    "# Print the shortest string\n",
    "print(\"Shortest string:\", shortest_string)\n",
    "\n"
   ]
  },
  {
   "cell_type": "code",
   "execution_count": 31,
   "id": "926f3776",
   "metadata": {},
   "outputs": [
    {
     "name": "stdout",
     "output_type": "stream",
     "text": [
      "List of the first 5 triangular numbers: [1, 3, 6, 10, 15]\n"
     ]
    }
   ],
   "source": [
    "#Create a list of the first `n` triangular numbers.\n",
    "# Example: Generate the first n triangular numbers\n",
    "n = 5  # Number of triangular numbers required\n",
    "triangular_numbers = []\n",
    "\n",
    "# Calculate and append triangular numbers to the list\n",
    "for i in range(1, n + 1):\n",
    "    triangular_number = (i * (i + 1)) // 2\n",
    "    triangular_numbers.append(triangular_number)\n",
    "\n",
    "# Print the list of triangular numbers\n",
    "print(\"List of the first\", n, \"triangular numbers:\", triangular_numbers)\n"
   ]
  },
  {
   "cell_type": "code",
   "execution_count": 32,
   "id": "6ed57b49",
   "metadata": {},
   "outputs": [
    {
     "name": "stdout",
     "output_type": "stream",
     "text": [
      "Is subsequence: True\n"
     ]
    }
   ],
   "source": [
    "#Check if a list contains another list as a subsequence.\n",
    "def is_subsequence(main_list, subsequence):\n",
    "    # Initialize pointers for main_list and subsequence\n",
    "    main_index = 0\n",
    "    sub_index = 0\n",
    "    \n",
    "    # Iterate through main_list and check for subsequence\n",
    "    while main_index < len(main_list) and sub_index < len(subsequence):\n",
    "        if main_list[main_index] == subsequence[sub_index]:\n",
    "            sub_index += 1\n",
    "        main_index += 1\n",
    "    \n",
    "    # If all elements of subsequence are found in main_list in order\n",
    "    return sub_index == len(subsequence)\n",
    "\n",
    "# Example usage\n",
    "main_list = [1, 2, 3, 4, 5, 6, 7, 8]\n",
    "subsequence = [3, 5, 7]\n",
    "\n",
    "# Check if subsequence is a subsequence of main_list\n",
    "result = is_subsequence(main_list, subsequence)\n",
    "print(\"Is subsequence:\", result)\n"
   ]
  },
  {
   "cell_type": "code",
   "execution_count": 33,
   "id": "fa1adf3c",
   "metadata": {},
   "outputs": [
    {
     "name": "stdout",
     "output_type": "stream",
     "text": [
      "List after swapping: [3, 9, 2, 7, 1]\n"
     ]
    }
   ],
   "source": [
    "#Swap two elements in a list by their indices.\n",
    "def swap_elements(my_list, index1, index2):\n",
    "    # Check if indices are valid\n",
    "    if 0 <= index1 < len(my_list) and 0 <= index2 < len(my_list):\n",
    "        # Swap elements at index1 and index2\n",
    "        my_list[index1], my_list[index2] = my_list[index2], my_list[index1]\n",
    "    else:\n",
    "        print(\"Error: Invalid indices provided.\")\n",
    "\n",
    "# Example usage\n",
    "my_list = [3, 7, 2, 9, 1]\n",
    "index1 = 1\n",
    "index2 = 3\n",
    "\n",
    "# Swap elements at index1 and index2 in my_list\n",
    "swap_elements(my_list, index1, index2)\n",
    "\n",
    "# Print the list after swapping\n",
    "print(\"List after swapping:\", my_list)\n"
   ]
  },
  {
   "cell_type": "code",
   "execution_count": 34,
   "id": "ce784070",
   "metadata": {},
   "outputs": [
    {
     "name": "stdout",
     "output_type": "stream",
     "text": [
      "Tuple with integers from 1 to 5: (1, 2, 3, 4, 5)\n"
     ]
    }
   ],
   "source": [
    "#Tuple Based Practice Problem :\n",
    "# Create a tuple with integers from 1 to 5\n",
    "my_tuple = tuple(range(1, 6))\n",
    "\n",
    "# Print the tuple\n",
    "print(\"Tuple with integers from 1 to 5:\", my_tuple)\n"
   ]
  },
  {
   "cell_type": "code",
   "execution_count": 35,
   "id": "185a95f6",
   "metadata": {},
   "outputs": [
    {
     "name": "stdout",
     "output_type": "stream",
     "text": [
      "Third element of the tuple: 30\n"
     ]
    }
   ],
   "source": [
    "#Access the third element of a tuple.\n",
    "# Example tuple\n",
    "my_tuple = (10, 20, 30, 40, 50)\n",
    "\n",
    "# Access the third element (index 2) of the tuple\n",
    "third_element = my_tuple[2]\n",
    "\n",
    "# Print the third element\n",
    "print(\"Third element of the tuple:\", third_element)\n"
   ]
  },
  {
   "cell_type": "code",
   "execution_count": 36,
   "id": "b13d862e",
   "metadata": {},
   "outputs": [
    {
     "name": "stdout",
     "output_type": "stream",
     "text": [
      "Length of the tuple: 5\n"
     ]
    }
   ],
   "source": [
    "#Find the length of a tuple without using the `len()` function.\n",
    "# Example tuple\n",
    "my_tuple = (10, 20, 30, 40, 50)\n",
    "\n",
    "# Calculate the length of the tuple without using len()\n",
    "length = 0\n",
    "for _ in my_tuple:\n",
    "    length += 1\n",
    "\n",
    "# Print the length of the tuple\n",
    "print(\"Length of the tuple:\", length)\n"
   ]
  },
  {
   "cell_type": "code",
   "execution_count": 37,
   "id": "920d5498",
   "metadata": {},
   "outputs": [
    {
     "name": "stdout",
     "output_type": "stream",
     "text": [
      "Number of occurrences of 20 in the tuple: 3\n"
     ]
    }
   ],
   "source": [
    "#Count the occurrences of an element in a tuple.\n",
    "# Example tuple\n",
    "my_tuple = (10, 20, 30, 20, 40, 20, 50)\n",
    "\n",
    "# Count occurrences of the element 20 in the tuple\n",
    "count_20 = my_tuple.count(20)\n",
    "\n",
    "# Print the count\n",
    "print(\"Number of occurrences of 20 in the tuple:\", count_20)\n"
   ]
  },
  {
   "cell_type": "code",
   "execution_count": 38,
   "id": "5b4d1f03",
   "metadata": {},
   "outputs": [
    {
     "name": "stdout",
     "output_type": "stream",
     "text": [
      "Index of the first occurrence of 20 in the tuple: 1\n"
     ]
    }
   ],
   "source": [
    "#Find the index of the first occurrence of an element in a tuple.\n",
    "# Example tuple\n",
    "my_tuple = (10, 20, 30, 20, 40, 20, 50)\n",
    "\n",
    "# Find the index of the first occurrence of 20 in the tuple\n",
    "index_20 = my_tuple.index(20)\n",
    "\n",
    "# Print the index\n",
    "print(\"Index of the first occurrence of 20 in the tuple:\", index_20)\n"
   ]
  },
  {
   "cell_type": "code",
   "execution_count": 39,
   "id": "d0664a81",
   "metadata": {},
   "outputs": [
    {
     "name": "stdout",
     "output_type": "stream",
     "text": [
      "Element 30 exists in the tuple.\n"
     ]
    }
   ],
   "source": [
    "#Check if an element exists in a tuple.\n",
    "# Example tuple\n",
    "my_tuple = (10, 20, 30, 40, 50)\n",
    "\n",
    "# Check if element 30 exists in the tuple\n",
    "if 30 in my_tuple:\n",
    "    print(\"Element 30 exists in the tuple.\")\n",
    "else:\n",
    "    print(\"Element 30 does not exist in the tuple.\")\n"
   ]
  },
  {
   "cell_type": "code",
   "execution_count": 40,
   "id": "b89bb41c",
   "metadata": {},
   "outputs": [
    {
     "name": "stdout",
     "output_type": "stream",
     "text": [
      "Converted list: [10, 20, 30, 40, 50]\n"
     ]
    }
   ],
   "source": [
    "#Convert a tuple to a list.\n",
    "# Example tuple\n",
    "my_tuple = (10, 20, 30, 40, 50)\n",
    "\n",
    "# Convert tuple to a list\n",
    "my_list = list(my_tuple)\n",
    "\n",
    "# Print the converted list\n",
    "print(\"Converted list:\", my_list)\n"
   ]
  },
  {
   "cell_type": "code",
   "execution_count": 41,
   "id": "2c466e6a",
   "metadata": {},
   "outputs": [
    {
     "name": "stdout",
     "output_type": "stream",
     "text": [
      "Converted tuple: (10, 20, 30, 40, 50)\n"
     ]
    }
   ],
   "source": [
    "#Convert a list to a tuple.\n",
    "# Example list\n",
    "my_list = [10, 20, 30, 40, 50]\n",
    "\n",
    "# Convert list to a tuple\n",
    "my_tuple = tuple(my_list)\n",
    "\n",
    "# Print the converted tuple\n",
    "print(\"Converted tuple:\", my_tuple)\n"
   ]
  },
  {
   "cell_type": "code",
   "execution_count": 42,
   "id": "eb870ebe",
   "metadata": {},
   "outputs": [
    {
     "name": "stdout",
     "output_type": "stream",
     "text": [
      "Unpacked variables:\n",
      "a = 10\n",
      "b = 20\n",
      "c = 30\n"
     ]
    }
   ],
   "source": [
    "#Unpack the elements of a tuple into variables.\n",
    "# Example tuple\n",
    "my_tuple = (10, 20, 30)\n",
    "\n",
    "# Unpack the tuple into variables\n",
    "a, b, c = my_tuple\n",
    "\n",
    "# Print the unpacked variables\n",
    "print(\"Unpacked variables:\")\n",
    "print(\"a =\", a)\n",
    "print(\"b =\", b)\n",
    "print(\"c =\", c)\n"
   ]
  },
  {
   "cell_type": "code",
   "execution_count": 43,
   "id": "77f236eb",
   "metadata": {},
   "outputs": [
    {
     "name": "stdout",
     "output_type": "stream",
     "text": [
      "Tuple of even numbers from 1 to 10: (2, 4, 6, 8, 10)\n"
     ]
    }
   ],
   "source": [
    "#Create a tuple of even numbers from 1 to 10.\n",
    "\n",
    "even_numbers_tuple = tuple(range(2, 11, 2))\n",
    "\n",
    "# Print the tuple\n",
    "print(\"Tuple of even numbers from 1 to 10:\", even_numbers_tuple)\n"
   ]
  },
  {
   "cell_type": "code",
   "execution_count": 44,
   "id": "535416be",
   "metadata": {},
   "outputs": [
    {
     "name": "stdout",
     "output_type": "stream",
     "text": [
      "Tuple of odd numbers from 1 to 10: (1, 3, 5, 7, 9)\n"
     ]
    }
   ],
   "source": [
    "## Create a tuple of odd numbers from 1 to 10\n",
    "odd_numbers_tuple = tuple(range(1, 11, 2))\n",
    "\n",
    "# Print the tuple\n",
    "print(\"Tuple of odd numbers from 1 to 10:\", odd_numbers_tuple)\n"
   ]
  },
  {
   "cell_type": "code",
   "execution_count": 45,
   "id": "38936e53",
   "metadata": {},
   "outputs": [
    {
     "name": "stdout",
     "output_type": "stream",
     "text": [
      "Concatenated tuple: (1, 2, 3, 4, 5, 6)\n"
     ]
    }
   ],
   "source": [
    "#Concatenate two tuples.\n",
    "# Example tuples\n",
    "tuple1 = (1, 2, 3)\n",
    "tuple2 = (4, 5, 6)\n",
    "\n",
    "# Concatenate tuples\n",
    "concatenated_tuple = tuple1 + tuple2\n",
    "\n",
    "# Print the concatenated tuple\n",
    "print(\"Concatenated tuple:\", concatenated_tuple)\n"
   ]
  },
  {
   "cell_type": "code",
   "execution_count": 46,
   "id": "93d4fc08",
   "metadata": {},
   "outputs": [
    {
     "name": "stdout",
     "output_type": "stream",
     "text": [
      "Repeated tuple: (1, 2, 3, 1, 2, 3, 1, 2, 3)\n"
     ]
    }
   ],
   "source": [
    "#Repeat a tuple three times.\n",
    "# Example tuple\n",
    "my_tuple = (1, 2, 3)\n",
    "\n",
    "# Repeat the tuple three times\n",
    "repeated_tuple = my_tuple * 3\n",
    "\n",
    "# Print the repeated tuple\n",
    "print(\"Repeated tuple:\", repeated_tuple)\n"
   ]
  },
  {
   "cell_type": "code",
   "execution_count": 47,
   "id": "5405ea87",
   "metadata": {},
   "outputs": [
    {
     "name": "stdout",
     "output_type": "stream",
     "text": [
      "empty_tuple is empty.\n",
      "non_empty_tuple is not empty.\n"
     ]
    }
   ],
   "source": [
    "#Check if a tuple is empty.\n",
    "# Example tuples\n",
    "empty_tuple = ()\n",
    "non_empty_tuple = (1, 2, 3)\n",
    "\n",
    "# Check if a tuple is empty\n",
    "if not empty_tuple:\n",
    "    print(\"empty_tuple is empty.\")\n",
    "else:\n",
    "    print(\"empty_tuple is not empty.\")\n",
    "\n",
    "if not non_empty_tuple:\n",
    "    print(\"non_empty_tuple is empty.\")\n",
    "else:\n",
    "    print(\"non_empty_tuple is not empty.\")\n"
   ]
  },
  {
   "cell_type": "code",
   "execution_count": 48,
   "id": "2315cc40",
   "metadata": {},
   "outputs": [
    {
     "name": "stdout",
     "output_type": "stream",
     "text": [
      "Nested tuple: ((1, 2, 3), ('a', 'b', 'c'), (True, False))\n"
     ]
    }
   ],
   "source": [
    "#Create a nested tuple.\n",
    "# Example of a nested tuple\n",
    "nested_tuple = ((1, 2, 3), ('a', 'b', 'c'), (True, False))\n",
    "\n",
    "# Print the nested tuple\n",
    "print(\"Nested tuple:\", nested_tuple)\n"
   ]
  },
  {
   "cell_type": "code",
   "execution_count": 50,
   "id": "9c244f24",
   "metadata": {},
   "outputs": [
    {
     "name": "stdout",
     "output_type": "stream",
     "text": [
      "First element of the nested tuple: 1\n"
     ]
    }
   ],
   "source": [
    "#Access the first element of a nested tuple.\n",
    "# Example of a nested tuple\n",
    "nested_tuple = ((1, 2, 3), ('a', 'b', 'c'), (True, False))\n",
    "\n",
    "# Access the first element of the nested tuple\n",
    "first_element = nested_tuple[0]\n",
    "\n",
    "# Print the first element\n",
    "print(\"First element of the nested tuple:\", first_element)\n"
   ]
  },
  {
   "cell_type": "code",
   "execution_count": 51,
   "id": "00094964",
   "metadata": {},
   "outputs": [
    {
     "name": "stdout",
     "output_type": "stream",
     "text": [
      "Tuple with a single element: (1,)\n"
     ]
    }
   ],
   "source": [
    "#Create a tuple with a single element.\n",
    "# Tuple with a single element\n",
    "single_element_tuple = (1,)\n",
    "\n",
    "# Print the tuple\n",
    "print(\"Tuple with a single element:\", single_element_tuple)\n"
   ]
  },
  {
   "cell_type": "code",
   "execution_count": 52,
   "id": "0177008f",
   "metadata": {},
   "outputs": [
    {
     "name": "stdout",
     "output_type": "stream",
     "text": [
      "tuple1 and tuple2 are not equal\n"
     ]
    }
   ],
   "source": [
    "#18. Compare two tuples.\n",
    "# Example tuples\n",
    "tuple1 = (1, 2, 3)\n",
    "tuple2 = (1, 2, 4)\n",
    "\n",
    "# Compare tuples\n",
    "if tuple1 == tuple2:\n",
    "    print(\"tuple1 and tuple2 are equal\")\n",
    "else:\n",
    "    print(\"tuple1 and tuple2 are not equal\")\n",
    "\n"
   ]
  },
  {
   "cell_type": "code",
   "execution_count": 54,
   "id": "4b932245",
   "metadata": {},
   "outputs": [],
   "source": [
    "#Delete a tuple.\n",
    "# Example tuple\n",
    "my_tuple = (1, 2, 3, 4, 5)\n",
    "\n",
    "# Delete the tuple\n",
    "del my_tuple\n",
    "\n",
    "# Attempting to access the tuple after deletion will raise an error\n",
    "# print(my_tuple)  # This will raise NameError: name 'my_tuple' is not defined\n"
   ]
  },
  {
   "cell_type": "code",
   "execution_count": 55,
   "id": "8946bc21",
   "metadata": {},
   "outputs": [
    {
     "name": "stdout",
     "output_type": "stream",
     "text": [
      "Sliced tuple: (3, 4, 5, 6)\n"
     ]
    }
   ],
   "source": [
    "#Slice a tuple.\n",
    "# Example tuple\n",
    "my_tuple = (1, 2, 3, 4, 5, 6, 7, 8, 9, 10)\n",
    "\n",
    "# Slice the tuple to get elements from index 2 to 5 (exclusive)\n",
    "sliced_tuple = my_tuple[2:6]\n",
    "\n",
    "# Print the sliced tuple\n",
    "print(\"Sliced tuple:\", sliced_tuple)\n"
   ]
  },
  {
   "cell_type": "code",
   "execution_count": 56,
   "id": "d1c67e14",
   "metadata": {},
   "outputs": [
    {
     "name": "stdout",
     "output_type": "stream",
     "text": [
      "Maximum value in the tuple: 9\n"
     ]
    }
   ],
   "source": [
    "#Find the maximum value in a tuple.\n",
    "# Example tuple\n",
    "my_tuple = (5, 3, 8, 1, 9, 2)\n",
    "\n",
    "# Find the maximum value in the tuple\n",
    "max_value = max(my_tuple)\n",
    "\n",
    "# Print the maximum value\n",
    "print(\"Maximum value in the tuple:\", max_value)\n"
   ]
  },
  {
   "cell_type": "code",
   "execution_count": 57,
   "id": "be937386",
   "metadata": {},
   "outputs": [
    {
     "name": "stdout",
     "output_type": "stream",
     "text": [
      "minimum value in the tuple: 1\n"
     ]
    }
   ],
   "source": [
    "#Find the minimum value in a tuple.\n",
    "# Example tuple\n",
    "my_tuple = (5, 3, 8, 1, 9, 2)\n",
    "\n",
    "# Find the minimum value in the tuple\n",
    "min_value = min(my_tuple)\n",
    "\n",
    "# Print the maximum value\n",
    "print(\"minimum value in the tuple:\", min_value)\n"
   ]
  },
  {
   "cell_type": "code",
   "execution_count": 58,
   "id": "90f947e9",
   "metadata": {},
   "outputs": [
    {
     "name": "stdout",
     "output_type": "stream",
     "text": [
      "Tuple of characters: ('h', 'e', 'l', 'l', 'o')\n"
     ]
    }
   ],
   "source": [
    "#Convert a string to a tuple of characters.\n",
    "# Example string\n",
    "my_string = \"hello\"\n",
    "\n",
    "# Convert the string to a tuple of characters\n",
    "tuple_of_chars = tuple(my_string)\n",
    "\n",
    "# Print the tuple of characters\n",
    "print(\"Tuple of characters:\", tuple_of_chars)\n"
   ]
  },
  {
   "cell_type": "code",
   "execution_count": 59,
   "id": "070fab95",
   "metadata": {},
   "outputs": [
    {
     "name": "stdout",
     "output_type": "stream",
     "text": [
      "String: hello\n"
     ]
    }
   ],
   "source": [
    "#Convert a tuple of characters to a string.\n",
    "# Example tuple of characters\n",
    "tuple_of_chars = ('h', 'e', 'l', 'l', 'o')\n",
    "\n",
    "# Convert the tuple of characters to a string\n",
    "string = ''.join(tuple_of_chars)\n",
    "\n",
    "# Print the string\n",
    "print(\"String:\", string)\n"
   ]
  },
  {
   "cell_type": "code",
   "execution_count": 60,
   "id": "14e7926d",
   "metadata": {},
   "outputs": [
    {
     "name": "stdout",
     "output_type": "stream",
     "text": [
      "Tuple with multiple data types: (42, 3.14, 'hello', True)\n"
     ]
    }
   ],
   "source": [
    "#Create a tuple from multiple data types.\n",
    "# Creating a tuple with multiple data types\n",
    "my_tuple = (42, 3.14, \"hello\", True)\n",
    "\n",
    "# Print the tuple\n",
    "print(\"Tuple with multiple data types:\", my_tuple)\n"
   ]
  },
  {
   "cell_type": "code",
   "execution_count": 61,
   "id": "0aaf0195",
   "metadata": {},
   "outputs": [
    {
     "name": "stdout",
     "output_type": "stream",
     "text": [
      "Tuple1 and Tuple2 are identical: True\n",
      "Tuple1 and Tuple3 are identical: False\n"
     ]
    }
   ],
   "source": [
    "#Check if two tuples are identical.\n",
    "# Example tuples\n",
    "tuple1 = (1, 2, 3, 4, 5)\n",
    "tuple2 = (1, 2, 3, 4, 5)\n",
    "tuple3 = (1, 2, 3, 4, 6)\n",
    "\n",
    "# Check if tuple1 and tuple2 are identical\n",
    "are_identical_1_2 = tuple1 == tuple2\n",
    "\n",
    "# Check if tuple1 and tuple3 are identical\n",
    "are_identical_1_3 = tuple1 == tuple3\n",
    "\n",
    "# Print the results\n",
    "print(\"Tuple1 and Tuple2 are identical:\", are_identical_1_2)\n",
    "print(\"Tuple1 and Tuple3 are identical:\", are_identical_1_3)\n"
   ]
  },
  {
   "cell_type": "code",
   "execution_count": 62,
   "id": "4f5b02a2",
   "metadata": {},
   "outputs": [
    {
     "name": "stdout",
     "output_type": "stream",
     "text": [
      "Sorted tuple: (1, 1, 2, 3, 3, 4, 5, 5, 5, 6, 9)\n"
     ]
    }
   ],
   "source": [
    "#Sort the elements of a tuple.\n",
    "# Example tuple\n",
    "my_tuple = (3, 1, 4, 1, 5, 9, 2, 6, 5, 3, 5)\n",
    "\n",
    "# Convert the tuple to a list\n",
    "sorted_list = sorted(my_tuple)\n",
    "\n",
    "# Convert the sorted list back to a tuple\n",
    "sorted_tuple = tuple(sorted_list)\n",
    "\n",
    "# Print the sorted tuple\n",
    "print(\"Sorted tuple:\", sorted_tuple)\n"
   ]
  },
  {
   "cell_type": "code",
   "execution_count": 63,
   "id": "1b1cd2b8",
   "metadata": {},
   "outputs": [
    {
     "name": "stdout",
     "output_type": "stream",
     "text": [
      "Tuple of strings: ('1', '2', '3', '4', '5')\n"
     ]
    }
   ],
   "source": [
    "#Convert a tuple of integers to a tuple of strings.\n",
    "# Example tuple of integers\n",
    "int_tuple = (1, 2, 3, 4, 5)\n",
    "\n",
    "# Convert the tuple of integers to a tuple of strings\n",
    "str_tuple = tuple(map(str, int_tuple))\n",
    "\n",
    "# Print the tuple of strings\n",
    "print(\"Tuple of strings:\", str_tuple)\n"
   ]
  },
  {
   "cell_type": "code",
   "execution_count": 64,
   "id": "35670b4d",
   "metadata": {},
   "outputs": [
    {
     "name": "stdout",
     "output_type": "stream",
     "text": [
      "Tuple of integers: (1, 2, 3, 4, 5)\n"
     ]
    }
   ],
   "source": [
    "#Convert a tuple of strings to a tuple of integers.\n",
    "# Example tuple of strings\n",
    "str_tuple = ('1', '2', '3', '4', '5')\n",
    "\n",
    "# Convert the tuple of strings to a tuple of integers\n",
    "int_tuple = tuple(map(int, str_tuple))\n",
    "\n",
    "# Print the tuple of integers\n",
    "print(\"Tuple of integers:\", int_tuple)\n"
   ]
  },
  {
   "cell_type": "code",
   "execution_count": 65,
   "id": "c99fcf0d",
   "metadata": {},
   "outputs": [
    {
     "name": "stdout",
     "output_type": "stream",
     "text": [
      "Merged tuple: (1, 2, 3, 4, 5, 6)\n"
     ]
    }
   ],
   "source": [
    "#Merge two tuples.\n",
    "# Example tuples\n",
    "tuple1 = (1, 2, 3)\n",
    "tuple2 = (4, 5, 6)\n",
    "\n",
    "# Merge the two tuples\n",
    "merged_tuple = tuple1 + tuple2\n",
    "\n",
    "# Print the merged tuple\n",
    "print(\"Merged tuple:\", merged_tuple)\n"
   ]
  },
  {
   "cell_type": "code",
   "execution_count": 66,
   "id": "6e7d11a2",
   "metadata": {},
   "outputs": [
    {
     "name": "stdout",
     "output_type": "stream",
     "text": [
      "Flattened tuple: (1, 2, 3, 4, 5, 6, 7)\n"
     ]
    }
   ],
   "source": [
    "#Flatten a nested tuple.\n",
    "# Example nested tuple\n",
    "nested_tuple = (1, (2, 3), (4, (5, 6)), 7)\n",
    "\n",
    "# Recursive function to flatten the nested tuple\n",
    "def flatten_tuple(nested):\n",
    "    for item in nested:\n",
    "        if isinstance(item, tuple):\n",
    "            yield from flatten_tuple(item)\n",
    "        else:\n",
    "            yield item\n",
    "\n",
    "# Convert the generator to a tuple\n",
    "flattened_tuple = tuple(flatten_tuple(nested_tuple))\n",
    "\n",
    "# Print the flattened tuple\n",
    "print(\"Flattened tuple:\", flattened_tuple)\n"
   ]
  },
  {
   "cell_type": "code",
   "execution_count": 67,
   "id": "cbf95137",
   "metadata": {},
   "outputs": [
    {
     "name": "stdout",
     "output_type": "stream",
     "text": [
      "Flattened tuple: (1, 2, 3, 4, 5, 6, 7)\n"
     ]
    }
   ],
   "source": [
    "#Create a tuple of the first 5 prime numbers.\n",
    "# Example nested tuple\n",
    "nested_tuple = (1, (2, 3), (4, (5, 6)), 7)\n",
    "\n",
    "# Recursive function to flatten the nested tuple\n",
    "def flatten_tuple(nested):\n",
    "    for item in nested:\n",
    "        if isinstance(item, tuple):\n",
    "            yield from flatten_tuple(item)\n",
    "        else:\n",
    "            yield item\n",
    "\n",
    "# Convert the generator to a tuple\n",
    "flattened_tuple = tuple(flatten_tuple(nested_tuple))\n",
    "\n",
    "# Print the flattened tuple\n",
    "print(\"Flattened tuple:\", flattened_tuple)\n"
   ]
  },
  {
   "cell_type": "code",
   "execution_count": 68,
   "id": "488f090b",
   "metadata": {},
   "outputs": [
    {
     "name": "stdout",
     "output_type": "stream",
     "text": [
      "The tuple is a palindrome.\n"
     ]
    }
   ],
   "source": [
    "#Check if a tuple is a palindrome.\n",
    "# Example tuple\n",
    "my_tuple = (1, 2, 3, 2, 1)\n",
    "\n",
    "# Check if the tuple is a palindrome\n",
    "is_palindrome = my_tuple == my_tuple[::-1]\n",
    "\n",
    "# Print the result\n",
    "if is_palindrome:\n",
    "    print(\"The tuple is a palindrome.\")\n",
    "else:\n",
    "    print(\"The tuple is not a palindrome.\")\n"
   ]
  },
  {
   "cell_type": "code",
   "execution_count": 69,
   "id": "b496c990",
   "metadata": {},
   "outputs": [
    {
     "name": "stdout",
     "output_type": "stream",
     "text": [
      "Tuple of squares: (1, 4, 9, 16, 25)\n"
     ]
    }
   ],
   "source": [
    "#Create a tuple of squares of numbers from 1 to 5.\n",
    "# Create a tuple of squares of numbers from 1 to 5\n",
    "squares_tuple = tuple(x**2 for x in range(1, 6))\n",
    "\n",
    "# Print the tuple of squares\n",
    "print(\"Tuple of squares:\", squares_tuple)\n"
   ]
  },
  {
   "cell_type": "code",
   "execution_count": 70,
   "id": "a552ebeb",
   "metadata": {},
   "outputs": [
    {
     "name": "stdout",
     "output_type": "stream",
     "text": [
      "Filtered tuple (no even numbers): (1, 3, 5, 7, 9)\n"
     ]
    }
   ],
   "source": [
    "#Filter out all even numbers from a tuple.\n",
    "# Example tuple\n",
    "my_tuple = (1, 2, 3, 4, 5, 6, 7, 8, 9, 10)\n",
    "\n",
    "# Filter out even numbers using a generator expression\n",
    "filtered_tuple = tuple(x for x in my_tuple if x % 2 != 0)\n",
    "\n",
    "# Print the filtered tuple\n",
    "print(\"Filtered tuple (no even numbers):\", filtered_tuple)\n"
   ]
  },
  {
   "cell_type": "code",
   "execution_count": 71,
   "id": "5f96cd70",
   "metadata": {},
   "outputs": [
    {
     "name": "stdout",
     "output_type": "stream",
     "text": [
      "Multiplied tuple: (2, 4, 6, 8, 10)\n"
     ]
    }
   ],
   "source": [
    "#Multiply all elements in a tuple by 2.\n",
    "# Example tuple\n",
    "my_tuple = (1, 2, 3, 4, 5)\n",
    "\n",
    "# Multiply all elements by 2 using a generator expression\n",
    "multiplied_tuple = tuple(x * 2 for x in my_tuple)\n",
    "\n",
    "# Print the multiplied tuple\n",
    "print(\"Multiplied tuple:\", multiplied_tuple)\n"
   ]
  },
  {
   "cell_type": "code",
   "execution_count": 72,
   "id": "872e3048",
   "metadata": {},
   "outputs": [
    {
     "name": "stdout",
     "output_type": "stream",
     "text": [
      "Tuple of random numbers: (40, 4, 54, 93, 30)\n"
     ]
    }
   ],
   "source": [
    "#Create a tuple of random numbers.\n",
    "import random\n",
    "\n",
    "# Example: Create a tuple of 5 random integers between 1 and 100\n",
    "random_tuple = tuple(random.randint(1, 100) for _ in range(5))\n",
    "\n",
    "# Print the tuple of random numbers\n",
    "print(\"Tuple of random numbers:\", random_tuple)\n"
   ]
  },
  {
   "cell_type": "code",
   "execution_count": 73,
   "id": "2f0f0811",
   "metadata": {},
   "outputs": [
    {
     "name": "stdout",
     "output_type": "stream",
     "text": [
      "The tuple is sorted.\n"
     ]
    }
   ],
   "source": [
    "#Check if a tuple is sorted.\n",
    "# Example tuple\n",
    "my_tuple = (1, 2, 3, 4, 5)\n",
    "\n",
    "# Check if the tuple is sorted\n",
    "is_sorted = my_tuple == tuple(sorted(my_tuple))\n",
    "\n",
    "# Print the result\n",
    "if is_sorted:\n",
    "    print(\"The tuple is sorted.\")\n",
    "else:\n",
    "    print(\"The tuple is not sorted.\")\n"
   ]
  },
  {
   "cell_type": "code",
   "execution_count": 74,
   "id": "f1f0383e",
   "metadata": {},
   "outputs": [
    {
     "name": "stdout",
     "output_type": "stream",
     "text": [
      "Original tuple: (1, 2, 3, 4, 5)\n",
      "Rotated left by 2 positions: (3, 4, 5, 1, 2)\n"
     ]
    }
   ],
   "source": [
    "#Rotate a tuple to the left by `n` positions.\n",
    "# Example tuple\n",
    "my_tuple = (1, 2, 3, 4, 5)\n",
    "\n",
    "# Number of positions to rotate left\n",
    "n = 2\n",
    "\n",
    "# Calculate the effective rotation index\n",
    "rotate_index = n % len(my_tuple)\n",
    "\n",
    "# Rotate the tuple to the left by n positions\n",
    "rotated_tuple = my_tuple[rotate_index:] + my_tuple[:rotate_index]\n",
    "\n",
    "# Print the rotated tuple\n",
    "print(\"Original tuple:\", my_tuple)\n",
    "print(f\"Rotated left by {n} positions:\", rotated_tuple)\n"
   ]
  },
  {
   "cell_type": "code",
   "execution_count": 75,
   "id": "63742524",
   "metadata": {},
   "outputs": [
    {
     "name": "stdout",
     "output_type": "stream",
     "text": [
      "Original tuple: (1, 2, 3, 4, 5)\n",
      "Rotated right by 2 positions: (4, 5, 1, 2, 3)\n"
     ]
    }
   ],
   "source": [
    "#Rotate a tuple to the right by `n` positions.\n",
    "# Example tuple\n",
    "my_tuple = (1, 2, 3, 4, 5)\n",
    "\n",
    "# Number of positions to rotate right\n",
    "n = 2\n",
    "\n",
    "# Calculate the effective rotation index\n",
    "rotate_index = n % len(my_tuple)\n",
    "\n",
    "# Rotate the tuple to the right by n positions\n",
    "rotated_tuple = my_tuple[-rotate_index:] + my_tuple[:-rotate_index]\n",
    "\n",
    "# Print the rotated tuple\n",
    "print(\"Original tuple:\", my_tuple)\n",
    "print(f\"Rotated right by {n} positions:\", rotated_tuple)\n"
   ]
  },
  {
   "cell_type": "code",
   "execution_count": 76,
   "id": "a1c2e1ab",
   "metadata": {},
   "outputs": [
    {
     "name": "stdout",
     "output_type": "stream",
     "text": [
      "Tuple of the first 5 Fibonacci numbers: (0, 1, 1, 2, 3)\n"
     ]
    }
   ],
   "source": [
    "#Create a tuple of the first 5 Fibonacci numbers.\n",
    "# Initialize variables for Fibonacci sequence\n",
    "fibonacci_tuple = ()\n",
    "a, b = 0, 1  # Starting values for Fibonacci sequence\n",
    "\n",
    "# Generate the first 5 Fibonacci numbers\n",
    "for _ in range(5):\n",
    "    fibonacci_tuple += (a,)  # Append current Fibonacci number to tuple\n",
    "    a, b = b, a + b  # Update Fibonacci sequence\n",
    "\n",
    "# Print the tuple of Fibonacci numbers\n",
    "print(\"Tuple of the first 5 Fibonacci numbers:\", fibonacci_tuple)\n"
   ]
  },
  {
   "cell_type": "code",
   "execution_count": 77,
   "id": "1a12edf9",
   "metadata": {},
   "outputs": [
    {
     "name": "stdout",
     "output_type": "stream",
     "text": [
      "Enter elements separated by spaces: we rt 32 r4 65 6n 8y 5r 67 \n",
      "Tuple from user input: ('we', 'rt', '32', 'r4', '65', '6n', '8y', '5r', '67')\n"
     ]
    }
   ],
   "source": [
    "#Create a tuple from user input.\n",
    "# Take user input as a string\n",
    "user_input = input(\"Enter elements separated by spaces: \")\n",
    "\n",
    "# Split the input string into a list of elements\n",
    "elements = user_input.split()\n",
    "\n",
    "# Convert the list of elements to a tuple\n",
    "user_tuple = tuple(elements)\n",
    "\n",
    "# Print the resulting tuple\n",
    "print(\"Tuple from user input:\", user_tuple)\n"
   ]
  },
  {
   "cell_type": "code",
   "execution_count": 78,
   "id": "3ba8526a",
   "metadata": {},
   "outputs": [
    {
     "name": "stdout",
     "output_type": "stream",
     "text": [
      "Original tuple: (1, 2, 3, 4, 5)\n",
      "Tuple after swapping elements: (1, 4, 3, 2, 5)\n"
     ]
    }
   ],
   "source": [
    "#Swap two elements in a tuple.\n",
    "# Example tuple\n",
    "my_tuple = (1, 2, 3, 4, 5)\n",
    "\n",
    "# Elements to swap (indices are 0-based)\n",
    "index1 = 1  # Index of the first element to swap\n",
    "index2 = 3  # Index of the second element to swap\n",
    "\n",
    "# Convert tuple to list to perform swap\n",
    "tuple_list = list(my_tuple)\n",
    "\n",
    "# Perform the swap\n",
    "tuple_list[index1], tuple_list[index2] = tuple_list[index2], tuple_list[index1]\n",
    "\n",
    "# Convert the list back to a tuple\n",
    "swapped_tuple = tuple(tuple_list)\n",
    "\n",
    "# Print the original and swapped tuples\n",
    "print(\"Original tuple:\", my_tuple)\n",
    "print(\"Tuple after swapping elements:\", swapped_tuple)\n"
   ]
  },
  {
   "cell_type": "code",
   "execution_count": 79,
   "id": "ce3a7418",
   "metadata": {},
   "outputs": [
    {
     "name": "stdout",
     "output_type": "stream",
     "text": [
      "Original tuple: (1, 2, 3, 4, 5)\n",
      "Reversed tuple: (5, 4, 3, 2, 1)\n"
     ]
    }
   ],
   "source": [
    "#Reverse the elements of a tuple.\n",
    "# Example tuple\n",
    "my_tuple = (1, 2, 3, 4, 5)\n",
    "\n",
    "# Reverse the tuple using slicing\n",
    "reversed_tuple = my_tuple[::-1]\n",
    "\n",
    "# Print the original and reversed tuples\n",
    "print(\"Original tuple:\", my_tuple)\n",
    "print(\"Reversed tuple:\", reversed_tuple)\n"
   ]
  },
  {
   "cell_type": "code",
   "execution_count": 80,
   "id": "684bb465",
   "metadata": {},
   "outputs": [
    {
     "name": "stdout",
     "output_type": "stream",
     "text": [
      "Tuple of the first 5 powers of 2: (1, 2, 4, 8, 16)\n"
     ]
    }
   ],
   "source": [
    "#Create a tuple of the first `n` powers of 2.\n",
    "# Define the number of powers of 2 you want\n",
    "n = 5\n",
    "\n",
    "# Create a tuple of the first n powers of 2\n",
    "powers_of_2_tuple = tuple(2 ** i for i in range(n))\n",
    "\n",
    "# Print the tuple\n",
    "print(f\"Tuple of the first {n} powers of 2:\", powers_of_2_tuple)\n"
   ]
  },
  {
   "cell_type": "code",
   "execution_count": 81,
   "id": "b17e3c9d",
   "metadata": {},
   "outputs": [
    {
     "name": "stdout",
     "output_type": "stream",
     "text": [
      "Tuple of the first 5 powers of 2: (1, 2, 4, 8, 16)\n"
     ]
    }
   ],
   "source": [
    "#Find the longest string in a tuple of strings.\n",
    "# Define the number of powers of 2 you want\n",
    "n = 5\n",
    "\n",
    "# Create a tuple of the first n powers of 2\n",
    "powers_of_2_tuple = tuple(2 ** i for i in range(n))\n",
    "\n",
    "# Print the tuple\n",
    "print(f\"Tuple of the first {n} powers of 2:\", powers_of_2_tuple)\n"
   ]
  },
  {
   "cell_type": "code",
   "execution_count": 82,
   "id": "ce76e126",
   "metadata": {},
   "outputs": [
    {
     "name": "stdout",
     "output_type": "stream",
     "text": [
      "Shortest string in the tuple: kiwi\n"
     ]
    }
   ],
   "source": [
    "#Find the shortest string in a tuple of strings.\n",
    "# Example tuple of strings\n",
    "my_tuple = (\"apple\", \"banana\", \"orange\", \"kiwi\", \"grape\")\n",
    "\n",
    "# Initialize variables to store the shortest string and its length\n",
    "shortest_string = my_tuple[0]\n",
    "shortest_length = len(my_tuple[0])\n",
    "\n",
    "# Iterate through the tuple to find the shortest string\n",
    "for s in my_tuple[1:]:\n",
    "    if len(s) < shortest_length:\n",
    "        shortest_string = s\n",
    "        shortest_length = len(s)\n",
    "\n",
    "# Print the shortest string found\n",
    "print(\"Shortest string in the tuple:\", shortest_string)\n"
   ]
  },
  {
   "cell_type": "code",
   "execution_count": 83,
   "id": "90c3ff18",
   "metadata": {},
   "outputs": [
    {
     "name": "stdout",
     "output_type": "stream",
     "text": [
      "Tuple of the first 5 triangular numbers: (1, 3, 6, 10, 15)\n"
     ]
    }
   ],
   "source": [
    "#Create a tuple of the first `n` triangular numbers.\n",
    "# Define the number of triangular numbers you want\n",
    "n = 5\n",
    "\n",
    "# Create a tuple of the first n triangular numbers\n",
    "triangular_numbers_tuple = tuple((i * (i + 1)) // 2 for i in range(1, n + 1))\n",
    "\n",
    "# Print the tuple\n",
    "print(f\"Tuple of the first {n} triangular numbers:\", triangular_numbers_tuple)\n"
   ]
  },
  {
   "cell_type": "code",
   "execution_count": 84,
   "id": "0d0f7172",
   "metadata": {},
   "outputs": [
    {
     "name": "stdout",
     "output_type": "stream",
     "text": [
      "(3, 4, 5) is a subsequence of (1, 2, 3, 4, 5, 6, 7, 8)\n"
     ]
    }
   ],
   "source": [
    "#Check if a tuple contains another tuple as a subsequence.\n",
    "def tuple_contains_subsequence(main_tuple, sub_tuple):\n",
    "    # Convert tuples to lists for easier manipulation\n",
    "    main_list = list(main_tuple)\n",
    "    sub_list = list(sub_tuple)\n",
    "    \n",
    "    # Initialize variables for tracking subsequence\n",
    "    sub_len = len(sub_list)\n",
    "    sub_index = 0\n",
    "    \n",
    "    # Iterate through main_list to find subsequence\n",
    "    for element in main_list:\n",
    "        if element == sub_list[sub_index]:\n",
    "            sub_index += 1\n",
    "            if sub_index == sub_len:\n",
    "                return True\n",
    "    \n",
    "    return False\n",
    "\n",
    "# Example usage\n",
    "main_tuple = (1, 2, 3, 4, 5, 6, 7, 8)\n",
    "sub_tuple = (3, 4, 5)\n",
    "\n",
    "# Check if sub_tuple is a subsequence of main_tuple\n",
    "if tuple_contains_subsequence(main_tuple, sub_tuple):\n",
    "    print(f\"{sub_tuple} is a subsequence of {main_tuple}\")\n",
    "else:\n",
    "    print(f\"{sub_tuple} is not a subsequence of {main_tuple}\")\n"
   ]
  },
  {
   "cell_type": "code",
   "execution_count": 85,
   "id": "57e4f563",
   "metadata": {},
   "outputs": [
    {
     "name": "stdout",
     "output_type": "stream",
     "text": [
      "Tuple of alternating 1s and 0s of length 10: (1, 0, 1, 0, 1, 0, 1, 0, 1, 0)\n"
     ]
    }
   ],
   "source": [
    "#Create a tuple of alternating 1s and 0s of length `n`.\n",
    "# Define the length of the tuple\n",
    "n = 10\n",
    "\n",
    "# Create a tuple of alternating 1s and 0s\n",
    "alternating_tuple = tuple(1 if i % 2 == 0 else 0 for i in range(n))\n",
    "\n",
    "# Print the tuple\n",
    "print(f\"Tuple of alternating 1s and 0s of length {n}:\", alternating_tuple)\n"
   ]
  },
  {
   "cell_type": "code",
   "execution_count": null,
   "id": "49b9dbb1",
   "metadata": {},
   "outputs": [],
   "source": [
    "#Set Based Practice Problem :"
   ]
  },
  {
   "cell_type": "code",
   "execution_count": 86,
   "id": "efa9e4df",
   "metadata": {},
   "outputs": [
    {
     "name": "stdout",
     "output_type": "stream",
     "text": [
      "Set with integers from 1 to 5: {1, 2, 3, 4, 5}\n"
     ]
    }
   ],
   "source": [
    "#Create a set with integers from 1 to 5.\n",
    "# Create a set with integers from 1 to 5\n",
    "integer_set = set(range(1, 6))\n",
    "\n",
    "# Print the set\n",
    "print(\"Set with integers from 1 to 5:\", integer_set)\n"
   ]
  },
  {
   "cell_type": "code",
   "execution_count": 87,
   "id": "07edb2f2",
   "metadata": {},
   "outputs": [
    {
     "name": "stdout",
     "output_type": "stream",
     "text": [
      "Set after adding an element: {1, 2, 3, 4, 5, 6}\n"
     ]
    }
   ],
   "source": [
    "#Add an element to a set.\n",
    "# Create a set with integers from 1 to 5\n",
    "integer_set = set(range(1, 6))\n",
    "\n",
    "# Add an element to the set\n",
    "integer_set.add(6)\n",
    "\n",
    "# Print the set\n",
    "print(\"Set after adding an element:\", integer_set)\n"
   ]
  },
  {
   "cell_type": "code",
   "execution_count": 88,
   "id": "966c5b50",
   "metadata": {},
   "outputs": [
    {
     "name": "stdout",
     "output_type": "stream",
     "text": [
      "Set after removing an element: {1, 2, 4, 5}\n"
     ]
    }
   ],
   "source": [
    "#Remove an element from a set.\n",
    "# Create a set with integers from 1 to 5\n",
    "integer_set = set(range(1, 6))\n",
    "\n",
    "# Remove an element from the set\n",
    "integer_set.remove(3)\n",
    "\n",
    "# Print the set\n",
    "print(\"Set after removing an element:\", integer_set)\n"
   ]
  },
  {
   "cell_type": "code",
   "execution_count": 89,
   "id": "78b6f1c0",
   "metadata": {},
   "outputs": [
    {
     "name": "stdout",
     "output_type": "stream",
     "text": [
      "Element 3 exists in the set.\n"
     ]
    }
   ],
   "source": [
    "#Check if an element exists in a set.\n",
    "# Create a set with integers from 1 to 5\n",
    "integer_set = set(range(1, 6))\n",
    "\n",
    "# Element to check\n",
    "element_to_check = 3\n",
    "\n",
    "# Check if the element exists in the set\n",
    "if element_to_check in integer_set:\n",
    "    print(f\"Element {element_to_check} exists in the set.\")\n",
    "else:\n",
    "    print(f\"Element {element_to_check} does not exist in the set.\")\n"
   ]
  },
  {
   "cell_type": "code",
   "execution_count": 90,
   "id": "406ceb67",
   "metadata": {},
   "outputs": [
    {
     "name": "stdout",
     "output_type": "stream",
     "text": [
      "Length of the set: 5\n"
     ]
    }
   ],
   "source": [
    "#Find the length of a set without using the `len()` function.\n",
    "# Create a set with integers from 1 to 5\n",
    "integer_set = set(range(1, 6))\n",
    "\n",
    "# Initialize a counter\n",
    "count = 0\n",
    "\n",
    "# Loop through the set and increment the counter\n",
    "for _ in integer_set:\n",
    "    count += 1\n",
    "\n",
    "# Print the length of the set\n",
    "print(\"Length of the set:\", count)\n"
   ]
  },
  {
   "cell_type": "code",
   "execution_count": 91,
   "id": "eeb8327e",
   "metadata": {},
   "outputs": [
    {
     "name": "stdout",
     "output_type": "stream",
     "text": [
      "Set after clearing all elements: set()\n"
     ]
    }
   ],
   "source": [
    "#Clear all elements from a set.\n",
    "# Create a set with integers from 1 to 5\n",
    "integer_set = set(range(1, 6))\n",
    "\n",
    "# Clear all elements from the set\n",
    "integer_set.clear()\n",
    "\n",
    "# Print the set\n",
    "print(\"Set after clearing all elements:\", integer_set)\n"
   ]
  },
  {
   "cell_type": "code",
   "execution_count": 92,
   "id": "befcee68",
   "metadata": {},
   "outputs": [
    {
     "name": "stdout",
     "output_type": "stream",
     "text": [
      "Set of even numbers from 1 to 10: {2, 4, 6, 8, 10}\n"
     ]
    }
   ],
   "source": [
    "#Create a set of even numbers from 1 to 10.\n",
    "# Create a set of even numbers from 1 to 10\n",
    "even_set = {num for num in range(1, 11) if num % 2 == 0}\n",
    "\n",
    "# Print the set\n",
    "print(\"Set of even numbers from 1 to 10:\", even_set)\n"
   ]
  },
  {
   "cell_type": "code",
   "execution_count": 93,
   "id": "6e6e9f54",
   "metadata": {},
   "outputs": [
    {
     "name": "stdout",
     "output_type": "stream",
     "text": [
      "Set of odd numbers from 1 to 10: {1, 3, 5, 7, 9}\n"
     ]
    }
   ],
   "source": [
    "#Create a set of odd numbers from 1 to 10.\n",
    "# Create a set of odd numbers from 1 to 10\n",
    "odd_set = {num for num in range(1, 11) if num % 2 != 0}\n",
    "\n",
    "# Print the set\n",
    "print(\"Set of odd numbers from 1 to 10:\", odd_set)\n"
   ]
  },
  {
   "cell_type": "code",
   "execution_count": 94,
   "id": "4f30c3b3",
   "metadata": {},
   "outputs": [
    {
     "name": "stdout",
     "output_type": "stream",
     "text": [
      "Union of the two sets: {1, 2, 3, 4, 5, 6, 7, 8}\n"
     ]
    }
   ],
   "source": [
    "#Find the union of two sets.\n",
    "# Define two sets\n",
    "set1 = {1, 2, 3, 4, 5}\n",
    "set2 = {4, 5, 6, 7, 8}\n",
    "\n",
    "# Find the union of the two sets\n",
    "union_set = set1.union(set2)\n",
    "\n",
    "# Print the union set\n",
    "print(\"Union of the two sets:\", union_set)\n"
   ]
  },
  {
   "cell_type": "code",
   "execution_count": 95,
   "id": "cfc4ab36",
   "metadata": {},
   "outputs": [
    {
     "name": "stdout",
     "output_type": "stream",
     "text": [
      "Intersection of the two sets: {4, 5}\n"
     ]
    }
   ],
   "source": [
    "#Find the intersection of two sets.\n",
    "# Define two sets\n",
    "set1 = {1, 2, 3, 4, 5}\n",
    "set2 = {4, 5, 6, 7, 8}\n",
    "\n",
    "# Find the intersection of the two sets\n",
    "intersection_set = set1.intersection(set2)\n",
    "\n",
    "# Print the intersection set\n",
    "print(\"Intersection of the two sets:\", intersection_set)\n"
   ]
  },
  {
   "cell_type": "code",
   "execution_count": 96,
   "id": "974dba2d",
   "metadata": {},
   "outputs": [
    {
     "name": "stdout",
     "output_type": "stream",
     "text": [
      "Difference between set1 and set2: {1, 2, 3}\n"
     ]
    }
   ],
   "source": [
    "#Find the difference between two sets.\n",
    "# Define two sets\n",
    "set1 = {1, 2, 3, 4, 5}\n",
    "set2 = {4, 5, 6, 7, 8}\n",
    "\n",
    "# Find the difference of set1 - set2\n",
    "difference_set = set1.difference(set2)\n",
    "\n",
    "# Print the difference set\n",
    "print(\"Difference between set1 and set2:\", difference_set)\n"
   ]
  },
  {
   "cell_type": "code",
   "execution_count": 97,
   "id": "b28e459f",
   "metadata": {},
   "outputs": [
    {
     "name": "stdout",
     "output_type": "stream",
     "text": [
      "Is set1 a subset of set2? True\n"
     ]
    }
   ],
   "source": [
    "#Check if a set is a subset of another set.\n",
    "# Define two sets\n",
    "set1 = {1, 2, 3}\n",
    "set2 = {1, 2, 3, 4, 5}\n",
    "\n",
    "# Check if set1 is a subset of set2\n",
    "is_subset = set1 <= set2\n",
    "\n",
    "# Print the result\n",
    "print(\"Is set1 a subset of set2?\", is_subset)\n"
   ]
  },
  {
   "cell_type": "code",
   "execution_count": 98,
   "id": "af56cb10",
   "metadata": {
    "scrolled": true
   },
   "outputs": [
    {
     "name": "stdout",
     "output_type": "stream",
     "text": [
      "Is set1 a superset of set2? True\n"
     ]
    }
   ],
   "source": [
    "#Check if a set is a superset of another set.\n",
    "# Define two sets\n",
    "set1 = {1, 2, 3, 4, 5}\n",
    "set2 = {1, 2, 3}\n",
    "\n",
    "# Check if set1 is a superset of set2\n",
    "is_superset = set1.issuperset(set2)\n",
    "\n",
    "# Print the result\n",
    "print(\"Is set1 a superset of set2?\", is_superset)\n"
   ]
  },
  {
   "cell_type": "code",
   "execution_count": 99,
   "id": "c176a10a",
   "metadata": {},
   "outputs": [
    {
     "name": "stdout",
     "output_type": "stream",
     "text": [
      "Set from list: {1, 2, 3, 4, 5}\n"
     ]
    }
   ],
   "source": [
    "#Create a set from a list.\n",
    "# Create a list\n",
    "my_list = [1, 2, 3, 4, 5]\n",
    "\n",
    "# Create a set from the list\n",
    "my_set = set(my_list)\n",
    "\n",
    "# Print the set\n",
    "print(\"Set from list:\", my_set)\n"
   ]
  },
  {
   "cell_type": "code",
   "execution_count": 100,
   "id": "03a4e6ed",
   "metadata": {},
   "outputs": [
    {
     "name": "stdout",
     "output_type": "stream",
     "text": [
      "List from set: [1, 2, 3, 4, 5]\n"
     ]
    }
   ],
   "source": [
    "#Convert a set to a list.\n",
    "# Create a set\n",
    "my_set = {1, 2, 3, 4, 5}\n",
    "\n",
    "# Convert the set to a list\n",
    "my_list = list(my_set)\n",
    "\n",
    "# Print the list\n",
    "print(\"List from set:\", my_list)\n"
   ]
  },
  {
   "cell_type": "code",
   "execution_count": 101,
   "id": "d0ef781c",
   "metadata": {},
   "outputs": [
    {
     "name": "stdout",
     "output_type": "stream",
     "text": [
      "Removed element: 1\n",
      "Updated set: {2, 3, 4, 5}\n"
     ]
    }
   ],
   "source": [
    "#Remove a random element from a set.\n",
    "import random\n",
    "\n",
    "# Create a set\n",
    "my_set = {1, 2, 3, 4, 5}\n",
    "\n",
    "# Remove a random element\n",
    "random_element = my_set.pop()\n",
    "\n",
    "# Print the removed element and the updated set\n",
    "print(\"Removed element:\", random_element)\n",
    "print(\"Updated set:\", my_set)\n"
   ]
  },
  {
   "cell_type": "code",
   "execution_count": 102,
   "id": "d5cdd704",
   "metadata": {},
   "outputs": [
    {
     "name": "stdout",
     "output_type": "stream",
     "text": [
      "Popped element: 1\n",
      "Updated set: {2, 3, 4, 5}\n"
     ]
    }
   ],
   "source": [
    "#Pop an element from a set.\n",
    "# Create a set\n",
    "my_set = {1, 2, 3, 4, 5}\n",
    "\n",
    "# Pop an element from the set\n",
    "popped_element = my_set.pop()\n",
    "\n",
    "# Print the popped element and the updated set\n",
    "print(\"Popped element:\", popped_element)\n",
    "print(\"Updated set:\", my_set)\n"
   ]
  },
  {
   "cell_type": "code",
   "execution_count": 103,
   "id": "5b1dd721",
   "metadata": {},
   "outputs": [
    {
     "name": "stdout",
     "output_type": "stream",
     "text": [
      "Sets are disjoint (have no common elements).\n"
     ]
    }
   ],
   "source": [
    "#Check if two sets have no elements in common.\n",
    "# Define two sets\n",
    "set1 = {1, 2, 3}\n",
    "set2 = {4, 5, 6}\n",
    "\n",
    "# Check if sets are disjoint\n",
    "are_disjoint = set1.isdisjoint(set2)\n",
    "\n",
    "# Print the result\n",
    "if are_disjoint:\n",
    "    print(\"Sets are disjoint (have no common elements).\")\n",
    "else:\n",
    "    print(\"Sets are not disjoint (have common elements).\")\n"
   ]
  },
  {
   "cell_type": "code",
   "execution_count": 104,
   "id": "03bdfada",
   "metadata": {},
   "outputs": [
    {
     "name": "stdout",
     "output_type": "stream",
     "text": [
      "Symmetric difference: {1, 2, 3, 6, 7, 8}\n"
     ]
    }
   ],
   "source": [
    "#Find the symmetric difference between two sets.\n",
    "# Define two sets\n",
    "set1 = {1, 2, 3, 4, 5}\n",
    "set2 = {4, 5, 6, 7, 8}\n",
    "\n",
    "# Find symmetric difference\n",
    "symmetric_diff = set1.symmetric_difference(set2)\n",
    "\n",
    "# Print the symmetric difference\n",
    "print(\"Symmetric difference:\", symmetric_diff)\n"
   ]
  },
  {
   "cell_type": "code",
   "execution_count": 105,
   "id": "a7bd2f26",
   "metadata": {},
   "outputs": [
    {
     "name": "stdout",
     "output_type": "stream",
     "text": [
      "Updated set1: {1, 2, 3, 4, 5}\n"
     ]
    }
   ],
   "source": [
    "#Update a set with elements from another set.\n",
    "# Define two sets\n",
    "set1 = {1, 2, 3}\n",
    "set2 = {3, 4, 5}\n",
    "\n",
    "# Update set1 with elements from set2\n",
    "set1.update(set2)\n",
    "\n",
    "# Print the updated set1\n",
    "print(\"Updated set1:\", set1)\n"
   ]
  },
  {
   "cell_type": "code",
   "execution_count": 106,
   "id": "df3cf87c",
   "metadata": {},
   "outputs": [
    {
     "name": "stdout",
     "output_type": "stream",
     "text": [
      "Set of the first 5 prime numbers: {2, 3, 5, 7, 11}\n"
     ]
    }
   ],
   "source": [
    "#Create a set of the first 5 prime numbers.\n",
    "# Create a set of the first 5 prime numbers\n",
    "prime_numbers = {2, 3, 5, 7, 11}\n",
    "\n",
    "# Print the set of prime numbers\n",
    "print(\"Set of the first 5 prime numbers:\", prime_numbers)\n"
   ]
  },
  {
   "cell_type": "code",
   "execution_count": 107,
   "id": "ed30626b",
   "metadata": {},
   "outputs": [
    {
     "name": "stdout",
     "output_type": "stream",
     "text": [
      "Sets are identical.\n"
     ]
    }
   ],
   "source": [
    "#Check if two sets are identical.\n",
    "# Define two sets\n",
    "set1 = {1, 2, 3}\n",
    "set2 = {3, 2, 1}\n",
    "\n",
    "# Check if sets are identical\n",
    "if set1 == set2:\n",
    "    print(\"Sets are identical.\")\n",
    "else:\n",
    "    print(\"Sets are not identical.\")\n"
   ]
  },
  {
   "cell_type": "code",
   "execution_count": 108,
   "id": "f542f3be",
   "metadata": {},
   "outputs": [
    {
     "name": "stdout",
     "output_type": "stream",
     "text": [
      "Frozen set: frozenset({1, 2, 3})\n"
     ]
    }
   ],
   "source": [
    "#Create a frozen set.\n",
    "# Create a regular set\n",
    "regular_set = {1, 2, 3}\n",
    "\n",
    "# Create a frozen set\n",
    "frozen_set = frozenset(regular_set)\n",
    "\n",
    "# Print the frozen set\n",
    "print(\"Frozen set:\", frozen_set)\n"
   ]
  },
  {
   "cell_type": "code",
   "execution_count": 109,
   "id": "3af109d6",
   "metadata": {},
   "outputs": [
    {
     "name": "stdout",
     "output_type": "stream",
     "text": [
      "Sets are disjoint (no common elements).\n"
     ]
    }
   ],
   "source": [
    "#Check if a set is disjoint with another set.\n",
    "# Define two sets\n",
    "set1 = {1, 2, 3}\n",
    "set2 = {4, 5, 6}\n",
    "\n",
    "# Check if sets are disjoint\n",
    "if set1.isdisjoint(set2):\n",
    "    print(\"Sets are disjoint (no common elements).\")\n",
    "else:\n",
    "    print(\"Sets have common elements.\")\n"
   ]
  },
  {
   "cell_type": "code",
   "execution_count": 110,
   "id": "d0abbb2d",
   "metadata": {},
   "outputs": [
    {
     "name": "stdout",
     "output_type": "stream",
     "text": [
      "Filtered set (odd numbers): {1, 3, 5, 7, 9}\n"
     ]
    }
   ],
   "source": [
    "#Filter out all even numbers from a set.\n",
    "# Original set with some numbers\n",
    "original_set = {1, 2, 3, 4, 5, 6, 7, 8, 9, 10}\n",
    "\n",
    "# Filter out even numbers\n",
    "filtered_set = {x for x in original_set if x % 2 != 0}\n",
    "\n",
    "# Print the filtered set\n",
    "print(\"Filtered set (odd numbers):\", filtered_set)\n"
   ]
  },
  {
   "cell_type": "code",
   "execution_count": 111,
   "id": "55f93712",
   "metadata": {},
   "outputs": [
    {
     "name": "stdout",
     "output_type": "stream",
     "text": [
      "Multiplied set: {2, 4, 6, 8, 10}\n"
     ]
    }
   ],
   "source": [
    "#Multiply all elements in a set by 2.\n",
    "# Original set with some numbers\n",
    "original_set = {1, 2, 3, 4, 5}\n",
    "\n",
    "# Create a new set with elements multiplied by 2\n",
    "multiplied_set = {x * 2 for x in original_set}\n",
    "\n",
    "# Print the multiplied set\n",
    "print(\"Multiplied set:\", multiplied_set)\n",
    "\n"
   ]
  },
  {
   "cell_type": "code",
   "execution_count": 112,
   "id": "fe908e60",
   "metadata": {},
   "outputs": [
    {
     "name": "stdout",
     "output_type": "stream",
     "text": [
      "Random set: {9, 4, 6, 17}\n"
     ]
    }
   ],
   "source": [
    "#Create a set of random numbers.\n",
    "import random\n",
    "\n",
    "# Generate a set of 5 random numbers between 1 and 20\n",
    "random_set = {random.randint(1, 20) for _ in range(5)}\n",
    "\n",
    "# Print the random set\n",
    "print(\"Random set:\", random_set)\n"
   ]
  },
  {
   "cell_type": "code",
   "execution_count": 113,
   "id": "1ce88285",
   "metadata": {},
   "outputs": [
    {
     "name": "stdout",
     "output_type": "stream",
     "text": [
      "The set is empty.\n"
     ]
    }
   ],
   "source": [
    "#Check if a set is empty.\n",
    "# Define an empty set\n",
    "empty_set = set()\n",
    "\n",
    "# Check if the set is empty\n",
    "if not empty_set:\n",
    "    print(\"The set is empty.\")\n",
    "else:\n",
    "    print(\"The set is not empty.\")\n"
   ]
  },
  {
   "cell_type": "code",
   "execution_count": 114,
   "id": "73c8c7d4",
   "metadata": {},
   "outputs": [
    {
     "name": "stdout",
     "output_type": "stream",
     "text": [
      "Nested set: (frozenset({'cherry', 'apple', 'banana'}), frozenset({'orange', 'pear'}), frozenset({'grape', 'kiwi', 'pineapple'}))\n"
     ]
    }
   ],
   "source": [
    "#Create a nested set (hint: use frozenset).\n",
    "# Create a nested structure using frozensets inside a tuple\n",
    "nested_set = (\n",
    "    frozenset({'apple', 'banana', 'cherry'}),\n",
    "    frozenset({'orange', 'pear'}),\n",
    "    frozenset({'grape', 'pineapple', 'kiwi'})\n",
    ")\n",
    "\n",
    "# Print the nested set\n",
    "print(\"Nested set:\", nested_set)\n"
   ]
  },
  {
   "cell_type": "code",
   "execution_count": 115,
   "id": "fb380a34",
   "metadata": {},
   "outputs": [
    {
     "name": "stdout",
     "output_type": "stream",
     "text": [
      "Set after removing element: {1, 2, 4, 5}\n"
     ]
    }
   ],
   "source": [
    "#Remove an element from a set using the discard method.\n",
    "# Define a set with some elements\n",
    "my_set = {1, 2, 3, 4, 5}\n",
    "\n",
    "# Remove an element using discard()\n",
    "my_set.discard(3)\n",
    "\n",
    "# Print the modified set\n",
    "print(\"Set after removing element:\", my_set)\n"
   ]
  },
  {
   "cell_type": "code",
   "execution_count": 116,
   "id": "bfb99756",
   "metadata": {},
   "outputs": [
    {
     "name": "stdout",
     "output_type": "stream",
     "text": [
      "set1 and set2 are not equal.\n",
      "set1 and set2 are not equal.\n",
      "set1 is not a proper subset of set2.\n",
      "set1 is not a proper superset of set2.\n"
     ]
    }
   ],
   "source": [
    "#Compare two sets.\n",
    "# Define two sets\n",
    "set1 = {1, 2, 3, 4, 5}\n",
    "set2 = {3, 4, 5, 6, 7}\n",
    "\n",
    "# Compare sets\n",
    "if set1 == set2:\n",
    "    print(\"set1 and set2 are equal.\")\n",
    "else:\n",
    "    print(\"set1 and set2 are not equal.\")\n",
    "\n",
    "if set1 != set2:\n",
    "    print(\"set1 and set2 are not equal.\")\n",
    "else:\n",
    "    print(\"set1 and set2 are equal.\")\n",
    "\n",
    "if set1 < set2:\n",
    "    print(\"set1 is a proper subset of set2.\")\n",
    "else:\n",
    "    print(\"set1 is not a proper subset of set2.\")\n",
    "\n",
    "if set1 > set2:\n",
    "    print(\"set1 is a proper superset of set2.\")\n",
    "else:\n",
    "    print(\"set1 is not a proper superset of set2.\")\n"
   ]
  },
  {
   "cell_type": "code",
   "execution_count": 117,
   "id": "a4a272c5",
   "metadata": {},
   "outputs": [
    {
     "name": "stdout",
     "output_type": "stream",
     "text": [
      "Set from string: {'l', 'h', 'o', 'e'}\n"
     ]
    }
   ],
   "source": [
    "#Create a set from a string.\n",
    "# Create a string\n",
    "my_string = \"hello\"\n",
    "\n",
    "# Convert string to set\n",
    "my_set = set(my_string)\n",
    "\n",
    "# Print the set\n",
    "print(\"Set from string:\", my_set)\n"
   ]
  },
  {
   "cell_type": "code",
   "execution_count": 118,
   "id": "344c57cc",
   "metadata": {},
   "outputs": [
    {
     "name": "stdout",
     "output_type": "stream",
     "text": [
      "Set of integers: {1, 2, 3, 4, 5}\n"
     ]
    }
   ],
   "source": [
    "#Convert a set of strings to a set of integers.\n",
    "# Original set of strings\n",
    "set_of_strings = {\"1\", \"2\", \"3\", \"4\", \"5\"}\n",
    "\n",
    "# Convert set of strings to set of integers\n",
    "set_of_integers = {int(x) for x in set_of_strings}\n",
    "\n",
    "# Print the resulting set of integers\n",
    "print(\"Set of integers:\", set_of_integers)\n"
   ]
  },
  {
   "cell_type": "code",
   "execution_count": 119,
   "id": "c6a860d6",
   "metadata": {},
   "outputs": [
    {
     "name": "stdout",
     "output_type": "stream",
     "text": [
      "Set of strings: {'3', '1', '4', '5', '2'}\n"
     ]
    }
   ],
   "source": [
    "#Convert a set of integers to a set of strings.\n",
    "# Original set of integers\n",
    "set_of_integers = {1, 2, 3, 4, 5}\n",
    "\n",
    "# Convert set of integers to set of strings\n",
    "set_of_strings = {str(x) for x in set_of_integers}\n",
    "\n",
    "# Print the resulting set of strings\n",
    "print(\"Set of strings:\", set_of_strings)\n"
   ]
  },
  {
   "cell_type": "code",
   "execution_count": 120,
   "id": "275114c7",
   "metadata": {},
   "outputs": [
    {
     "name": "stdout",
     "output_type": "stream",
     "text": [
      "Set from tuple: {1, 2, 3, 4, 5}\n"
     ]
    }
   ],
   "source": [
    "#Create a set from a tuple.\n",
    "# Create a tuple\n",
    "my_tuple = (1, 2, 3, 4, 5)\n",
    "\n",
    "# Convert tuple to set\n",
    "my_set = set(my_tuple)\n",
    "\n",
    "# Print the set\n",
    "print(\"Set from tuple:\", my_set)\n"
   ]
  },
  {
   "cell_type": "code",
   "execution_count": 121,
   "id": "da434b39",
   "metadata": {},
   "outputs": [
    {
     "name": "stdout",
     "output_type": "stream",
     "text": [
      "Tuple from set: (1, 2, 3, 4, 5)\n"
     ]
    }
   ],
   "source": [
    "#Convert a set to a tuple.\n",
    "# Create a set\n",
    "my_set = {1, 2, 3, 4, 5}\n",
    "\n",
    "# Convert set to tuple\n",
    "my_tuple = tuple(my_set)\n",
    "\n",
    "# Print the tuple\n",
    "print(\"Tuple from set:\", my_tuple)\n"
   ]
  },
  {
   "cell_type": "code",
   "execution_count": 123,
   "id": "fdefba8e",
   "metadata": {},
   "outputs": [
    {
     "name": "stdout",
     "output_type": "stream",
     "text": [
      "Maximum value in the set: 25\n"
     ]
    }
   ],
   "source": [
    "#Find the maximum value in a set.\n",
    "\n",
    "# Create a set\n",
    "my_set = {10, 5, 20, 15, 25}\n",
    "\n",
    "# Find the maximum value in the set\n",
    "max_value = max(my_set)\n",
    "\n",
    "# Print the maximum value\n",
    "print(\"Maximum value in the set:\", max_value)\n",
    "\n"
   ]
  },
  {
   "cell_type": "code",
   "execution_count": 124,
   "id": "50bc8be1",
   "metadata": {},
   "outputs": [
    {
     "name": "stdout",
     "output_type": "stream",
     "text": [
      "Maximum value in the set: 5\n"
     ]
    }
   ],
   "source": [
    "#Find the minimum value in a set.\n",
    "# Create a set\n",
    "my_set = {10, 5, 20, 15, 25}\n",
    "\n",
    "# Find the maximum value in the set\n",
    "max_value = min(my_set)\n",
    "\n",
    "# Print the maximum value\n",
    "print(\"Maximum value in the set:\", max_value)"
   ]
  },
  {
   "cell_type": "code",
   "execution_count": 125,
   "id": "253720b7",
   "metadata": {},
   "outputs": [
    {
     "name": "stdout",
     "output_type": "stream",
     "text": [
      "Enter elements separated by spaces: ws md we w3 e3 r4 t5 34 2q\n",
      "Set from user input: {'34', 'e3', 'we', '2q', 'w3', 'md', 'ws', 't5', 'r4'}\n"
     ]
    }
   ],
   "source": [
    "#Create a set from user input.\n",
    "# Get user input\n",
    "input_str = input(\"Enter elements separated by spaces: \")\n",
    "\n",
    "# Split the input string into elements\n",
    "elements = input_str.split()\n",
    "\n",
    "# Convert list of elements to set\n",
    "my_set = set(elements)\n",
    "\n",
    "# Print the resulting set\n",
    "print(\"Set from user input:\", my_set)\n"
   ]
  },
  {
   "cell_type": "code",
   "execution_count": 126,
   "id": "8a406704",
   "metadata": {},
   "outputs": [
    {
     "name": "stdout",
     "output_type": "stream",
     "text": [
      "The intersection of set1 and set2 is empty.\n"
     ]
    }
   ],
   "source": [
    "#Check if the intersection of two sets is empty.\n",
    "# Create two sets\n",
    "set1 = {1, 2, 3}\n",
    "set2 = {4, 5, 6}\n",
    "\n",
    "# Check if intersection is empty\n",
    "if set1.isdisjoint(set2):\n",
    "    print(\"The intersection of set1 and set2 is empty.\")\n",
    "else:\n",
    "    print(\"The intersection of set1 and set2 is not empty.\")\n"
   ]
  },
  {
   "cell_type": "code",
   "execution_count": 127,
   "id": "3e51dfe9",
   "metadata": {},
   "outputs": [
    {
     "name": "stdout",
     "output_type": "stream",
     "text": [
      "Set of the first 5 Fibonacci numbers: {0, 1, 2, 3}\n"
     ]
    }
   ],
   "source": [
    "#Create a set of the first 5 Fibonacci numbers.\n",
    "# Function to generate Fibonacci numbers up to n terms\n",
    "def generate_fibonacci(n):\n",
    "    fibonacci_set = set()\n",
    "    a, b = 0, 1\n",
    "    count = 0\n",
    "    while count < n:\n",
    "        fibonacci_set.add(a)\n",
    "        a, b = b, a + b\n",
    "        count += 1\n",
    "    return fibonacci_set\n",
    "\n",
    "# Create a set of the first 5 Fibonacci numbers\n",
    "fibonacci_set = generate_fibonacci(5)\n",
    "\n",
    "# Print the set of Fibonacci numbers\n",
    "print(\"Set of the first 5 Fibonacci numbers:\", fibonacci_set)\n"
   ]
  },
  {
   "cell_type": "code",
   "execution_count": 128,
   "id": "1d0c52a7",
   "metadata": {},
   "outputs": [
    {
     "name": "stdout",
     "output_type": "stream",
     "text": [
      "List with duplicates removed: [1, 2, 3, 4, 5, 6]\n"
     ]
    }
   ],
   "source": [
    "#Remove duplicates from a list using sets.\n",
    "# Example list with duplicates\n",
    "my_list = [1, 2, 3, 2, 4, 5, 1, 3, 6]\n",
    "\n",
    "# Remove duplicates using sets\n",
    "my_list_unique = list(set(my_list))\n",
    "\n",
    "# Print the list with duplicates removed\n",
    "print(\"List with duplicates removed:\", my_list_unique)\n"
   ]
  },
  {
   "cell_type": "code",
   "execution_count": 129,
   "id": "3ce8df95",
   "metadata": {},
   "outputs": [
    {
     "name": "stdout",
     "output_type": "stream",
     "text": [
      "The sets have the same elements.\n"
     ]
    }
   ],
   "source": [
    "#Check if two sets have the same elements, regardless of their count.\n",
    "# Example sets\n",
    "set1 = {1, 2, 3}\n",
    "set2 = {3, 2, 1, 1}\n",
    "\n",
    "# Check if sets have the same elements (regardless of count)\n",
    "if set1 <= set2 and set1 >= set2:\n",
    "    print(\"The sets have the same elements.\")\n",
    "else:\n",
    "    print(\"The sets do not have the same elements.\")\n"
   ]
  },
  {
   "cell_type": "code",
   "execution_count": 130,
   "id": "0bdef2ee",
   "metadata": {},
   "outputs": [
    {
     "name": "stdout",
     "output_type": "stream",
     "text": [
      "Set of the first 5 powers of 2: {1, 2, 4, 8, 16}\n"
     ]
    }
   ],
   "source": [
    "#Create a set of the first n powers of 2.\n",
    "# Define the value of n\n",
    "n = 5\n",
    "\n",
    "# Create a set of the first n powers of 2\n",
    "powers_of_2 = {2**i for i in range(n)}\n",
    "\n",
    "# Print the set\n",
    "print(\"Set of the first\", n, \"powers of 2:\", powers_of_2)\n"
   ]
  },
  {
   "cell_type": "code",
   "execution_count": 131,
   "id": "b87bb452",
   "metadata": {},
   "outputs": [
    {
     "name": "stdout",
     "output_type": "stream",
     "text": [
      "Common elements: {3, 4, 5}\n"
     ]
    }
   ],
   "source": [
    "#Find the common elements between a set and a list.\n",
    "# Example set and list\n",
    "set1 = {1, 2, 3, 4, 5}\n",
    "list1 = [3, 4, 5, 6, 7]\n",
    "\n",
    "# Find common elements between set and list\n",
    "common_elements = set1.intersection(list1)\n",
    "\n",
    "# Print the common elements\n",
    "print(\"Common elements:\", common_elements)\n"
   ]
  },
  {
   "cell_type": "code",
   "execution_count": 132,
   "id": "b58664bc",
   "metadata": {},
   "outputs": [
    {
     "name": "stdout",
     "output_type": "stream",
     "text": [
      "Set of the first 5 triangular numbers: {1, 3, 6, 10, 15}\n"
     ]
    }
   ],
   "source": [
    "#Create a set of the first `n` triangular numbers.\n",
    "# Define the value of n\n",
    "n = 5\n",
    "\n",
    "# Create a set of the first n triangular numbers\n",
    "triangular_numbers = {i * (i + 1) // 2 for i in range(1, n + 1)}\n",
    "\n",
    "# Print the set of triangular numbers\n",
    "print(\"Set of the first\", n, \"triangular numbers:\", triangular_numbers)\n"
   ]
  },
  {
   "cell_type": "code",
   "execution_count": 133,
   "id": "42192047",
   "metadata": {},
   "outputs": [
    {
     "name": "stdout",
     "output_type": "stream",
     "text": [
      "Set of the first 5 triangular numbers: {1, 3, 6, 10, 15}\n"
     ]
    }
   ],
   "source": [
    "#Create a set of the first `n` triangular numbers.\n",
    "# Define the value of n\n",
    "n = 5\n",
    "\n",
    "# Create a set of the first n triangular numbers\n",
    "triangular_numbers = {i * (i + 1) // 2 for i in range(1, n + 1)}\n",
    "\n",
    "# Print the set of triangular numbers\n",
    "print(\"Set of the first\", n, \"triangular numbers:\", triangular_numbers)\n"
   ]
  },
  {
   "cell_type": "code",
   "execution_count": 134,
   "id": "5a588288",
   "metadata": {},
   "outputs": [
    {
     "name": "stdout",
     "output_type": "stream",
     "text": [
      "Is set2 a subset of set1? True\n"
     ]
    }
   ],
   "source": [
    "#Check if a set contains another set as a subset.\n",
    "# Example sets\n",
    "set1 = {1, 2, 3, 4, 5, 6}\n",
    "set2 = {2, 4, 6}\n",
    "\n",
    "# Check if set2 is a subset of set1\n",
    "is_subset = set2.issubset(set1)\n",
    "\n",
    "# Print the result\n",
    "print(\"Is set2 a subset of set1?\", is_subset)\n"
   ]
  },
  {
   "cell_type": "code",
   "execution_count": 135,
   "id": "9578ee45",
   "metadata": {},
   "outputs": [
    {
     "name": "stdout",
     "output_type": "stream",
     "text": [
      "Set of alternating 1s and 0s: {0, 1}\n"
     ]
    }
   ],
   "source": [
    "#Create a set of alternating 1s and 0s of length `n`.\n",
    "# Define the length of the set\n",
    "n = 10\n",
    "\n",
    "# Create a set of alternating 1s and 0s of length n\n",
    "alternating_set = {1 if i % 2 == 0 else 0 for i in range(n)}\n",
    "\n",
    "# Print the set of alternating 1s and 0s\n",
    "print(\"Set of alternating 1s and 0s:\", alternating_set)\n"
   ]
  },
  {
   "cell_type": "code",
   "execution_count": 136,
   "id": "a7f00018",
   "metadata": {},
   "outputs": [
    {
     "name": "stdout",
     "output_type": "stream",
     "text": [
      "Merged set: {1, 2, 3, 4, 5, 6, 7}\n"
     ]
    }
   ],
   "source": [
    "#Merge multiple sets into one.\n",
    "# Example sets\n",
    "set1 = {1, 2, 3}\n",
    "set2 = {3, 4, 5}\n",
    "set3 = {5, 6, 7}\n",
    "\n",
    "# Merge sets using union() method\n",
    "merged_set = set1.union(set2, set3)\n",
    "\n",
    "# Print the merged set\n",
    "print(\"Merged set:\", merged_set)\n"
   ]
  },
  {
   "cell_type": "code",
   "execution_count": null,
   "id": "31b6d9b8",
   "metadata": {},
   "outputs": [],
   "source": []
  }
 ],
 "metadata": {
  "kernelspec": {
   "display_name": "Python 3 (ipykernel)",
   "language": "python",
   "name": "python3"
  },
  "language_info": {
   "codemirror_mode": {
    "name": "ipython",
    "version": 3
   },
   "file_extension": ".py",
   "mimetype": "text/x-python",
   "name": "python",
   "nbconvert_exporter": "python",
   "pygments_lexer": "ipython3",
   "version": "3.11.5"
  }
 },
 "nbformat": 4,
 "nbformat_minor": 5
}
