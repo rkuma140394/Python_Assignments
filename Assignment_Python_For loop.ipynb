{
 "cells": [
  {
   "cell_type": "code",
   "execution_count": 1,
   "id": "05e765ee",
   "metadata": {},
   "outputs": [
    {
     "name": "stdout",
     "output_type": "stream",
     "text": [
      "1\n",
      "2\n",
      "3\n",
      "4\n",
      "5\n",
      "6\n",
      "7\n",
      "8\n",
      "9\n",
      "10\n"
     ]
    }
   ],
   "source": [
    "# Write a Python program to print the numbers from 1 to 10 using a `for` loop.\n",
    "\n",
    "# Using a for loop to iterate over numbers 1 to 10\n",
    "for num in range(1, 11):\n",
    "    print(num)\n"
   ]
  },
  {
   "cell_type": "code",
   "execution_count": 2,
   "id": "2d95e60f",
   "metadata": {},
   "outputs": [
    {
     "name": "stdout",
     "output_type": "stream",
     "text": [
      "Sum of numbers: 150\n"
     ]
    }
   ],
   "source": [
    "#Create a program that calculates the sum of all numbers in a list using a `for` loop.\n",
    "\n",
    "\n",
    "# Sample list of numbers\n",
    "numbers = [10, 20, 30, 40, 50]\n",
    "\n",
    "# Initialize a variable to store the sum\n",
    "total_sum = 0\n",
    "\n",
    "# Using a for loop to iterate over each number in the list\n",
    "for num in numbers:\n",
    "    total_sum += num  # Add each number to the total_sum\n",
    "\n",
    "# Print the total sum\n",
    "print(\"Sum of numbers:\", total_sum)\n"
   ]
  },
  {
   "cell_type": "code",
   "execution_count": 3,
   "id": "63d7dbf3",
   "metadata": {},
   "outputs": [
    {
     "name": "stdout",
     "output_type": "stream",
     "text": [
      "Reversed string: !dlroW ,olleH\n"
     ]
    }
   ],
   "source": [
    "#Write a program to print the characters of a string in reverse order using a `for` loop.\n",
    "\n",
    "\n",
    "# Sample string\n",
    "input_string = \"Hello, World!\"\n",
    "\n",
    "# Initialize an empty string to store the reversed string\n",
    "reversed_string = \"\"\n",
    "\n",
    "# Using a for loop to iterate over each character in the string in reverse order\n",
    "for char in reversed(input_string):\n",
    "    reversed_string += char  # Concatenate each character to reversed_string\n",
    "\n",
    "# Print the reversed string\n",
    "print(\"Reversed string:\", reversed_string)\n"
   ]
  },
  {
   "cell_type": "code",
   "execution_count": 4,
   "id": "dbf40934",
   "metadata": {},
   "outputs": [
    {
     "name": "stdout",
     "output_type": "stream",
     "text": [
      "The factorial of 5 is: 120\n"
     ]
    }
   ],
   "source": [
    "#Develop a program that finds the factorial of a given number using a `for` loop.\n",
    "# Python program to find the factorial of a given number using a for loop\n",
    "\n",
    "# Function to calculate factorial\n",
    "def factorial(n):\n",
    "    # Initialize factorial to 1\n",
    "    fact = 1\n",
    "    \n",
    "    # Iterate from 1 to n (inclusive) using a for loop\n",
    "    for i in range(1, n + 1):\n",
    "        fact *= i  # Multiply fact by i\n",
    "    \n",
    "    return fact\n",
    "\n",
    "# Example usage\n",
    "number = 5  # Change this number to calculate factorial for a different number\n",
    "print(f\"The factorial of {number} is:\", factorial(number))\n"
   ]
  },
  {
   "cell_type": "code",
   "execution_count": 5,
   "id": "7caf3f07",
   "metadata": {},
   "outputs": [
    {
     "name": "stdout",
     "output_type": "stream",
     "text": [
      "Multiplication table of 7:\n",
      "7 x 1 = 7\n",
      "7 x 2 = 14\n",
      "7 x 3 = 21\n",
      "7 x 4 = 28\n",
      "7 x 5 = 35\n",
      "7 x 6 = 42\n",
      "7 x 7 = 49\n",
      "7 x 8 = 56\n",
      "7 x 9 = 63\n",
      "7 x 10 = 70\n"
     ]
    }
   ],
   "source": [
    "#Create a program to print the multiplication table of a given number using a `for` loop.\n",
    "# Python program to print the multiplication table of a given number using a for loop\n",
    "\n",
    "# Function to print multiplication table\n",
    "def multiplication_table(num):\n",
    "    print(f\"Multiplication table of {num}:\")\n",
    "    for i in range(1, 11):  # Multiplication table from 1 to 10\n",
    "        print(f\"{num} x {i} = {num * i}\")\n",
    "\n",
    "# Example usage\n",
    "number = 7  # Change this number to print the multiplication table for a different number\n",
    "multiplication_table(number)\n"
   ]
  },
  {
   "cell_type": "code",
   "execution_count": 6,
   "id": "2d8af727",
   "metadata": {},
   "outputs": [
    {
     "name": "stdout",
     "output_type": "stream",
     "text": [
      "Count of even numbers: 5\n",
      "Count of odd numbers: 5\n"
     ]
    }
   ],
   "source": [
    "#Write a program that counts the number of even and odd numbers in a list using a `for` loop.\n",
    "\n",
    "\n",
    "# Sample list of numbers\n",
    "numbers = [1, 2, 3, 4, 5, 6, 7, 8, 9, 10]\n",
    "\n",
    "# Initialize counters for even and odd numbers\n",
    "even_count = 0\n",
    "odd_count = 0\n",
    "\n",
    "# Using a for loop to iterate over each number in the list\n",
    "for num in numbers:\n",
    "    if num % 2 == 0:\n",
    "        even_count += 1  # Increment even_count if num is even\n",
    "    else:\n",
    "        odd_count += 1   # Increment odd_count if num is odd\n",
    "\n",
    "# Print the counts of even and odd numbers\n",
    "print(\"Count of even numbers:\", even_count)\n",
    "print(\"Count of odd numbers:\", odd_count)\n"
   ]
  },
  {
   "cell_type": "code",
   "execution_count": 7,
   "id": "8477c62d",
   "metadata": {},
   "outputs": [
    {
     "name": "stdout",
     "output_type": "stream",
     "text": [
      "The square of 1 is: 1\n",
      "The square of 2 is: 4\n",
      "The square of 3 is: 9\n",
      "The square of 4 is: 16\n",
      "The square of 5 is: 25\n"
     ]
    }
   ],
   "source": [
    "#7. Develop a program that prints the squares of numbers from 1 to 5 using a `for` loop.\n",
    "# Python program to print the squares of numbers from 1 to 5 using a for loop\n",
    "\n",
    "# Using a for loop to iterate over numbers 1 to 5\n",
    "for num in range(1, 6):\n",
    "    square = num ** 2  # Calculate the square of num\n",
    "    print(f\"The square of {num} is:\", square)\n"
   ]
  },
  {
   "cell_type": "code",
   "execution_count": 8,
   "id": "53181180",
   "metadata": {},
   "outputs": [
    {
     "name": "stdout",
     "output_type": "stream",
     "text": [
      "The length of the string 'Hello, World!' is: 13\n"
     ]
    }
   ],
   "source": [
    "#Create a program to find the length of a string without using the `len()` function.\n",
    "\n",
    "\n",
    "# Function to calculate the length of the string\n",
    "def string_length(s):\n",
    "    count = 0\n",
    "    for char in s:\n",
    "        count += 1\n",
    "    return count\n",
    "\n",
    "# Example usage\n",
    "input_string = \"Hello, World!\"\n",
    "\n",
    "# Calculate the length of the string\n",
    "length = string_length(input_string)\n",
    "\n",
    "# Print the length of the string\n",
    "print(f\"The length of the string '{input_string}' is:\", length)\n"
   ]
  },
  {
   "cell_type": "code",
   "execution_count": 9,
   "id": "ee777f1a",
   "metadata": {},
   "outputs": [
    {
     "name": "stdout",
     "output_type": "stream",
     "text": [
      "Average of numbers: 30.0\n"
     ]
    }
   ],
   "source": [
    "#Write a program that calculates the average of a list of numbers using a `for` loop.\n",
    "\n",
    "\n",
    "# Sample list of numbers\n",
    "numbers = [10, 20, 30, 40, 50]\n",
    "\n",
    "# Initialize variables to store sum and count of numbers\n",
    "total_sum = 0\n",
    "count = 0\n",
    "\n",
    "# Using a for loop to iterate over each number in the list\n",
    "for num in numbers:\n",
    "    total_sum += num  # Add each number to total_sum\n",
    "    count += 1        # Increment count of numbers\n",
    "\n",
    "# Calculate the average\n",
    "if count > 0:\n",
    "    average = total_sum / count\n",
    "else:\n",
    "    average = 0  # Handle case where list is empty\n",
    "\n",
    "# Print the average\n",
    "print(\"Average of numbers:\", average)\n"
   ]
  },
  {
   "cell_type": "code",
   "execution_count": 10,
   "id": "a942ae61",
   "metadata": {},
   "outputs": [
    {
     "name": "stdout",
     "output_type": "stream",
     "text": [
      "The first 10 Fibonacci numbers are: [0, 1, 1, 2, 3, 5, 8, 13, 21, 34]\n"
     ]
    }
   ],
   "source": [
    "#Develop a program that prints the first `n` Fibonacci numbers using a `for` loop.\n",
    "\n",
    "\n",
    "def fibonacci(n):\n",
    "    # Initialize the first two Fibonacci numbers\n",
    "    fib_list = [0, 1]\n",
    "\n",
    "    # Iterate from 2 to n (exclusive) to generate Fibonacci numbers\n",
    "    for i in range(2, n):\n",
    "        next_fib = fib_list[-1] + fib_list[-2]  # Calculate the next Fibonacci number\n",
    "        fib_list.append(next_fib)  # Add the next Fibonacci number to the list\n",
    "    \n",
    "    return fib_list[:n]  # Return the first n Fibonacci numbers\n",
    "\n",
    "# Example usage\n",
    "n = 10  # Change this to generate a different number of Fibonacci numbers\n",
    "fib_numbers = fibonacci(n)\n",
    "\n",
    "# Print the first n Fibonacci numbers\n",
    "print(f\"The first {n} Fibonacci numbers are:\", fib_numbers)\n"
   ]
  },
  {
   "cell_type": "code",
   "execution_count": 12,
   "id": "065921c1",
   "metadata": {},
   "outputs": [
    {
     "name": "stdout",
     "output_type": "stream",
     "text": [
      "numbers1 has duplicates: False\n",
      "numbers2 has duplicates: True\n"
     ]
    }
   ],
   "source": [
    "#Write a program to check if a given list contains any duplicates using a `for` loop.\n",
    "\n",
    "\n",
    "# Function to check for duplicates\n",
    "def has_duplicates(lst):\n",
    "    seen = set()  # Initialize an empty set to keep track of seen elements\n",
    "    for item in lst:\n",
    "        if item in seen:\n",
    "            return True  # Return True if item is already in the set (duplicate found)\n",
    "        seen.add(item)  # Add item to the set\n",
    "    return False  # Return False if no duplicates are found\n",
    "\n",
    "# Example usage\n",
    "numbers1 = [1, 2, 3, 4, 5, 6]\n",
    "numbers2 = [1, 2, 3, 4, 5, 5]\n",
    "\n",
    "# Check for duplicates\n",
    "print(\"numbers1 has duplicates:\", has_duplicates(numbers1))\n",
    "print(\"numbers2 has duplicates:\", has_duplicates(numbers2))\n"
   ]
  },
  {
   "cell_type": "code",
   "execution_count": 13,
   "id": "3fd5d8d6",
   "metadata": {},
   "outputs": [
    {
     "name": "stdout",
     "output_type": "stream",
     "text": [
      "Prime numbers between 10 and 50:\n",
      "11\n",
      "13\n",
      "17\n",
      "19\n",
      "23\n",
      "29\n",
      "31\n",
      "37\n",
      "41\n",
      "43\n",
      "47\n"
     ]
    }
   ],
   "source": [
    "#Create a program that prints the prime numbers in a given range using a `for` loop.\n",
    "\n",
    "# Function to check if a number is prime\n",
    "def is_prime(num):\n",
    "    if num <= 1:\n",
    "        return False  # 0 and 1 are not prime numbers\n",
    "    elif num == 2:\n",
    "        return True   # 2 is a prime number\n",
    "    elif num % 2 == 0:\n",
    "        return False  # Other even numbers are not prime\n",
    "    else:\n",
    "        # Check for factors from 3 to the square root of num, skipping even numbers\n",
    "        for i in range(3, int(num**0.5) + 1, 2):\n",
    "            if num % i == 0:\n",
    "                return False  # If num is divisible by any i, it's not prime\n",
    "        return True  # If no factors were found, num is prime\n",
    "\n",
    "# Function to print prime numbers in a given range\n",
    "def print_primes_in_range(start, end):\n",
    "    primes = []\n",
    "    for num in range(start, end + 1):\n",
    "        if is_prime(num):\n",
    "            primes.append(num)\n",
    "    \n",
    "    if primes:\n",
    "        print(f\"Prime numbers between {start} and {end}:\")\n",
    "        for prime in primes:\n",
    "            print(prime)\n",
    "    else:\n",
    "        print(f\"No prime numbers found between {start} and {end}\")\n",
    "\n",
    "# Example usage\n",
    "start_range = 10\n",
    "end_range = 50\n",
    "print_primes_in_range(start_range, end_range)\n"
   ]
  },
  {
   "cell_type": "code",
   "execution_count": 14,
   "id": "80dc6f7f",
   "metadata": {},
   "outputs": [
    {
     "name": "stdout",
     "output_type": "stream",
     "text": [
      "Number of vowels in 'Hello, World!': 3\n"
     ]
    }
   ],
   "source": [
    "#Develop a program that counts the number of vowels in a string using a `for` loop.\n",
    "# Python program to count the number of vowels in a string using a for loop\n",
    "\n",
    "# Function to count vowels in a string\n",
    "def count_vowels(input_string):\n",
    "    vowels = \"aeiouAEIOU\"  # Define the vowels\n",
    "    vowel_count = 0  # Initialize vowel count to 0\n",
    "\n",
    "    # Iterate through each character in the input_string\n",
    "    for char in input_string:\n",
    "        if char in vowels:\n",
    "            vowel_count += 1  # Increment vowel_count if char is a vowel\n",
    "\n",
    "    return vowel_count\n",
    "\n",
    "# Example usage\n",
    "input_string = \"Hello, World!\"\n",
    "\n",
    "# Count vowels in the input string\n",
    "num_vowels = count_vowels(input_string)\n",
    "\n",
    "# Print the number of vowels\n",
    "print(f\"Number of vowels in '{input_string}':\", num_vowels)\n"
   ]
  },
  {
   "cell_type": "code",
   "execution_count": 15,
   "id": "bef6cc27",
   "metadata": {},
   "outputs": [
    {
     "name": "stdout",
     "output_type": "stream",
     "text": [
      "Maximum element in the 2D list: 9\n"
     ]
    }
   ],
   "source": [
    "#Write a program to find the maximum element in a 2D list using a nested `for` loop.\n",
    "# Python program to find the maximum element in a 2D list using nested for loops\n",
    "\n",
    "# Function to find the maximum element in a 2D list\n",
    "def find_max_2d(arr):\n",
    "    max_element = float('-inf')  # Initialize max_element to negative infinity\n",
    "\n",
    "    # Iterate through each sublist in the 2D list\n",
    "    for row in arr:\n",
    "        for num in row:\n",
    "            if num > max_element:\n",
    "                max_element = num  # Update max_element if current num is greater\n",
    "\n",
    "    return max_element\n",
    "\n",
    "# Example usage\n",
    "matrix = [\n",
    "    [1, 2, 3],\n",
    "    [4, 5, 6],\n",
    "    [7, 8, 9]\n",
    "]\n",
    "\n",
    "# Find the maximum element in the 2D list\n",
    "max_element = find_max_2d(matrix)\n",
    "\n",
    "# Print the maximum element\n",
    "print(\"Maximum element in the 2D list:\", max_element)\n"
   ]
  },
  {
   "cell_type": "code",
   "execution_count": 16,
   "id": "1c363bc7",
   "metadata": {},
   "outputs": [
    {
     "name": "stdout",
     "output_type": "stream",
     "text": [
      "List after removing all occurrences of 2: [1, 3, 4, 5]\n"
     ]
    }
   ],
   "source": [
    "#Create a program that removes all occurrences of a specific element from a list using a `for` loop.\n",
    "\n",
    "# Function to remove all occurrences of a specific element from a list\n",
    "def remove_all_occurrences(lst, element):\n",
    "    # Iterate through the list using a for loop\n",
    "    # Note: We iterate backwards to safely remove elements while iterating\n",
    "    for i in range(len(lst) - 1, -1, -1):\n",
    "        if lst[i] == element:\n",
    "            del lst[i]  # Remove the element from the list\n",
    "\n",
    "# Example usage\n",
    "numbers = [1, 2, 3, 2, 4, 5, 2]\n",
    "\n",
    "# Remove all occurrences of 2 from the list\n",
    "remove_all_occurrences(numbers, 2)\n",
    "\n",
    "# Print the modified list\n",
    "print(\"List after removing all occurrences of 2:\", numbers)\n"
   ]
  },
  {
   "cell_type": "code",
   "execution_count": 17,
   "id": "c2571acd",
   "metadata": {},
   "outputs": [
    {
     "name": "stdout",
     "output_type": "stream",
     "text": [
      "       1   2   3   4   5\n",
      "------------------------\n",
      " 1 |   1   2   3   4   5\n",
      " 2 |   2   4   6   8  10\n",
      " 3 |   3   6   9  12  15\n",
      " 4 |   4   8  12  16  20\n",
      " 5 |   5  10  15  20  25\n"
     ]
    }
   ],
   "source": [
    "#Develop a program that generates a multiplication table for numbers from 1 to 5 using a nested `for` loop.\n",
    "# Python program to generate a multiplication table for numbers from 1 to 5 using nested for loops\n",
    "\n",
    "# Function to print the multiplication table\n",
    "def print_multiplication_table(n):\n",
    "    # Print the header row\n",
    "    print(\"    \", end=\"\")\n",
    "    for i in range(1, n + 1):\n",
    "        print(f\"{i:4}\", end=\"\")\n",
    "    print(\"\\n\" + \"-\" * (n * 4 + 4))\n",
    "\n",
    "    # Print each row of the multiplication table\n",
    "    for i in range(1, n + 1):\n",
    "        print(f\"{i:2} |\", end=\"\")  # Print the row header\n",
    "        for j in range(1, n + 1):\n",
    "            print(f\"{i * j:4}\", end=\"\")  # Print the product\n",
    "        print()\n",
    "\n",
    "# Example usage\n",
    "n = 5  # Generate multiplication table for numbers from 1 to 5\n",
    "print_multiplication_table(n)\n",
    "\n"
   ]
  },
  {
   "cell_type": "code",
   "execution_count": 19,
   "id": "1b1b5640",
   "metadata": {},
   "outputs": [
    {
     "name": "stdout",
     "output_type": "stream",
     "text": [
      "Fahrenheit temperatures: [32, 68, 77, 104, 212]\n",
      "Celsius temperatures: [0.0, 20.0, 25.0, 40.0, 100.0]\n"
     ]
    }
   ],
   "source": [
    "#Write a program that converts a list of Fahrenheit temperatures to Celsius using a `for` loop.\n",
    "# Python program to convert a list of Fahrenheit temperatures to Celsius using a for loop\n",
    "\n",
    "# Function to convert Fahrenheit to Celsius\n",
    "def fahrenheit_to_celsius(fahrenheit):\n",
    "    return (fahrenheit - 32) * 5 / 9\n",
    "\n",
    "# Function to convert a list of Fahrenheit temperatures to Celsius\n",
    "def convert_temperatures(fahrenheit_temps):\n",
    "    celsius_temps = []  # Initialize an empty list to store Celsius temperatures\n",
    "    for temp in fahrenheit_temps:\n",
    "        celsius = fahrenheit_to_celsius(temp)\n",
    "        celsius_temps.append(celsius)\n",
    "    return celsius_temps\n",
    "\n",
    "# Example usage\n",
    "fahrenheit_temps = [32, 68, 77, 104, 212]\n",
    "\n",
    "# Convert the list of Fahrenheit temperatures to Celsius\n",
    "celsius_temps = convert_temperatures(fahrenheit_temps)\n",
    "\n",
    "# Print the converted temperatures\n",
    "print(\"Fahrenheit temperatures:\", fahrenheit_temps)\n",
    "print(\"Celsius temperatures:\", celsius_temps)\n"
   ]
  },
  {
   "cell_type": "code",
   "execution_count": 21,
   "id": "827886af",
   "metadata": {},
   "outputs": [
    {
     "name": "stdout",
     "output_type": "stream",
     "text": [
      "Common elements: [4, 5]\n"
     ]
    }
   ],
   "source": [
    "#Create a program to print the common elements from two lists using a `for` loop.\n",
    "\n",
    "def find_common_elements(list1, list2):\n",
    "    common_elements = []  # Initialize an empty list to store common elements\n",
    "\n",
    "    # Iterate through each element in the first list\n",
    "    for elem in list1:\n",
    "        if elem in list2:\n",
    "            common_elements.append(elem)  # Append the element to the common_elements list if it is in the second list\n",
    "\n",
    "    # Print the common elements\n",
    "    print(\"Common elements:\", common_elements)\n",
    "\n",
    "# Example usage\n",
    "list1 = [1, 2, 3, 4, 5]\n",
    "list2 = [4, 5, 6, 7, 8]\n",
    "\n",
    "# Find and print the common elements from the two lists\n",
    "find_common_elements(list1, list2)\n"
   ]
  },
  {
   "cell_type": "code",
   "execution_count": 22,
   "id": "74f9ad85",
   "metadata": {},
   "outputs": [
    {
     "name": "stdout",
     "output_type": "stream",
     "text": [
      "*\n",
      "**\n",
      "***\n",
      "****\n",
      "*****\n"
     ]
    }
   ],
   "source": [
    "#Develop a program that prints the pattern of right-angled triangles using a `for` loop. Use ‘*’ to draw the pattern\n",
    "# Python program to print the pattern of right-angled triangles using a for loop\n",
    "\n",
    "# Function to print a right-angled triangle pattern\n",
    "def print_triangle(height):\n",
    "    for i in range(1, height + 1):  # Loop from 1 to height (inclusive)\n",
    "        print('*' * i)  # Print '*' i times to form each row\n",
    "\n",
    "# Example usage\n",
    "triangle_height = 5  # Change this value to adjust the height of the triangle\n",
    "print_triangle(triangle_height)\n"
   ]
  },
  {
   "cell_type": "code",
   "execution_count": 23,
   "id": "df35eaf2",
   "metadata": {},
   "outputs": [
    {
     "name": "stdout",
     "output_type": "stream",
     "text": [
      "The GCD of 56 and 98 is: 14\n"
     ]
    }
   ],
   "source": [
    "#Write a program to find the greatest common divisor (GCD) of two numbers using a `for` loop.\n",
    "\n",
    "# Function to find the GCD of two numbers\n",
    "def find_gcd(num1, num2):\n",
    "    # Initialize gcd to 1 (minimum GCD)\n",
    "    gcd = 1\n",
    "    \n",
    "    # Determine the smaller of the two numbers\n",
    "    smaller = min(num1, num2)\n",
    "    \n",
    "    # Iterate through all numbers from 1 to smaller\n",
    "    for i in range(1, smaller + 1):\n",
    "        if (num1 % i == 0) and (num2 % i == 0):\n",
    "            gcd = i  # Update gcd if i divides both num1 and num2\n",
    "            \n",
    "    return gcd\n",
    "\n",
    "# Example usage\n",
    "number1 = 56\n",
    "number2 = 98\n",
    "\n",
    "# Find and print the GCD of the two numbers\n",
    "gcd = find_gcd(number1, number2)\n",
    "print(f\"The GCD of {number1} and {number2} is: {gcd}\")\n"
   ]
  },
  {
   "cell_type": "code",
   "execution_count": 24,
   "id": "9c7b6c3c",
   "metadata": {},
   "outputs": [
    {
     "name": "stdout",
     "output_type": "stream",
     "text": [
      "Original numbers: [123, 456, 789, 1010]\n",
      "Sum of digits: [6, 15, 24, 2]\n"
     ]
    }
   ],
   "source": [
    "#Create a program that calculates the sum of the digits of numbers in a list using a list comprehension.\n",
    "# Python program to calculate the sum of the digits of numbers in a list using a list comprehension\n",
    "\n",
    "# Function to calculate the sum of the digits of a number\n",
    "def sum_of_digits(number):\n",
    "    return sum(int(digit) for digit in str(number))\n",
    "\n",
    "# List of numbers\n",
    "numbers = [123, 456, 789, 1010]\n",
    "\n",
    "# Using a list comprehension to calculate the sum of the digits for each number in the list\n",
    "sums_of_digits = [sum_of_digits(number) for number in numbers]\n",
    "\n",
    "# Print the result\n",
    "print(\"Original numbers:\", numbers)\n",
    "print(\"Sum of digits:\", sums_of_digits)\n"
   ]
  },
  {
   "cell_type": "code",
   "execution_count": 25,
   "id": "c4d3cac8",
   "metadata": {},
   "outputs": [
    {
     "name": "stdout",
     "output_type": "stream",
     "text": [
      "Prime factors of 56: [2, 7]\n"
     ]
    }
   ],
   "source": [
    "#Write a program to find the prime factors of a given number using a `for` loop and list comprehension.\n",
    "\n",
    "\n",
    "# Function to check if a number is prime\n",
    "def is_prime(n):\n",
    "    if n <= 1:\n",
    "        return False\n",
    "    for i in range(2, int(n**0.5) + 1):\n",
    "        if n % i == 0:\n",
    "            return False\n",
    "    return True\n",
    "\n",
    "# Function to find prime factors of a given number\n",
    "def prime_factors(number):\n",
    "    factors = []\n",
    "    # Check for factors from 2 to the given number\n",
    "    for i in range(2, number + 1):\n",
    "        # If i is a factor and is prime, add to the list\n",
    "        if number % i == 0 and is_prime(i):\n",
    "            factors.append(i)\n",
    "    return factors\n",
    "\n",
    "# Example usage\n",
    "num = 56\n",
    "\n",
    "# Find and print the prime factors of the number\n",
    "prime_factors_of_num = prime_factors(num)\n",
    "print(f\"Prime factors of {num}: {prime_factors_of_num}\")\n"
   ]
  },
  {
   "cell_type": "code",
   "execution_count": 26,
   "id": "39ab783a",
   "metadata": {},
   "outputs": [
    {
     "name": "stdout",
     "output_type": "stream",
     "text": [
      "Original list: [1, 2, 2, 3, 4, 4, 5, 5, 5, 6]\n",
      "List of unique elements: [1, 2, 3, 4, 5, 6]\n"
     ]
    }
   ],
   "source": [
    "#Develop a program that extracts unique elements from a list and stores them in a new list using a list comprehension.\n",
    "\n",
    "# Function to extract unique elements using a list comprehension\n",
    "def unique_elements(lst):\n",
    "    # Use list comprehension to filter out elements that have already appeared in the list\n",
    "    return [elem for i, elem in enumerate(lst) if elem not in lst[:i]]\n",
    "\n",
    "# Example usage\n",
    "numbers = [1, 2, 2, 3, 4, 4, 5, 5, 5, 6]\n",
    "\n",
    "# Extract unique elements from the list\n",
    "unique_numbers = unique_elements(numbers)\n",
    "\n",
    "# Print the original list and the list of unique elements\n",
    "print(\"Original list:\", numbers)\n",
    "print(\"List of unique elements:\", unique_numbers)\n"
   ]
  },
  {
   "cell_type": "code",
   "execution_count": 27,
   "id": "1867c8c7",
   "metadata": {},
   "outputs": [
    {
     "name": "stdout",
     "output_type": "stream",
     "text": [
      "Palindromic numbers up to 200 : [0, 1, 2, 3, 4, 5, 6, 7, 8, 9, 11, 22, 33, 44, 55, 66, 77, 88, 99, 101, 111, 121, 131, 141, 151, 161, 171, 181, 191]\n"
     ]
    }
   ],
   "source": [
    "#Create a program that generates a list of all palindromic numbers up to a specified limit using a list comprehension.\n",
    "# Python program to generate a list of all palindromic numbers up to a specified limit using a list comprehension\n",
    "\n",
    "# Function to check if a number is a palindrome\n",
    "def is_palindrome(num):\n",
    "    return str(num) == str(num)[::-1]\n",
    "\n",
    "# Function to generate palindromic numbers up to a specified limit\n",
    "def generate_palindromic_numbers(limit):\n",
    "    return [num for num in range(limit + 1) if is_palindrome(num)]\n",
    "\n",
    "# Example usage\n",
    "limit = 200  # Change this value to set the limit\n",
    "\n",
    "# Generate the list of palindromic numbers up to the specified limit\n",
    "palindromic_numbers = generate_palindromic_numbers(limit)\n",
    "\n",
    "# Print the list of palindromic numbers\n",
    "print(\"Palindromic numbers up to\", limit, \":\", palindromic_numbers)\n"
   ]
  },
  {
   "cell_type": "code",
   "execution_count": 28,
   "id": "66859929",
   "metadata": {},
   "outputs": [
    {
     "name": "stdout",
     "output_type": "stream",
     "text": [
      "Original nested list: [[1, 2, 3], [4, 5], [6, 7, 8, 9]]\n",
      "Flattened list: [1, 2, 3, 4, 5, 6, 7, 8, 9]\n"
     ]
    }
   ],
   "source": [
    "#. Write a program to flatten a nested list using list comprehension.\n",
    "# Python program to flatten a nested list using list comprehension\n",
    "\n",
    "# Function to flatten a nested list\n",
    "def flatten_list(nested_list):\n",
    "    return [item for sublist in nested_list for item in sublist]\n",
    "\n",
    "# Example usage\n",
    "nested_list = [[1, 2, 3], [4, 5], [6, 7, 8, 9]]\n",
    "\n",
    "# Flatten the nested list\n",
    "flattened_list = flatten_list(nested_list)\n",
    "\n",
    "# Print the original nested list and the flattened list\n",
    "print(\"Original nested list:\", nested_list)\n",
    "print(\"Flattened list:\", flattened_list)\n"
   ]
  },
  {
   "cell_type": "code",
   "execution_count": 29,
   "id": "94780395",
   "metadata": {},
   "outputs": [
    {
     "name": "stdout",
     "output_type": "stream",
     "text": [
      "Original list of numbers: [1, 2, 3, 4, 5, 6, 7, 8, 9, 10]\n",
      "Sum of even numbers: 30\n",
      "Sum of odd numbers: 25\n"
     ]
    }
   ],
   "source": [
    "#Develop a program that computes the sum of even and odd numbers in a list separately using list comprehension.\n",
    "# Python program to compute the sum of even and odd numbers in a list separately using list comprehension\n",
    "\n",
    "# Example list of numbers\n",
    "numbers = [1, 2, 3, 4, 5, 6, 7, 8, 9, 10]\n",
    "\n",
    "# Using list comprehension to compute sum of even and odd numbers separately\n",
    "sum_even = sum([num for num in numbers if num % 2 == 0])\n",
    "sum_odd = sum([num for num in numbers if num % 2 != 0])\n",
    "\n",
    "# Print the results\n",
    "print(\"Original list of numbers:\", numbers)\n",
    "print(\"Sum of even numbers:\", sum_even)\n",
    "print(\"Sum of odd numbers:\", sum_odd)\n"
   ]
  },
  {
   "cell_type": "code",
   "execution_count": 30,
   "id": "e88dc7d8",
   "metadata": {},
   "outputs": [
    {
     "name": "stdout",
     "output_type": "stream",
     "text": [
      "List of squares of odd numbers between 1 and 10: [1, 9, 25, 49, 81]\n"
     ]
    }
   ],
   "source": [
    "#Create a program that generates a list of squares of odd numbers between 1 and 10 using list comprehension.\n",
    "# Python program to generate a list of squares of odd numbers between 1 and 10 using list comprehension\n",
    "\n",
    "# Generate squares of odd numbers between 1 and 10 using list comprehension\n",
    "squares_of_odd_numbers = [num**2 for num in range(1, 11) if num % 2 != 0]\n",
    "\n",
    "# Print the result\n",
    "print(\"List of squares of odd numbers between 1 and 10:\", squares_of_odd_numbers)\n"
   ]
  },
  {
   "cell_type": "code",
   "execution_count": 31,
   "id": "43352ea7",
   "metadata": {},
   "outputs": [
    {
     "name": "stdout",
     "output_type": "stream",
     "text": [
      "Combined dictionary: {'a': 1, 'b': 2, 'c': 3}\n"
     ]
    }
   ],
   "source": [
    "#Write a program that combines two lists into a dictionary using list comprehension.\n",
    "# Python program to combine two lists into a dictionary using list comprehension\n",
    "\n",
    "# Example lists\n",
    "keys = ['a', 'b', 'c']\n",
    "values = [1, 2, 3]\n",
    "\n",
    "# Combine lists into a dictionary using list comprehension\n",
    "combined_dict = {keys[i]: values[i] for i in range(min(len(keys), len(values)))}\n",
    "\n",
    "# Print the combined dictionary\n",
    "print(\"Combined dictionary:\", combined_dict)\n"
   ]
  },
  {
   "cell_type": "code",
   "execution_count": 32,
   "id": "0ca0e037",
   "metadata": {},
   "outputs": [
    {
     "name": "stdout",
     "output_type": "stream",
     "text": [
      "Vowels in the string: ['e', 'o', 'o']\n"
     ]
    }
   ],
   "source": [
    "#Develop a program that extracts the vowels from a string and stores them in a list using list comprehension.\n",
    "\n",
    "# Function to check if a character is a vowel\n",
    "def is_vowel(char):\n",
    "    vowels = 'aeiouAEIOU'\n",
    "    return char in vowels\n",
    "\n",
    "# Example string\n",
    "string = \"Hello, World!\"\n",
    "\n",
    "# Extract vowels from the string using list comprehension\n",
    "vowels_list = [char for char in string if is_vowel(char)]\n",
    "\n",
    "# Print the list of vowels\n",
    "print(\"Vowels in the string:\", vowels_list)\n"
   ]
  },
  {
   "cell_type": "code",
   "execution_count": 33,
   "id": "736110b0",
   "metadata": {},
   "outputs": [
    {
     "name": "stdout",
     "output_type": "stream",
     "text": [
      "Original list of strings: ['abc123', '456def', '789ghi', 'jklmno']\n",
      "Filtered list with only numeric characters: ['123', '456', '789', '']\n"
     ]
    }
   ],
   "source": [
    "#Create a program that removes all non-numeric characters from a list of strings using list comprehension.\n",
    "# Python program to remove all non-numeric characters from a list of strings using list comprehension\n",
    "\n",
    "# Example list of strings\n",
    "strings = [\"abc123\", \"456def\", \"789ghi\", \"jklmno\"]\n",
    "\n",
    "# Function to filter non-numeric characters from a string\n",
    "def filter_numeric_chars(string):\n",
    "    return ''.join(char for char in string if char.isdigit())\n",
    "\n",
    "# Use list comprehension to apply the function to each string in the list\n",
    "filtered_strings = [filter_numeric_chars(string) for string in strings]\n",
    "\n",
    "# Print the original list and the filtered list\n",
    "print(\"Original list of strings:\", strings)\n",
    "print(\"Filtered list with only numeric characters:\", filtered_strings)\n"
   ]
  },
  {
   "cell_type": "code",
   "execution_count": 34,
   "id": "5dd6c6c2",
   "metadata": {},
   "outputs": [
    {
     "name": "stdout",
     "output_type": "stream",
     "text": [
      "Prime numbers up to 50: [2, 3, 5, 7, 11, 13, 17, 19, 23, 29, 31, 37, 41, 43, 47]\n"
     ]
    }
   ],
   "source": [
    "#Write a program to generate a list of prime numbers using the Sieve of Eratosthenes algorithm and list comprehension.\n",
    "\n",
    "def sieve_of_eratosthenes(n):\n",
    "    # Initialize a list to track prime numbers\n",
    "    primes = [True] * (n + 1)\n",
    "    primes[0] = primes[1] = False  # 0 and 1 are not prime numbers\n",
    "    \n",
    "    # Apply the Sieve of Eratosthenes algorithm\n",
    "    for i in range(2, int(n**0.5) + 1):\n",
    "        if primes[i]:\n",
    "            primes[i*i: n+1: i] = [False] * len(primes[i*i: n+1: i])\n",
    "    \n",
    "    # Return list of prime numbers using list comprehension\n",
    "    return [num for num, is_prime in enumerate(primes) if is_prime]\n",
    "\n",
    "# Example usage\n",
    "limit = 50  # Change this value to set the limit\n",
    "\n",
    "# Generate the list of prime numbers up to the specified limit\n",
    "prime_numbers = sieve_of_eratosthenes(limit)\n",
    "\n",
    "# Print the list of prime numbers\n",
    "print(f\"Prime numbers up to {limit}:\", prime_numbers)\n"
   ]
  },
  {
   "cell_type": "code",
   "execution_count": 35,
   "id": "b3422b2f",
   "metadata": {},
   "outputs": [
    {
     "name": "stdout",
     "output_type": "stream",
     "text": [
      "Pythagorean triplets up to 20: [(3, 4, 5), (6, 8, 10), (5, 12, 13), (9, 12, 15), (8, 15, 17), (12, 16, 20)]\n"
     ]
    }
   ],
   "source": [
    "#Create a program that generates a list of all Pythagorean triplets up to a specified limit using list comprehension.\n",
    "# Python program to generate a list of all Pythagorean triplets up to a specified limit using list comprehension\n",
    "\n",
    "def generate_pythagorean_triplets(limit):\n",
    "    triplets = [(a, b, c) for c in range(1, limit + 1) for b in range(1, c) for a in range(1, b) if a**2 + b**2 == c**2]\n",
    "    return triplets\n",
    "\n",
    "# Example usage\n",
    "limit = 20  # Change this value to set the limit\n",
    "\n",
    "# Generate the list of Pythagorean triplets up to the specified limit\n",
    "pythagorean_triplets = generate_pythagorean_triplets(limit)\n",
    "\n",
    "# Print the list of Pythagorean triplets\n",
    "print(f\"Pythagorean triplets up to {limit}:\", pythagorean_triplets)\n"
   ]
  },
  {
   "cell_type": "code",
   "execution_count": 36,
   "id": "bf85aeec",
   "metadata": {},
   "outputs": [
    {
     "name": "stdout",
     "output_type": "stream",
     "text": [
      "All possible combinations of two lists:\n",
      "(1, 'a')\n",
      "(1, 'b')\n",
      "(2, 'a')\n",
      "(2, 'b')\n",
      "(3, 'a')\n",
      "(3, 'b')\n"
     ]
    }
   ],
   "source": [
    "#Develop a program that generates a list of all possible combinations of two lists using list comprehension.\n",
    "# Python program to generate a list of all possible combinations of two lists using list comprehension\n",
    "\n",
    "# Example lists\n",
    "list1 = [1, 2, 3]\n",
    "list2 = ['a', 'b']\n",
    "\n",
    "# Generate all combinations using list comprehension\n",
    "combinations = [(x, y) for x in list1 for y in list2]\n",
    "\n",
    "# Print the list of combinations\n",
    "print(\"All possible combinations of two lists:\")\n",
    "for combination in combinations:\n",
    "    print(combination)\n"
   ]
  },
  {
   "cell_type": "code",
   "execution_count": 39,
   "id": "55ba5e9e",
   "metadata": {},
   "outputs": [
    {
     "name": "stdout",
     "output_type": "stream",
     "text": [
      "List of numbers: [1, 3, 2, 4, 2, 5, 2, 6, 2, 7]\n",
      "Mean: 3.4\n",
      "Median: 2.5\n",
      "Mode: 2\n"
     ]
    }
   ],
   "source": [
    "#Write a program that calculates the mean, median, and mode of a list of numbers using list comprehension.\n",
    "import statistics\n",
    "\n",
    "# Example list of numbers\n",
    "numbers = [1, 3, 2, 4, 2, 5, 2, 6, 2, 7]\n",
    "\n",
    "# Calculate mean using list comprehension\n",
    "mean = sum(numbers) / len(numbers)\n",
    "\n",
    "# Calculate median using statistics module\n",
    "sorted_numbers = sorted(numbers)\n",
    "n = len(numbers)\n",
    "if n % 2 == 0:\n",
    "    median = (sorted_numbers[n // 2 - 1] + sorted_numbers[n // 2]) / 2\n",
    "else:\n",
    "    median = sorted_numbers[n // 2]\n",
    "\n",
    "# Calculate mode using statistics module\n",
    "mode = statistics.mode(numbers)\n",
    "\n",
    "# Print the results\n",
    "print(\"List of numbers:\", numbers)\n",
    "print(\"Mean:\", mean)\n",
    "print(\"Median:\", median)\n",
    "print(\"Mode:\", mode)\n",
    "\n"
   ]
  },
  {
   "cell_type": "code",
   "execution_count": 40,
   "id": "538ad740",
   "metadata": {},
   "outputs": [
    {
     "name": "stdout",
     "output_type": "stream",
     "text": [
      "             1              \n",
      "            1 1             \n",
      "           1 2 1            \n",
      "          1 3 3 1           \n",
      "         1 4 6 4 1          \n",
      "       1 5 10 10 5 1        \n",
      "      1 6 15 20 15 6 1      \n"
     ]
    }
   ],
   "source": [
    "#Create a program that generates Pascal's triangle up to a specified number of rows using list comprehension.\n",
    "def generate_pascals_triangle(num_rows):\n",
    "    triangle = [[1] * (row + 1) for row in range(num_rows)]\n",
    "    for row in range(2, num_rows):\n",
    "        for col in range(1, row):\n",
    "            triangle[row][col] = triangle[row-1][col-1] + triangle[row-1][col]\n",
    "    return triangle\n",
    "\n",
    "def print_pascals_triangle(triangle):\n",
    "    for row in triangle:\n",
    "        print(\" \".join(map(str, row)).center(len(triangle[-1]) * 4))\n",
    "\n",
    "# Example usage\n",
    "num_rows = 7\n",
    "pascals_triangle = generate_pascals_triangle(num_rows)\n",
    "print_pascals_triangle(pascals_triangle)\n"
   ]
  },
  {
   "cell_type": "code",
   "execution_count": 41,
   "id": "c0dca287",
   "metadata": {},
   "outputs": [
    {
     "name": "stdout",
     "output_type": "stream",
     "text": [
      "Sum of digits of 1!: 1\n",
      "Sum of digits of 2!: 2\n",
      "Sum of digits of 3!: 6\n",
      "Sum of digits of 4!: 6\n",
      "Sum of digits of 5!: 3\n"
     ]
    }
   ],
   "source": [
    "#Develop a program that calculates the sum of the digits of a factorial of numbers from 1 to 5 using list comprehension.\n",
    "# Function to calculate factorial of a number\n",
    "def factorial(n):\n",
    "    if n == 0 or n == 1:\n",
    "        return 1\n",
    "    else:\n",
    "        return n * factorial(n - 1)\n",
    "\n",
    "# Calculate factorial for numbers from 1 to 5\n",
    "factorials = [factorial(i) for i in range(1, 6)]\n",
    "\n",
    "# Function to calculate sum of digits of a number\n",
    "def sum_of_digits(number):\n",
    "    return sum(int(digit) for digit in str(number))\n",
    "\n",
    "# Calculate sum of digits of factorials using list comprehension\n",
    "sum_of_digits_list = [sum_of_digits(factorial) for factorial in factorials]\n",
    "\n",
    "# Print results\n",
    "for i in range(1, 6):\n",
    "    print(f\"Sum of digits of {i}!: {sum_of_digits_list[i - 1]}\")\n"
   ]
  },
  {
   "cell_type": "code",
   "execution_count": 42,
   "id": "a9d98183",
   "metadata": {},
   "outputs": [
    {
     "name": "stdout",
     "output_type": "stream",
     "text": [
      "The longest word in the sentence 'Hello, welcome to the world of Python programming' is: 'programming'\n"
     ]
    }
   ],
   "source": [
    "#Write a program that finds the longest word in a sentence using list comprehension.\n",
    "# Function to find the longest word in a sentence\n",
    "def longest_word(sentence):\n",
    "    # Split the sentence into words\n",
    "    words = sentence.split()\n",
    "    \n",
    "    # Use list comprehension to find the longest word\n",
    "    longest = max(words, key=lambda word: len(word))\n",
    "    \n",
    "    return longest\n",
    "\n",
    "# Example usage\n",
    "sentence = \"Hello, welcome to the world of Python programming\"\n",
    "longest = longest_word(sentence)\n",
    "print(f\"The longest word in the sentence '{sentence}' is: '{longest}'\")\n"
   ]
  },
  {
   "cell_type": "code",
   "execution_count": 44,
   "id": "418fb87a",
   "metadata": {},
   "outputs": [
    {
     "name": "stdout",
     "output_type": "stream",
     "text": [
      "Original list of strings: ['hello', 'world', 'programming', 'Python', 'algorithm', 'AI', 'OpenAI']\n",
      "Filtered strings with more than three vowels: ['OpenAI']\n"
     ]
    }
   ],
   "source": [
    "\n",
    "#Create a program that filters a list of strings to include only those with more than three vowels using list comprehension.\n",
    "# Function to count vowels in a string\n",
    "def count_vowels(string):\n",
    "    vowels = \"aeiouAEIOU\"\n",
    "    return sum(1 for char in string if char in vowels)\n",
    "\n",
    "# Function to filter strings with more than three vowels\n",
    "def filter_strings_with_more_than_three_vowels(strings):\n",
    "    return [string for string in strings if count_vowels(string) > 3]\n",
    "\n",
    "# Example list of strings\n",
    "strings = [\"hello\", \"world\", \"programming\", \"Python\", \"algorithm\", \"AI\", \"OpenAI\"]\n",
    "\n",
    "# Filter strings with more than three vowels using list comprehension\n",
    "filtered_strings = filter_strings_with_more_than_three_vowels(strings)\n",
    "\n",
    "# Print the filtered strings\n",
    "print(\"Original list of strings:\", strings)\n",
    "print(\"Filtered strings with more than three vowels:\", filtered_strings)\n",
    "\n"
   ]
  },
  {
   "cell_type": "code",
   "execution_count": 45,
   "id": "008883b2",
   "metadata": {},
   "outputs": [
    {
     "name": "stdout",
     "output_type": "stream",
     "text": [
      "The total sum of digits from 1 to 1000 is: 13501\n"
     ]
    }
   ],
   "source": [
    "#Develop a program that calculates the sum of the digits of numbers from 1 to 1000 using list comprehension.\n",
    "# Function to calculate sum of digits of a number\n",
    "def sum_of_digits(number):\n",
    "    return sum(int(digit) for digit in str(number))\n",
    "\n",
    "# Calculate sum of digits for numbers from 1 to 1000 using list comprehension\n",
    "sum_of_digits_list = [sum_of_digits(num) for num in range(1, 1001)]\n",
    "\n",
    "# Calculate total sum of digits\n",
    "total_sum = sum(sum_of_digits_list)\n",
    "\n",
    "# Print the total sum of digits\n",
    "print(f\"The total sum of digits from 1 to 1000 is: {total_sum}\")\n"
   ]
  },
  {
   "cell_type": "code",
   "execution_count": 46,
   "id": "228f2147",
   "metadata": {},
   "outputs": [
    {
     "name": "stdout",
     "output_type": "stream",
     "text": [
      "List of prime palindromic numbers up to 1000:\n",
      "[2, 3, 5, 7, 11, 101, 131, 151, 181, 191, 313, 353, 373, 383, 727, 757, 787, 797, 919, 929]\n"
     ]
    }
   ],
   "source": [
    "#Write a program that generates a list of prime palindromic numbers using list comprehension.\n",
    "# Function to check if a number is prime\n",
    "def is_prime(num):\n",
    "    if num <= 1:\n",
    "        return False\n",
    "    if num == 2:\n",
    "        return True  # 2 is prime\n",
    "    if num % 2 == 0:\n",
    "        return False  # other even numbers are not prime\n",
    "    for i in range(3, int(num**0.5) + 1, 2):\n",
    "        if num % i == 0:\n",
    "            return False\n",
    "    return True\n",
    "\n",
    "# Function to check if a number is a palindrome\n",
    "def is_palindrome(num):\n",
    "    return str(num) == str(num)[::-1]\n",
    "\n",
    "# Generate list of prime palindromic numbers using list comprehension\n",
    "prime_palindromes = [num for num in range(1, 1000) if is_prime(num) and is_palindrome(num)]\n",
    "\n",
    "# Print the list of prime palindromic numbers\n",
    "print(\"List of prime palindromic numbers up to 1000:\")\n",
    "print(prime_palindromes)\n"
   ]
  },
  {
   "cell_type": "code",
   "execution_count": null,
   "id": "a112a652",
   "metadata": {},
   "outputs": [],
   "source": []
  }
 ],
 "metadata": {
  "kernelspec": {
   "display_name": "Python 3 (ipykernel)",
   "language": "python",
   "name": "python3"
  },
  "language_info": {
   "codemirror_mode": {
    "name": "ipython",
    "version": 3
   },
   "file_extension": ".py",
   "mimetype": "text/x-python",
   "name": "python",
   "nbconvert_exporter": "python",
   "pygments_lexer": "ipython3",
   "version": "3.11.5"
  }
 },
 "nbformat": 4,
 "nbformat_minor": 5
}
