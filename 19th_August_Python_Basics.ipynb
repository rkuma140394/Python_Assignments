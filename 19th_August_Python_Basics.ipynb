{
 "cells": [
  {
   "cell_type": "code",
   "execution_count": 3,
   "id": "62221d9c-785d-4009-bc3d-a2b2e35a553e",
   "metadata": {},
   "outputs": [
    {
     "name": "stdout",
     "output_type": "stream",
     "text": [
      "x = 8\n",
      "y = 17\n",
      "x = 17\n",
      "y = 8\n"
     ]
    }
   ],
   "source": [
    "# Q1. Declare two variables, `x` and `y`, and assign them integer values. Swap the values of these variables without using any temporary variable.\n",
    "\n",
    "x = 8\n",
    "y = 17\n",
    "\n",
    "\n",
    "# Swapping with the help of arithmetic operations\n",
    "x = x + y # x= 25\n",
    "y = x - y # y = 25 - 17 = 8\n",
    "x = x - y # x = 25 - 8 = 17\n",
    "\n",
    "print(\"x =\", x)\n",
    "print(\"y =\", y)"
   ]
  },
  {
   "cell_type": "code",
   "execution_count": 8,
   "id": "5df0c389-3d3c-4345-b8f6-7c3c5ec234bc",
   "metadata": {},
   "outputs": [
    {
     "name": "stdin",
     "output_type": "stream",
     "text": [
      "Enter the length of the rectangle:  10\n",
      "Enter the width of the rectangle:  4\n"
     ]
    },
    {
     "name": "stdout",
     "output_type": "stream",
     "text": [
      "The area of the rectangle is: 40.0\n"
     ]
    }
   ],
   "source": [
    "# Q2. Create a program that calculates the area of a rectangle. Take the length and width as inputs from the user and store them in variables. Calculate and display the area.\n",
    "# Function to calculate the area of a rectangle\n",
    "def calculate_area(len, width):\n",
    "    return len * width\n",
    "\n",
    "# Taking length and width as inputs from the user\n",
    "len = float(input(\"Enter the length of the rectangle: \"))\n",
    "width = float(input(\"Enter the width of the rectangle: \"))\n",
    "\n",
    "# Calculating the area\n",
    "area = calculate_area(len, width)\n",
    "\n",
    "# Displaying the area\n",
    "print(f\"The area of the rectangle is: {area}\")\n"
   ]
  },
  {
   "cell_type": "code",
   "execution_count": 9,
   "id": "aeaa3be8-b790-4dfe-9f60-19768de9e671",
   "metadata": {},
   "outputs": [
    {
     "name": "stdin",
     "output_type": "stream",
     "text": [
      "Enter the temperature in Celsius:  45\n"
     ]
    },
    {
     "name": "stdout",
     "output_type": "stream",
     "text": [
      "The temperature in Fahrenheit is: 113.0\n"
     ]
    }
   ],
   "source": [
    "# Q3. Write a Python program that converts temperatures from Celsius to Fahrenheit. Take the temperature in Celsius as input, store it in a variable,convert it to Fahrenheit, and display the result.\n",
    "\n",
    "# Function to convert Celsius to Fahrenheit\n",
    "def celsius_to_fahrenheit(celsius):\n",
    "    return (celsius * 9/5) + 32\n",
    "\n",
    "# Taking the temperature in Celsius as input from the user\n",
    "celsius = float(input(\"Enter the temperature in Celsius: \"))\n",
    "\n",
    "# Converting to Fahrenheit\n",
    "fahrenheit = celsius_to_fahrenheit(celsius)\n",
    "\n",
    "# Displaying the result\n",
    "print(f\"The temperature in Fahrenheit is: {fahrenheit}\")\n"
   ]
  },
  {
   "cell_type": "code",
   "execution_count": 1,
   "id": "e74bfc45-5d58-4b1a-b6a3-ee360b707d92",
   "metadata": {},
   "outputs": [
    {
     "name": "stdin",
     "output_type": "stream",
     "text": [
      "Enter a string:  rohit\n"
     ]
    },
    {
     "name": "stdout",
     "output_type": "stream",
     "text": [
      "The length of the string is: 5\n"
     ]
    }
   ],
   "source": [
    "                                                      #String Based Questions\n",
    "\n",
    "# Q4.  Taking the string as input from the user\n",
    "\n",
    "# Taking the string as input from the user\n",
    "user_input = input(\"Enter a string: \")\n",
    "\n",
    "# Calculating the length of the string\n",
    "length_of_string = len(user_input)\n",
    "\n",
    "# Displaying the length of the string\n",
    "print(f\"The length of the string is: {length_of_string}\")"
   ]
  },
  {
   "cell_type": "code",
   "execution_count": 2,
   "id": "a7025798-a0d5-45de-9f3f-eb4ed0f47e3d",
   "metadata": {},
   "outputs": [
    {
     "name": "stdin",
     "output_type": "stream",
     "text": [
      "Enter a sentence:  my name is rohit kumar\n"
     ]
    },
    {
     "name": "stdout",
     "output_type": "stream",
     "text": [
      "The number of vowels in the sentence is: 7\n"
     ]
    }
   ],
   "source": [
    "# Q3\n",
    "# Function to count the number of vowels in a string\n",
    "def count_vowels(sentence):\n",
    "    vowels = \"aeiouAEIOU\"\n",
    "    count = 0\n",
    "    for char in sentence:\n",
    "        if char in vowels:\n",
    "            count += 1\n",
    "    return count\n",
    "\n",
    "# Taking the sentence as input from the user\n",
    "user_sentence = input(\"Enter a sentence: \")\n",
    "\n",
    "# Counting the number of vowels\n",
    "vowel_count = count_vowels(user_sentence)\n",
    "\n",
    "# Displaying the number of vowels\n",
    "print(f\"The number of vowels in the sentence is: {vowel_count}\")\n"
   ]
  },
  {
   "cell_type": "code",
   "execution_count": 4,
   "id": "c131bee5-5ff7-49d8-809a-80815e8368a5",
   "metadata": {},
   "outputs": [
    {
     "name": "stdin",
     "output_type": "stream",
     "text": [
      "Enter a string:  qazxsw\n"
     ]
    },
    {
     "name": "stdout",
     "output_type": "stream",
     "text": [
      "The reversed string is: wsxzaq\n"
     ]
    }
   ],
   "source": [
    "# Q5. Given a string, reverse the order of characters using string slicing and print\n",
    "the reversed string.\n",
    "# Taking the string as input from the user\n",
    "user_input = input(\"Enter a string: \")\n",
    "\n",
    "# Reversing the order of characters using string slicing\n",
    "reversed_string = user_input[::-1]\n",
    "\n",
    "# Displaying the reversed string\n",
    "print(f\"The reversed string is: {reversed_string}\")\n"
   ]
  },
  {
   "cell_type": "code",
   "execution_count": 7,
   "id": "2d085924-518f-4097-a88a-000905bcb503",
   "metadata": {},
   "outputs": [
    {
     "name": "stdin",
     "output_type": "stream",
     "text": [
      "Enter a string:  qweewq\n"
     ]
    },
    {
     "name": "stdout",
     "output_type": "stream",
     "text": [
      "The string is a palindrome.\n"
     ]
    }
   ],
   "source": [
    "# Q3 Write a program that takes a string as input and checks if it is a palindrome(reads the same forwards and backwards).\n",
    "# Function to check if a string is a palindrome\n",
    "def is_palindrome(s):\n",
    "    # Removing non-alphanumeric characters and converting to lowercase\n",
    "    cleaned_string = ''.join(char.lower() for char in s if char.isalnum())\n",
    "    # Checking if the cleaned string is equal to its reverse\n",
    "    return cleaned_string == cleaned_string[::-1]\n",
    "\n",
    "# Taking the string as input from the user\n",
    "user_input = input(\"Enter a string: \")\n",
    "\n",
    "# Checking if the string is a palindrome\n",
    "if is_palindrome(user_input):\n",
    "    print(\"The string is a palindrome.\")\n",
    "else:\n",
    "    print(\"The string is not a palindrome.\")\n"
   ]
  },
  {
   "cell_type": "code",
   "execution_count": null,
   "id": "9b85fdb3-1ef2-41a5-9e35-8a706529c28c",
   "metadata": {},
   "outputs": [],
   "source": [
    "# Taking the string as input from the user\n",
    "user_input = input(\"Enter a string: \")\n",
    "\n",
    "# Removing spaces from the string\n",
    "modified_string = user_input.replace(\" \", \"\")\n",
    "\n",
    "# Displaying the modified string without spaces\n",
    "print(\"Modified string without spaces:\", modified_string)\n"
   ]
  },
  {
   "cell_type": "code",
   "execution_count": null,
   "id": "60119c41-151c-4e97-a6da-5e234e07dc4c",
   "metadata": {},
   "outputs": [],
   "source": []
  }
 ],
 "metadata": {
  "kernelspec": {
   "display_name": "Python 3 (ipykernel)",
   "language": "python",
   "name": "python3"
  },
  "language_info": {
   "codemirror_mode": {
    "name": "ipython",
    "version": 3
   },
   "file_extension": ".py",
   "mimetype": "text/x-python",
   "name": "python",
   "nbconvert_exporter": "python",
   "pygments_lexer": "ipython3",
   "version": "3.11.7"
  }
 },
 "nbformat": 4,
 "nbformat_minor": 5
}
